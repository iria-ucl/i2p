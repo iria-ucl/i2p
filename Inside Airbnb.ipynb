{
 "cells": [
  {
   "cell_type": "code",
   "execution_count": 246,
   "metadata": {},
   "outputs": [
    {
     "name": "stdout",
     "output_type": "stream",
     "text": [
      "Data frame is 74,188 x 74\n"
     ]
    }
   ],
   "source": [
    "# Set download URL\n",
    "url = 'https://github.com/jreades/i2p/raw/master/data/src/2020-08-24-listings.csv.gz'\n",
    "\n",
    "# your code here\n",
    "import pandas as pd\n",
    "df = pd.read_csv(url, compression='gzip', low_memory=False)\n",
    "\n",
    "print(f\"Data frame is {df.shape[0]:,} x {df.shape[1]}\")"
   ]
  },
  {
   "cell_type": "code",
   "execution_count": 247,
   "metadata": {},
   "outputs": [
    {
     "name": "stdout",
     "output_type": "stream",
     "text": [
      "<class 'pandas.core.frame.DataFrame'>\n",
      "RangeIndex: 74188 entries, 0 to 74187\n",
      "Data columns (total 74 columns):\n",
      " #   Column                                        Non-Null Count  Dtype  \n",
      "---  ------                                        --------------  -----  \n",
      " 0   id                                            74186 non-null  float64\n",
      " 1   listing_url                                   74187 non-null  object \n",
      " 2   scrape_id                                     74187 non-null  object \n",
      " 3   last_scraped                                  74187 non-null  object \n",
      " 4   name                                          74167 non-null  object \n",
      " 5   description                                   71329 non-null  object \n",
      " 6   neighborhood_overview                         47208 non-null  object \n",
      " 7   picture_url                                   74188 non-null  object \n",
      " 8   host_id                                       74188 non-null  float64\n",
      " 9   host_url                                      74188 non-null  object \n",
      " 10  host_name                                     74179 non-null  object \n",
      " 11  host_since                                    74179 non-null  object \n",
      " 12  host_location                                 74006 non-null  object \n",
      " 13  host_about                                    42494 non-null  object \n",
      " 14  host_response_time                            37781 non-null  object \n",
      " 15  host_response_rate                            37779 non-null  object \n",
      " 16  host_acceptance_rate                          51597 non-null  object \n",
      " 17  host_is_superhost                             74177 non-null  object \n",
      " 18  host_thumbnail_url                            74177 non-null  object \n",
      " 19  host_picture_url                              74177 non-null  object \n",
      " 20  host_neighbourhood                            56560 non-null  object \n",
      " 21  host_listings_count                           74175 non-null  float64\n",
      " 22  host_total_listings_count                     74177 non-null  object \n",
      " 23  host_verifications                            74186 non-null  object \n",
      " 24  host_has_profile_pic                          74177 non-null  object \n",
      " 25  host_identity_verified                        74177 non-null  object \n",
      " 26  neighbourhood                                 47207 non-null  object \n",
      " 27  neighbourhood_cleansed                        74186 non-null  object \n",
      " 28  neighbourhood_group_cleansed                  2 non-null      float64\n",
      " 29  latitude                                      74186 non-null  float64\n",
      " 30  longitude                                     74186 non-null  float64\n",
      " 31  property_type                                 74186 non-null  object \n",
      " 32  room_type                                     74186 non-null  object \n",
      " 33  accommodates                                  74186 non-null  float64\n",
      " 34  bathrooms                                     2 non-null      float64\n",
      " 35  bathrooms_text                                74029 non-null  object \n",
      " 36  bedrooms                                      69594 non-null  object \n",
      " 37  beds                                          73199 non-null  float64\n",
      " 38  amenities                                     74186 non-null  object \n",
      " 39  price                                         74186 non-null  object \n",
      " 40  minimum_nights                                74186 non-null  float64\n",
      " 41  maximum_nights                                74186 non-null  object \n",
      " 42  minimum_minimum_nights                        74186 non-null  float64\n",
      " 43  maximum_minimum_nights                        74186 non-null  float64\n",
      " 44  minimum_maximum_nights                        74186 non-null  float64\n",
      " 45  maximum_maximum_nights                        74186 non-null  object \n",
      " 46  minimum_nights_avg_ntm                        74186 non-null  object \n",
      " 47  maximum_nights_avg_ntm                        74186 non-null  float64\n",
      " 48  calendar_updated                              2 non-null      float64\n",
      " 49  has_availability                              74186 non-null  object \n",
      " 50  availability_30                               74186 non-null  float64\n",
      " 51  availability_60                               74186 non-null  float64\n",
      " 52  availability_90                               74186 non-null  float64\n",
      " 53  availability_365                              74186 non-null  float64\n",
      " 54  calendar_last_scraped                         74184 non-null  object \n",
      " 55  number_of_reviews                             74186 non-null  object \n",
      " 56  number_of_reviews_ltm                         74186 non-null  float64\n",
      " 57  number_of_reviews_l30d                        74186 non-null  float64\n",
      " 58  first_review                                  53903 non-null  object \n",
      " 59  last_review                                   53903 non-null  object \n",
      " 60  review_scores_rating                          52285 non-null  float64\n",
      " 61  review_scores_accuracy                        52233 non-null  float64\n",
      " 62  review_scores_cleanliness                     52242 non-null  float64\n",
      " 63  review_scores_checkin                         52194 non-null  float64\n",
      " 64  review_scores_communication                   52234 non-null  float64\n",
      " 65  review_scores_location                        52197 non-null  float64\n",
      " 66  review_scores_value                           52196 non-null  float64\n",
      " 67  license                                       0 non-null      float64\n",
      " 68  instant_bookable                              74184 non-null  object \n",
      " 69  calculated_host_listings_count                74184 non-null  float64\n",
      " 70  calculated_host_listings_count_entire_homes   74184 non-null  float64\n",
      " 71  calculated_host_listings_count_private_rooms  74184 non-null  float64\n",
      " 72  calculated_host_listings_count_shared_rooms   74184 non-null  float64\n",
      " 73  reviews_per_month                             53901 non-null  float64\n",
      "dtypes: float64(34), object(40)\n",
      "memory usage: 41.9+ MB\n"
     ]
    }
   ],
   "source": [
    "df.info()"
   ]
  },
  {
   "cell_type": "code",
   "execution_count": 248,
   "metadata": {},
   "outputs": [
    {
     "name": "stdout",
     "output_type": "stream",
     "text": [
      "['id', 'listing_url', 'scrape_id', 'last_scraped', 'name', 'description', 'neighborhood_overview', 'picture_url', 'host_id', 'host_url', 'host_name', 'host_since', 'host_location', 'host_about', 'host_response_time', 'host_response_rate', 'host_acceptance_rate', 'host_is_superhost', 'host_thumbnail_url', 'host_picture_url', 'host_neighbourhood', 'host_listings_count', 'host_total_listings_count', 'host_verifications', 'host_has_profile_pic', 'host_identity_verified', 'neighbourhood', 'neighbourhood_cleansed', 'neighbourhood_group_cleansed', 'latitude', 'longitude', 'property_type', 'room_type', 'accommodates', 'bathrooms', 'bathrooms_text', 'bedrooms', 'beds', 'amenities', 'price', 'minimum_nights', 'maximum_nights', 'minimum_minimum_nights', 'maximum_minimum_nights', 'minimum_maximum_nights', 'maximum_maximum_nights', 'minimum_nights_avg_ntm', 'maximum_nights_avg_ntm', 'calendar_updated', 'has_availability', 'availability_30', 'availability_60', 'availability_90', 'availability_365', 'calendar_last_scraped', 'number_of_reviews', 'number_of_reviews_ltm', 'number_of_reviews_l30d', 'first_review', 'last_review', 'review_scores_rating', 'review_scores_accuracy', 'review_scores_cleanliness', 'review_scores_checkin', 'review_scores_communication', 'review_scores_location', 'review_scores_value', 'license', 'instant_bookable', 'calculated_host_listings_count', 'calculated_host_listings_count_entire_homes', 'calculated_host_listings_count_private_rooms', 'calculated_host_listings_count_shared_rooms', 'reviews_per_month']\n"
     ]
    }
   ],
   "source": [
    "print(list(df.columns.values))"
   ]
  },
  {
   "cell_type": "code",
   "execution_count": 249,
   "metadata": {},
   "outputs": [
    {
     "name": "stdout",
     "output_type": "stream",
     "text": [
      "Writing to: 2020-08-24-listings.csv.gz\n"
     ]
    }
   ],
   "source": [
    "import os\n",
    "path = os.path.join('data','raw') # A default location to save raw data\n",
    "fn   = url.split('/')[-1]         # What does this do?\n",
    "print(f\"Writing to: {fn}\")"
   ]
  },
  {
   "cell_type": "code",
   "execution_count": null,
   "metadata": {},
   "outputs": [],
   "source": []
  },
  {
   "cell_type": "code",
   "execution_count": 250,
   "metadata": {},
   "outputs": [
    {
     "name": "stdout",
     "output_type": "stream",
     "text": [
      "Done.\n"
     ]
    }
   ],
   "source": [
    "if not os.path.exists(path):\n",
    "    print(f\"Creating {path} under {os.getcwd()}\")\n",
    "    os.makedirs(path)\n",
    "    \n",
    "df.to_csv(os.path.join(path,fn), index=False)\n",
    "print(\"Done.\")"
   ]
  },
  {
   "cell_type": "code",
   "execution_count": 251,
   "metadata": {},
   "outputs": [],
   "source": [
    "cols = ['id','listing_url', 'last_scraped', 'name', 'description', 'host_id', 'host_name', 'host_since', \n",
    "        'host_location', 'host_about', 'host_response_rate', 'host_acceptance_rate', 'host_is_superhost', \n",
    "        'host_listings_count', 'host_total_listings_count', 'host_verifications', 'latitude', 'longitude', \n",
    "        'property_type', 'room_type', 'accommodates', 'bathrooms', 'bathrooms_text', 'bedrooms', 'beds', \n",
    "        'amenities', 'price', 'minimum_nights', 'maximum_nights', 'availability_365', 'number_of_reviews', \n",
    "        'first_review', 'last_review', 'review_scores_rating', 'review_scores_cleanliness', \n",
    "        'review_scores_checkin', 'review_scores_communication', 'review_scores_location', 'license', \n",
    "        'instant_bookable', 'calculated_host_listings_count', 'reviews_per_month','picture_url','host_thumbnail_url', 'host_picture_url']"
   ]
  },
  {
   "cell_type": "code",
   "execution_count": 252,
   "metadata": {},
   "outputs": [
    {
     "name": "stdout",
     "output_type": "stream",
     "text": [
      "Data frame is 10,000 x 45\n"
     ]
    }
   ],
   "source": [
    "del(df)\n",
    "df = pd.read_csv(os.path.join(path,fn), low_memory=False, usecols=cols, nrows=10000)\n",
    "print(f\"Data frame is {df.shape[0]:,} x {df.shape[1]}\")"
   ]
  },
  {
   "cell_type": "code",
   "execution_count": 253,
   "metadata": {},
   "outputs": [
    {
     "data": {
      "text/html": [
       "<div>\n",
       "<style scoped>\n",
       "    .dataframe tbody tr th:only-of-type {\n",
       "        vertical-align: middle;\n",
       "    }\n",
       "\n",
       "    .dataframe tbody tr th {\n",
       "        vertical-align: top;\n",
       "    }\n",
       "\n",
       "    .dataframe thead th {\n",
       "        text-align: right;\n",
       "    }\n",
       "</style>\n",
       "<table border=\"1\" class=\"dataframe\">\n",
       "  <thead>\n",
       "    <tr style=\"text-align: right;\">\n",
       "      <th></th>\n",
       "      <th>id</th>\n",
       "      <th>listing_url</th>\n",
       "      <th>last_scraped</th>\n",
       "      <th>name</th>\n",
       "      <th>description</th>\n",
       "      <th>picture_url</th>\n",
       "      <th>host_id</th>\n",
       "      <th>host_name</th>\n",
       "      <th>host_since</th>\n",
       "      <th>host_location</th>\n",
       "      <th>...</th>\n",
       "      <th>last_review</th>\n",
       "      <th>review_scores_rating</th>\n",
       "      <th>review_scores_cleanliness</th>\n",
       "      <th>review_scores_checkin</th>\n",
       "      <th>review_scores_communication</th>\n",
       "      <th>review_scores_location</th>\n",
       "      <th>license</th>\n",
       "      <th>instant_bookable</th>\n",
       "      <th>calculated_host_listings_count</th>\n",
       "      <th>reviews_per_month</th>\n",
       "    </tr>\n",
       "  </thead>\n",
       "  <tbody>\n",
       "    <tr>\n",
       "      <th>6252</th>\n",
       "      <td>5611338.0</td>\n",
       "      <td>https://www.airbnb.com/rooms/5611338</td>\n",
       "      <td>2020-08-27</td>\n",
       "      <td>Lovely Flat close to Tower Bridge!</td>\n",
       "      <td>´The flat is very spacious (1 bedroom, living ...</td>\n",
       "      <td>https://a0.muscache.com/pictures/69842316/1ef9...</td>\n",
       "      <td>29021331.0</td>\n",
       "      <td>Sandra</td>\n",
       "      <td>2015-03-09</td>\n",
       "      <td>Madrid, Community of Madrid, Spain</td>\n",
       "      <td>...</td>\n",
       "      <td>2017-11-05</td>\n",
       "      <td>96.0</td>\n",
       "      <td>10.0</td>\n",
       "      <td>10.0</td>\n",
       "      <td>10.0</td>\n",
       "      <td>10.0</td>\n",
       "      <td>NaN</td>\n",
       "      <td>f</td>\n",
       "      <td>1.0</td>\n",
       "      <td>0.54</td>\n",
       "    </tr>\n",
       "    <tr>\n",
       "      <th>4684</th>\n",
       "      <td>4176912.0</td>\n",
       "      <td>https://www.airbnb.com/rooms/4176912</td>\n",
       "      <td>2020-08-26</td>\n",
       "      <td>B&amp;B Smart Charming 2bed 6 Sleeper</td>\n",
       "      <td>&lt;b&gt;The space&lt;/b&gt;&lt;br /&gt;PLEASE KINDLY ASK FOR AV...</td>\n",
       "      <td>https://a0.muscache.com/pictures/52495272/c181...</td>\n",
       "      <td>1517803.0</td>\n",
       "      <td>Hilmi</td>\n",
       "      <td>2011-12-19</td>\n",
       "      <td>London, United Kingdom</td>\n",
       "      <td>...</td>\n",
       "      <td>2015-04-02</td>\n",
       "      <td>73.0</td>\n",
       "      <td>9.0</td>\n",
       "      <td>9.0</td>\n",
       "      <td>9.0</td>\n",
       "      <td>8.0</td>\n",
       "      <td>NaN</td>\n",
       "      <td>f</td>\n",
       "      <td>24.0</td>\n",
       "      <td>0.04</td>\n",
       "    </tr>\n",
       "    <tr>\n",
       "      <th>1731</th>\n",
       "      <td>1041523.0</td>\n",
       "      <td>https://www.airbnb.com/rooms/1041523</td>\n",
       "      <td>2020-08-26</td>\n",
       "      <td>Beautifully Spacious Property in Islington</td>\n",
       "      <td>This beautiful 1 bedroom property sits in the ...</td>\n",
       "      <td>https://a0.muscache.com/pictures/2b88de31-3e30...</td>\n",
       "      <td>5733781.0</td>\n",
       "      <td>Tomas</td>\n",
       "      <td>2013-04-02</td>\n",
       "      <td>London</td>\n",
       "      <td>...</td>\n",
       "      <td>2020-01-21</td>\n",
       "      <td>95.0</td>\n",
       "      <td>10.0</td>\n",
       "      <td>10.0</td>\n",
       "      <td>9.0</td>\n",
       "      <td>10.0</td>\n",
       "      <td>NaN</td>\n",
       "      <td>f</td>\n",
       "      <td>1.0</td>\n",
       "      <td>0.73</td>\n",
       "    </tr>\n",
       "    <tr>\n",
       "      <th>4742</th>\n",
       "      <td>4225126.0</td>\n",
       "      <td>https://www.airbnb.com/rooms/4225126</td>\n",
       "      <td>2020-08-26</td>\n",
       "      <td>Lovely room on Shoreditch Park</td>\n",
       "      <td>A nice room in East London on Regents Canal an...</td>\n",
       "      <td>https://a0.muscache.com/pictures/53078426/4503...</td>\n",
       "      <td>13740059.0</td>\n",
       "      <td>Eric</td>\n",
       "      <td>2014-03-31</td>\n",
       "      <td>New York, New York, United States</td>\n",
       "      <td>...</td>\n",
       "      <td>NaN</td>\n",
       "      <td>NaN</td>\n",
       "      <td>NaN</td>\n",
       "      <td>NaN</td>\n",
       "      <td>NaN</td>\n",
       "      <td>NaN</td>\n",
       "      <td>NaN</td>\n",
       "      <td>f</td>\n",
       "      <td>1.0</td>\n",
       "      <td>NaN</td>\n",
       "    </tr>\n",
       "    <tr>\n",
       "      <th>4521</th>\n",
       "      <td>4012401.0</td>\n",
       "      <td>https://www.airbnb.com/rooms/4012401</td>\n",
       "      <td>2020-08-26</td>\n",
       "      <td>BIG Double ROOM +LIVINGROOM + GARDEN @ CAMDEN ...</td>\n",
       "      <td>Spacious  double room in camden town with your...</td>\n",
       "      <td>https://a0.muscache.com/pictures/e1e46dda-b36b...</td>\n",
       "      <td>20298323.0</td>\n",
       "      <td>James</td>\n",
       "      <td>2014-08-20</td>\n",
       "      <td>LONDON</td>\n",
       "      <td>...</td>\n",
       "      <td>2020-07-20</td>\n",
       "      <td>90.0</td>\n",
       "      <td>9.0</td>\n",
       "      <td>10.0</td>\n",
       "      <td>10.0</td>\n",
       "      <td>10.0</td>\n",
       "      <td>NaN</td>\n",
       "      <td>t</td>\n",
       "      <td>2.0</td>\n",
       "      <td>1.39</td>\n",
       "    </tr>\n",
       "    <tr>\n",
       "      <th>6340</th>\n",
       "      <td>5711398.0</td>\n",
       "      <td>https://www.airbnb.com/rooms/5711398</td>\n",
       "      <td>2020-08-26</td>\n",
       "      <td>Master Bedroom in a Converted Pub</td>\n",
       "      <td>We live an a beautifully converted pub, right ...</td>\n",
       "      <td>https://a0.muscache.com/pictures/87728bf9-33d8...</td>\n",
       "      <td>11021500.0</td>\n",
       "      <td>Toby</td>\n",
       "      <td>2014-01-04</td>\n",
       "      <td>London, England</td>\n",
       "      <td>...</td>\n",
       "      <td>NaN</td>\n",
       "      <td>NaN</td>\n",
       "      <td>NaN</td>\n",
       "      <td>NaN</td>\n",
       "      <td>NaN</td>\n",
       "      <td>NaN</td>\n",
       "      <td>NaN</td>\n",
       "      <td>f</td>\n",
       "      <td>1.0</td>\n",
       "      <td>NaN</td>\n",
       "    </tr>\n",
       "  </tbody>\n",
       "</table>\n",
       "<p>6 rows × 45 columns</p>\n",
       "</div>"
      ],
      "text/plain": [
       "             id                           listing_url last_scraped  \\\n",
       "6252  5611338.0  https://www.airbnb.com/rooms/5611338   2020-08-27   \n",
       "4684  4176912.0  https://www.airbnb.com/rooms/4176912   2020-08-26   \n",
       "1731  1041523.0  https://www.airbnb.com/rooms/1041523   2020-08-26   \n",
       "4742  4225126.0  https://www.airbnb.com/rooms/4225126   2020-08-26   \n",
       "4521  4012401.0  https://www.airbnb.com/rooms/4012401   2020-08-26   \n",
       "6340  5711398.0  https://www.airbnb.com/rooms/5711398   2020-08-26   \n",
       "\n",
       "                                                   name  \\\n",
       "6252                 Lovely Flat close to Tower Bridge!   \n",
       "4684                  B&B Smart Charming 2bed 6 Sleeper   \n",
       "1731         Beautifully Spacious Property in Islington   \n",
       "4742                     Lovely room on Shoreditch Park   \n",
       "4521  BIG Double ROOM +LIVINGROOM + GARDEN @ CAMDEN ...   \n",
       "6340                  Master Bedroom in a Converted Pub   \n",
       "\n",
       "                                            description  \\\n",
       "6252  ´The flat is very spacious (1 bedroom, living ...   \n",
       "4684  <b>The space</b><br />PLEASE KINDLY ASK FOR AV...   \n",
       "1731  This beautiful 1 bedroom property sits in the ...   \n",
       "4742  A nice room in East London on Regents Canal an...   \n",
       "4521  Spacious  double room in camden town with your...   \n",
       "6340  We live an a beautifully converted pub, right ...   \n",
       "\n",
       "                                            picture_url     host_id host_name  \\\n",
       "6252  https://a0.muscache.com/pictures/69842316/1ef9...  29021331.0    Sandra   \n",
       "4684  https://a0.muscache.com/pictures/52495272/c181...   1517803.0     Hilmi   \n",
       "1731  https://a0.muscache.com/pictures/2b88de31-3e30...   5733781.0     Tomas   \n",
       "4742  https://a0.muscache.com/pictures/53078426/4503...  13740059.0      Eric   \n",
       "4521  https://a0.muscache.com/pictures/e1e46dda-b36b...  20298323.0     James   \n",
       "6340  https://a0.muscache.com/pictures/87728bf9-33d8...  11021500.0      Toby   \n",
       "\n",
       "      host_since                       host_location  ... last_review  \\\n",
       "6252  2015-03-09  Madrid, Community of Madrid, Spain  ...  2017-11-05   \n",
       "4684  2011-12-19              London, United Kingdom  ...  2015-04-02   \n",
       "1731  2013-04-02                              London  ...  2020-01-21   \n",
       "4742  2014-03-31   New York, New York, United States  ...         NaN   \n",
       "4521  2014-08-20                              LONDON  ...  2020-07-20   \n",
       "6340  2014-01-04                     London, England  ...         NaN   \n",
       "\n",
       "     review_scores_rating review_scores_cleanliness review_scores_checkin  \\\n",
       "6252                 96.0                      10.0                  10.0   \n",
       "4684                 73.0                       9.0                   9.0   \n",
       "1731                 95.0                      10.0                  10.0   \n",
       "4742                  NaN                       NaN                   NaN   \n",
       "4521                 90.0                       9.0                  10.0   \n",
       "6340                  NaN                       NaN                   NaN   \n",
       "\n",
       "     review_scores_communication review_scores_location  license  \\\n",
       "6252                        10.0                   10.0      NaN   \n",
       "4684                         9.0                    8.0      NaN   \n",
       "1731                         9.0                   10.0      NaN   \n",
       "4742                         NaN                    NaN      NaN   \n",
       "4521                        10.0                   10.0      NaN   \n",
       "6340                         NaN                    NaN      NaN   \n",
       "\n",
       "     instant_bookable calculated_host_listings_count  reviews_per_month  \n",
       "6252                f                            1.0               0.54  \n",
       "4684                f                           24.0               0.04  \n",
       "1731                f                            1.0               0.73  \n",
       "4742                f                            1.0                NaN  \n",
       "4521                t                            2.0               1.39  \n",
       "6340                f                            1.0                NaN  \n",
       "\n",
       "[6 rows x 45 columns]"
      ]
     },
     "execution_count": 253,
     "metadata": {},
     "output_type": "execute_result"
    }
   ],
   "source": [
    "df.sample(6, random_state=42)"
   ]
  },
  {
   "cell_type": "code",
   "execution_count": 280,
   "metadata": {},
   "outputs": [
    {
     "ename": "AttributeError",
     "evalue": "'DataFrame' object has no attribute 'neighbourhood'",
     "output_type": "error",
     "traceback": [
      "\u001b[0;31m---------------------------------------------------------------------------\u001b[0m",
      "\u001b[0;31mAttributeError\u001b[0m                            Traceback (most recent call last)",
      "\u001b[0;32m<ipython-input-280-6a5b8178fe59>\u001b[0m in \u001b[0;36m<module>\u001b[0;34m\u001b[0m\n\u001b[0;32m----> 1\u001b[0;31m \u001b[0mprint\u001b[0m\u001b[0;34m(\u001b[0m\u001b[0mlist\u001b[0m\u001b[0;34m(\u001b[0m\u001b[0mdf\u001b[0m\u001b[0;34m.\u001b[0m\u001b[0mneighbourhood\u001b[0m\u001b[0;34m.\u001b[0m\u001b[0mvalues\u001b[0m\u001b[0;34m)\u001b[0m\u001b[0;34m)\u001b[0m\u001b[0;34m\u001b[0m\u001b[0;34m\u001b[0m\u001b[0m\n\u001b[0m",
      "\u001b[0;32m/opt/conda/envs/sds2020/lib/python3.7/site-packages/pandas/core/generic.py\u001b[0m in \u001b[0;36m__getattr__\u001b[0;34m(self, name)\u001b[0m\n\u001b[1;32m   5134\u001b[0m             \u001b[0;32mif\u001b[0m \u001b[0mself\u001b[0m\u001b[0;34m.\u001b[0m\u001b[0m_info_axis\u001b[0m\u001b[0;34m.\u001b[0m\u001b[0m_can_hold_identifiers_and_holds_name\u001b[0m\u001b[0;34m(\u001b[0m\u001b[0mname\u001b[0m\u001b[0;34m)\u001b[0m\u001b[0;34m:\u001b[0m\u001b[0;34m\u001b[0m\u001b[0;34m\u001b[0m\u001b[0m\n\u001b[1;32m   5135\u001b[0m                 \u001b[0;32mreturn\u001b[0m \u001b[0mself\u001b[0m\u001b[0;34m[\u001b[0m\u001b[0mname\u001b[0m\u001b[0;34m]\u001b[0m\u001b[0;34m\u001b[0m\u001b[0;34m\u001b[0m\u001b[0m\n\u001b[0;32m-> 5136\u001b[0;31m             \u001b[0;32mreturn\u001b[0m \u001b[0mobject\u001b[0m\u001b[0;34m.\u001b[0m\u001b[0m__getattribute__\u001b[0m\u001b[0;34m(\u001b[0m\u001b[0mself\u001b[0m\u001b[0;34m,\u001b[0m \u001b[0mname\u001b[0m\u001b[0;34m)\u001b[0m\u001b[0;34m\u001b[0m\u001b[0;34m\u001b[0m\u001b[0m\n\u001b[0m\u001b[1;32m   5137\u001b[0m \u001b[0;34m\u001b[0m\u001b[0m\n\u001b[1;32m   5138\u001b[0m     \u001b[0;32mdef\u001b[0m \u001b[0m__setattr__\u001b[0m\u001b[0;34m(\u001b[0m\u001b[0mself\u001b[0m\u001b[0;34m,\u001b[0m \u001b[0mname\u001b[0m\u001b[0;34m:\u001b[0m \u001b[0mstr\u001b[0m\u001b[0;34m,\u001b[0m \u001b[0mvalue\u001b[0m\u001b[0;34m)\u001b[0m \u001b[0;34m->\u001b[0m \u001b[0;32mNone\u001b[0m\u001b[0;34m:\u001b[0m\u001b[0;34m\u001b[0m\u001b[0;34m\u001b[0m\u001b[0m\n",
      "\u001b[0;31mAttributeError\u001b[0m: 'DataFrame' object has no attribute 'neighbourhood'"
     ]
    }
   ],
   "source": [
    "print(list(df.neighbourhood.values))"
   ]
  },
  {
   "cell_type": "code",
   "execution_count": 255,
   "metadata": {},
   "outputs": [
    {
     "data": {
      "text/html": [
       "<div>\n",
       "<style scoped>\n",
       "    .dataframe tbody tr th:only-of-type {\n",
       "        vertical-align: middle;\n",
       "    }\n",
       "\n",
       "    .dataframe tbody tr th {\n",
       "        vertical-align: top;\n",
       "    }\n",
       "\n",
       "    .dataframe thead th {\n",
       "        text-align: right;\n",
       "    }\n",
       "</style>\n",
       "<table border=\"1\" class=\"dataframe\">\n",
       "  <thead>\n",
       "    <tr style=\"text-align: right;\">\n",
       "      <th></th>\n",
       "      <th>id</th>\n",
       "      <th>price</th>\n",
       "      <th>room_type</th>\n",
       "      <th>host_location</th>\n",
       "      <th>last_review</th>\n",
       "      <th>review_scores_rating</th>\n",
       "      <th>license</th>\n",
       "    </tr>\n",
       "  </thead>\n",
       "  <tbody>\n",
       "    <tr>\n",
       "      <th>6252</th>\n",
       "      <td>5611338.0</td>\n",
       "      <td>$95.00</td>\n",
       "      <td>Entire home/apt</td>\n",
       "      <td>Madrid, Community of Madrid, Spain</td>\n",
       "      <td>2017-11-05</td>\n",
       "      <td>96.0</td>\n",
       "      <td>NaN</td>\n",
       "    </tr>\n",
       "    <tr>\n",
       "      <th>4684</th>\n",
       "      <td>4176912.0</td>\n",
       "      <td>$220.00</td>\n",
       "      <td>Entire home/apt</td>\n",
       "      <td>London, United Kingdom</td>\n",
       "      <td>2015-04-02</td>\n",
       "      <td>73.0</td>\n",
       "      <td>NaN</td>\n",
       "    </tr>\n",
       "    <tr>\n",
       "      <th>1731</th>\n",
       "      <td>1041523.0</td>\n",
       "      <td>$85.00</td>\n",
       "      <td>Entire home/apt</td>\n",
       "      <td>London</td>\n",
       "      <td>2020-01-21</td>\n",
       "      <td>95.0</td>\n",
       "      <td>NaN</td>\n",
       "    </tr>\n",
       "    <tr>\n",
       "      <th>4742</th>\n",
       "      <td>4225126.0</td>\n",
       "      <td>$95.00</td>\n",
       "      <td>Private room</td>\n",
       "      <td>New York, New York, United States</td>\n",
       "      <td>NaN</td>\n",
       "      <td>NaN</td>\n",
       "      <td>NaN</td>\n",
       "    </tr>\n",
       "    <tr>\n",
       "      <th>4521</th>\n",
       "      <td>4012401.0</td>\n",
       "      <td>$30.00</td>\n",
       "      <td>Private room</td>\n",
       "      <td>LONDON</td>\n",
       "      <td>2020-07-20</td>\n",
       "      <td>90.0</td>\n",
       "      <td>NaN</td>\n",
       "    </tr>\n",
       "    <tr>\n",
       "      <th>6340</th>\n",
       "      <td>5711398.0</td>\n",
       "      <td>$60.00</td>\n",
       "      <td>Private room</td>\n",
       "      <td>London, England</td>\n",
       "      <td>NaN</td>\n",
       "      <td>NaN</td>\n",
       "      <td>NaN</td>\n",
       "    </tr>\n",
       "  </tbody>\n",
       "</table>\n",
       "</div>"
      ],
      "text/plain": [
       "             id    price        room_type                       host_location  \\\n",
       "6252  5611338.0   $95.00  Entire home/apt  Madrid, Community of Madrid, Spain   \n",
       "4684  4176912.0  $220.00  Entire home/apt              London, United Kingdom   \n",
       "1731  1041523.0   $85.00  Entire home/apt                              London   \n",
       "4742  4225126.0   $95.00     Private room   New York, New York, United States   \n",
       "4521  4012401.0   $30.00     Private room                              LONDON   \n",
       "6340  5711398.0   $60.00     Private room                     London, England   \n",
       "\n",
       "     last_review  review_scores_rating  license  \n",
       "6252  2017-11-05                  96.0      NaN  \n",
       "4684  2015-04-02                  73.0      NaN  \n",
       "1731  2020-01-21                  95.0      NaN  \n",
       "4742         NaN                   NaN      NaN  \n",
       "4521  2020-07-20                  90.0      NaN  \n",
       "6340         NaN                   NaN      NaN  "
      ]
     },
     "execution_count": 255,
     "metadata": {},
     "output_type": "execute_result"
    }
   ],
   "source": [
    "df.sample(6, random_state=42)[['id', 'price', 'room_type', 'host_location', 'last_review', 'review_scores_rating', 'license']]"
   ]
  },
  {
   "cell_type": "code",
   "execution_count": 256,
   "metadata": {},
   "outputs": [
    {
     "data": {
      "text/html": [
       "<div>\n",
       "<style scoped>\n",
       "    .dataframe tbody tr th:only-of-type {\n",
       "        vertical-align: middle;\n",
       "    }\n",
       "\n",
       "    .dataframe tbody tr th {\n",
       "        vertical-align: top;\n",
       "    }\n",
       "\n",
       "    .dataframe thead th {\n",
       "        text-align: right;\n",
       "    }\n",
       "</style>\n",
       "<table border=\"1\" class=\"dataframe\">\n",
       "  <thead>\n",
       "    <tr style=\"text-align: right;\">\n",
       "      <th></th>\n",
       "      <th>id</th>\n",
       "      <th>listing_url</th>\n",
       "      <th>last_scraped</th>\n",
       "      <th>name</th>\n",
       "      <th>description</th>\n",
       "      <th>picture_url</th>\n",
       "      <th>host_id</th>\n",
       "      <th>host_name</th>\n",
       "      <th>host_since</th>\n",
       "      <th>host_location</th>\n",
       "      <th>...</th>\n",
       "      <th>last_review</th>\n",
       "      <th>review_scores_rating</th>\n",
       "      <th>review_scores_cleanliness</th>\n",
       "      <th>review_scores_checkin</th>\n",
       "      <th>review_scores_communication</th>\n",
       "      <th>review_scores_location</th>\n",
       "      <th>license</th>\n",
       "      <th>instant_bookable</th>\n",
       "      <th>calculated_host_listings_count</th>\n",
       "      <th>reviews_per_month</th>\n",
       "    </tr>\n",
       "  </thead>\n",
       "  <tbody>\n",
       "    <tr>\n",
       "      <th>3558</th>\n",
       "      <td>3138549.0</td>\n",
       "      <td>https://www.airbnb.com/rooms/3138549</td>\n",
       "      <td>2020-08-26</td>\n",
       "      <td>Heart of City of London/Shoreditch</td>\n",
       "      <td>Our lovely flat is in a newly designed buildin...</td>\n",
       "      <td>https://a0.muscache.com/pictures/ed787e5d-730c...</td>\n",
       "      <td>4968944.0</td>\n",
       "      <td>Alejandra</td>\n",
       "      <td>2013-02-04</td>\n",
       "      <td>London, United Kingdom</td>\n",
       "      <td>...</td>\n",
       "      <td>NaN</td>\n",
       "      <td>NaN</td>\n",
       "      <td>NaN</td>\n",
       "      <td>NaN</td>\n",
       "      <td>NaN</td>\n",
       "      <td>NaN</td>\n",
       "      <td>NaN</td>\n",
       "      <td>NaN</td>\n",
       "      <td>NaN</td>\n",
       "      <td>NaN</td>\n",
       "    </tr>\n",
       "    <tr>\n",
       "      <th>3559</th>\n",
       "      <td>NaN</td>\n",
       "      <td>NaN</td>\n",
       "      <td>NaN</td>\n",
       "      <td>f</td>\n",
       "      <td>https://a0.muscache.com/im/pictures/user/1c171...</td>\n",
       "      <td>Shoreditch</td>\n",
       "      <td>1.0</td>\n",
       "      <td>['email', 'phone', 'reviews', 'jumio', 'govern...</td>\n",
       "      <td>t</td>\n",
       "      <td>f</td>\n",
       "      <td>...</td>\n",
       "      <td>0</td>\n",
       "      <td>0.13</td>\n",
       "      <td>NaN</td>\n",
       "      <td>NaN</td>\n",
       "      <td>NaN</td>\n",
       "      <td>NaN</td>\n",
       "      <td>NaN</td>\n",
       "      <td>NaN</td>\n",
       "      <td>NaN</td>\n",
       "      <td>NaN</td>\n",
       "    </tr>\n",
       "    <tr>\n",
       "      <th>3560</th>\n",
       "      <td>3140773.0</td>\n",
       "      <td>https://www.airbnb.com/rooms/3140773</td>\n",
       "      <td>2020-08-26</td>\n",
       "      <td>One bed flat set on Victoria Park</td>\n",
       "      <td>Home away from home. New build one bed flat on...</td>\n",
       "      <td>https://a0.muscache.com/pictures/bea3ab76-54ef...</td>\n",
       "      <td>15947403.0</td>\n",
       "      <td>Mary</td>\n",
       "      <td>2014-05-25</td>\n",
       "      <td>London, United Kingdom</td>\n",
       "      <td>...</td>\n",
       "      <td>2017-05-10</td>\n",
       "      <td>100.00</td>\n",
       "      <td>10.0</td>\n",
       "      <td>10.0</td>\n",
       "      <td>10.0</td>\n",
       "      <td>10.0</td>\n",
       "      <td>NaN</td>\n",
       "      <td>f</td>\n",
       "      <td>1.0</td>\n",
       "      <td>0.02</td>\n",
       "    </tr>\n",
       "  </tbody>\n",
       "</table>\n",
       "<p>3 rows × 45 columns</p>\n",
       "</div>"
      ],
      "text/plain": [
       "             id                           listing_url last_scraped  \\\n",
       "3558  3138549.0  https://www.airbnb.com/rooms/3138549   2020-08-26   \n",
       "3559        NaN                                   NaN          NaN   \n",
       "3560  3140773.0  https://www.airbnb.com/rooms/3140773   2020-08-26   \n",
       "\n",
       "                                    name  \\\n",
       "3558  Heart of City of London/Shoreditch   \n",
       "3559                                   f   \n",
       "3560   One bed flat set on Victoria Park   \n",
       "\n",
       "                                            description  \\\n",
       "3558  Our lovely flat is in a newly designed buildin...   \n",
       "3559  https://a0.muscache.com/im/pictures/user/1c171...   \n",
       "3560  Home away from home. New build one bed flat on...   \n",
       "\n",
       "                                            picture_url     host_id  \\\n",
       "3558  https://a0.muscache.com/pictures/ed787e5d-730c...   4968944.0   \n",
       "3559                                         Shoreditch         1.0   \n",
       "3560  https://a0.muscache.com/pictures/bea3ab76-54ef...  15947403.0   \n",
       "\n",
       "                                              host_name  host_since  \\\n",
       "3558                                          Alejandra  2013-02-04   \n",
       "3559  ['email', 'phone', 'reviews', 'jumio', 'govern...           t   \n",
       "3560                                               Mary  2014-05-25   \n",
       "\n",
       "               host_location  ... last_review review_scores_rating  \\\n",
       "3558  London, United Kingdom  ...         NaN                  NaN   \n",
       "3559                       f  ...           0                 0.13   \n",
       "3560  London, United Kingdom  ...  2017-05-10               100.00   \n",
       "\n",
       "     review_scores_cleanliness review_scores_checkin  \\\n",
       "3558                       NaN                   NaN   \n",
       "3559                       NaN                   NaN   \n",
       "3560                      10.0                  10.0   \n",
       "\n",
       "     review_scores_communication review_scores_location  license  \\\n",
       "3558                         NaN                    NaN      NaN   \n",
       "3559                         NaN                    NaN      NaN   \n",
       "3560                        10.0                   10.0      NaN   \n",
       "\n",
       "     instant_bookable calculated_host_listings_count  reviews_per_month  \n",
       "3558              NaN                            NaN                NaN  \n",
       "3559              NaN                            NaN                NaN  \n",
       "3560                f                            1.0               0.02  \n",
       "\n",
       "[3 rows x 45 columns]"
      ]
     },
     "execution_count": 256,
     "metadata": {},
     "output_type": "execute_result"
    }
   ],
   "source": [
    "df.iloc[3558:3561,:]"
   ]
  },
  {
   "cell_type": "code",
   "execution_count": 257,
   "metadata": {},
   "outputs": [
    {
     "data": {
      "text/html": [
       "<div>\n",
       "<style scoped>\n",
       "    .dataframe tbody tr th:only-of-type {\n",
       "        vertical-align: middle;\n",
       "    }\n",
       "\n",
       "    .dataframe tbody tr th {\n",
       "        vertical-align: top;\n",
       "    }\n",
       "\n",
       "    .dataframe thead th {\n",
       "        text-align: right;\n",
       "    }\n",
       "</style>\n",
       "<table border=\"1\" class=\"dataframe\">\n",
       "  <thead>\n",
       "    <tr style=\"text-align: right;\">\n",
       "      <th></th>\n",
       "      <th>id</th>\n",
       "      <th>host_id</th>\n",
       "      <th>host_name</th>\n",
       "      <th>host_name</th>\n",
       "      <th>host_since</th>\n",
       "      <th>host_location</th>\n",
       "      <th>host_about</th>\n",
       "    </tr>\n",
       "  </thead>\n",
       "  <tbody>\n",
       "    <tr>\n",
       "      <th>6252</th>\n",
       "      <td>5611338.0</td>\n",
       "      <td>29021331.0</td>\n",
       "      <td>Sandra</td>\n",
       "      <td>Sandra</td>\n",
       "      <td>2015-03-09</td>\n",
       "      <td>Madrid, Community of Madrid, Spain</td>\n",
       "      <td>Hi! \\r\\n\\r\\nWe are Sandra and Pablo, a couple ...</td>\n",
       "    </tr>\n",
       "    <tr>\n",
       "      <th>4684</th>\n",
       "      <td>4176912.0</td>\n",
       "      <td>1517803.0</td>\n",
       "      <td>Hilmi</td>\n",
       "      <td>Hilmi</td>\n",
       "      <td>2011-12-19</td>\n",
       "      <td>London, United Kingdom</td>\n",
       "      <td>I am a young professional with an engineer bac...</td>\n",
       "    </tr>\n",
       "    <tr>\n",
       "      <th>1731</th>\n",
       "      <td>1041523.0</td>\n",
       "      <td>5733781.0</td>\n",
       "      <td>Tomas</td>\n",
       "      <td>Tomas</td>\n",
       "      <td>2013-04-02</td>\n",
       "      <td>London</td>\n",
       "      <td>I'm from London and like to travel</td>\n",
       "    </tr>\n",
       "    <tr>\n",
       "      <th>4742</th>\n",
       "      <td>4225126.0</td>\n",
       "      <td>13740059.0</td>\n",
       "      <td>Eric</td>\n",
       "      <td>Eric</td>\n",
       "      <td>2014-03-31</td>\n",
       "      <td>New York, New York, United States</td>\n",
       "      <td>World traveler extraordinaire</td>\n",
       "    </tr>\n",
       "    <tr>\n",
       "      <th>4521</th>\n",
       "      <td>4012401.0</td>\n",
       "      <td>20298323.0</td>\n",
       "      <td>James</td>\n",
       "      <td>James</td>\n",
       "      <td>2014-08-20</td>\n",
       "      <td>LONDON</td>\n",
       "      <td>French physiotherapist living in the heart of ...</td>\n",
       "    </tr>\n",
       "    <tr>\n",
       "      <th>6340</th>\n",
       "      <td>5711398.0</td>\n",
       "      <td>11021500.0</td>\n",
       "      <td>Toby</td>\n",
       "      <td>Toby</td>\n",
       "      <td>2014-01-04</td>\n",
       "      <td>London, England</td>\n",
       "      <td>I'm lively, easygoing and a little bit geeky. ...</td>\n",
       "    </tr>\n",
       "    <tr>\n",
       "      <th>576</th>\n",
       "      <td>408888.0</td>\n",
       "      <td>1942597.0</td>\n",
       "      <td>Nanako</td>\n",
       "      <td>Nanako</td>\n",
       "      <td>2012-03-17</td>\n",
       "      <td>London, England, United Kingdom</td>\n",
       "      <td>I am looking for a short term apartment for my...</td>\n",
       "    </tr>\n",
       "    <tr>\n",
       "      <th>5202</th>\n",
       "      <td>4660853.0</td>\n",
       "      <td>3471695.0</td>\n",
       "      <td>Marcus</td>\n",
       "      <td>Marcus</td>\n",
       "      <td>2012-09-04</td>\n",
       "      <td>Clapton, Hackney, London</td>\n",
       "      <td>I like baths and music by dead or angry people.</td>\n",
       "    </tr>\n",
       "    <tr>\n",
       "      <th>6363</th>\n",
       "      <td>5732247.0</td>\n",
       "      <td>9752483.0</td>\n",
       "      <td>Jim</td>\n",
       "      <td>Jim</td>\n",
       "      <td>2013-11-01</td>\n",
       "      <td>London, United Kingdom</td>\n",
       "      <td>NaN</td>\n",
       "    </tr>\n",
       "    <tr>\n",
       "      <th>439</th>\n",
       "      <td>367977.0</td>\n",
       "      <td>1857537.0</td>\n",
       "      <td>Julian &amp; Nicky</td>\n",
       "      <td>Julian &amp; Nicky</td>\n",
       "      <td>2012-03-04</td>\n",
       "      <td>London, England, United Kingdom</td>\n",
       "      <td>Hi - we're a professional couple born and rais...</td>\n",
       "    </tr>\n",
       "    <tr>\n",
       "      <th>2750</th>\n",
       "      <td>2084765.0</td>\n",
       "      <td>8528437.0</td>\n",
       "      <td>David</td>\n",
       "      <td>David</td>\n",
       "      <td>2013-08-30</td>\n",
       "      <td>London, UK</td>\n",
       "      <td>Academic, semi-retired - famous for leaving ac...</td>\n",
       "    </tr>\n",
       "    <tr>\n",
       "      <th>7487</th>\n",
       "      <td>6651981.0</td>\n",
       "      <td>34817426.0</td>\n",
       "      <td>Sophie</td>\n",
       "      <td>Sophie</td>\n",
       "      <td>2015-06-02</td>\n",
       "      <td>London, United Kingdom</td>\n",
       "      <td>Hi I am Sophie and I am a 30 years old who wor...</td>\n",
       "    </tr>\n",
       "    <tr>\n",
       "      <th>5272</th>\n",
       "      <td>4702396.0</td>\n",
       "      <td>462601.0</td>\n",
       "      <td>Elsie</td>\n",
       "      <td>Elsie</td>\n",
       "      <td>2011-03-25</td>\n",
       "      <td>London, England, United Kingdom</td>\n",
       "      <td>Love travelling\\r\\nLove food\\r\\nTreat others h...</td>\n",
       "    </tr>\n",
       "    <tr>\n",
       "      <th>5653</th>\n",
       "      <td>5001588.0</td>\n",
       "      <td>10961046.0</td>\n",
       "      <td>Ivy</td>\n",
       "      <td>Ivy</td>\n",
       "      <td>2014-01-02</td>\n",
       "      <td>London, England, United Kingdom</td>\n",
       "      <td>We’re Ivy, London’s most trusted vacation rent...</td>\n",
       "    </tr>\n",
       "    <tr>\n",
       "      <th>3999</th>\n",
       "      <td>3543644.0</td>\n",
       "      <td>13826931.0</td>\n",
       "      <td>Nathalie</td>\n",
       "      <td>Nathalie</td>\n",
       "      <td>2014-04-02</td>\n",
       "      <td>London</td>\n",
       "      <td>I hope you like my little pied-a-terre in Nice...</td>\n",
       "    </tr>\n",
       "    <tr>\n",
       "      <th>6033</th>\n",
       "      <td>5385110.0</td>\n",
       "      <td>6902798.0</td>\n",
       "      <td>Chris</td>\n",
       "      <td>Chris</td>\n",
       "      <td>2013-06-13</td>\n",
       "      <td>London</td>\n",
       "      <td>Hi there\\r\\n\\r\\nI'm a friendly and down-to-ear...</td>\n",
       "    </tr>\n",
       "    <tr>\n",
       "      <th>582</th>\n",
       "      <td>410201.0</td>\n",
       "      <td>2042167.0</td>\n",
       "      <td>Sunita</td>\n",
       "      <td>Sunita</td>\n",
       "      <td>2012-03-31</td>\n",
       "      <td>London, England, United Kingdom</td>\n",
       "      <td>I am a professional marketer and work for a la...</td>\n",
       "    </tr>\n",
       "    <tr>\n",
       "      <th>9930</th>\n",
       "      <td>8270933.0</td>\n",
       "      <td>10516636.0</td>\n",
       "      <td>Nicola</td>\n",
       "      <td>Nicola</td>\n",
       "      <td>2013-12-09</td>\n",
       "      <td>London, England, United Kingdom</td>\n",
       "      <td>I've lived and worked in London for 15 years a...</td>\n",
       "    </tr>\n",
       "    <tr>\n",
       "      <th>7051</th>\n",
       "      <td>6350888.0</td>\n",
       "      <td>33086902.0</td>\n",
       "      <td>Eileen</td>\n",
       "      <td>Eileen</td>\n",
       "      <td>2015-05-11</td>\n",
       "      <td>UK</td>\n",
       "      <td>NaN</td>\n",
       "    </tr>\n",
       "    <tr>\n",
       "      <th>8158</th>\n",
       "      <td>7079705.0</td>\n",
       "      <td>37117135.0</td>\n",
       "      <td>Julie</td>\n",
       "      <td>Julie</td>\n",
       "      <td>2015-06-30</td>\n",
       "      <td>Twickenham, England, United Kingdom</td>\n",
       "      <td>Friends, family, good food, the great outdoors...</td>\n",
       "    </tr>\n",
       "    <tr>\n",
       "      <th>9896</th>\n",
       "      <td>8246856.0</td>\n",
       "      <td>425293.0</td>\n",
       "      <td>Ramesh</td>\n",
       "      <td>Ramesh</td>\n",
       "      <td>2011-03-06</td>\n",
       "      <td>london</td>\n",
       "      <td>I am a pharmacist and my wife manages an optic...</td>\n",
       "    </tr>\n",
       "    <tr>\n",
       "      <th>2249</th>\n",
       "      <td>1545845.0</td>\n",
       "      <td>8237976.0</td>\n",
       "      <td>Sarah</td>\n",
       "      <td>Sarah</td>\n",
       "      <td>2013-08-18</td>\n",
       "      <td>GB</td>\n",
       "      <td>NaN</td>\n",
       "    </tr>\n",
       "    <tr>\n",
       "      <th>4640</th>\n",
       "      <td>4122753.0</td>\n",
       "      <td>21388083.0</td>\n",
       "      <td>Naz</td>\n",
       "      <td>Naz</td>\n",
       "      <td>2014-09-16</td>\n",
       "      <td>Richmond, England, United Kingdom</td>\n",
       "      <td>Naz is a well travelled host, having lived in ...</td>\n",
       "    </tr>\n",
       "    <tr>\n",
       "      <th>9485</th>\n",
       "      <td>7904856.0</td>\n",
       "      <td>41683733.0</td>\n",
       "      <td>Peter</td>\n",
       "      <td>Peter</td>\n",
       "      <td>2015-08-17</td>\n",
       "      <td>London, England, United Kingdom</td>\n",
       "      <td>I am a gentle person who enjoys meeting and gr...</td>\n",
       "    </tr>\n",
       "    <tr>\n",
       "      <th>4947</th>\n",
       "      <td>4429966.0</td>\n",
       "      <td>21583393.0</td>\n",
       "      <td>Eric</td>\n",
       "      <td>Eric</td>\n",
       "      <td>2014-09-21</td>\n",
       "      <td>London, United Kingdom</td>\n",
       "      <td>Croatian/American, work in finance, love trave...</td>\n",
       "    </tr>\n",
       "    <tr>\n",
       "      <th>9920</th>\n",
       "      <td>8263392.0</td>\n",
       "      <td>4290670.0</td>\n",
       "      <td>Lara</td>\n",
       "      <td>Lara</td>\n",
       "      <td>2012-11-30</td>\n",
       "      <td>London, United Kingdom</td>\n",
       "      <td>Hi there,\\r\\n\\r\\nWe are a married couple from ...</td>\n",
       "    </tr>\n",
       "    <tr>\n",
       "      <th>1963</th>\n",
       "      <td>1258698.0</td>\n",
       "      <td>6556823.0</td>\n",
       "      <td>Geraldine</td>\n",
       "      <td>Geraldine</td>\n",
       "      <td>2013-05-24</td>\n",
       "      <td>England, United Kingdom</td>\n",
       "      <td>born in Glasgow, live in London.</td>\n",
       "    </tr>\n",
       "    <tr>\n",
       "      <th>8243</th>\n",
       "      <td>7152196.0</td>\n",
       "      <td>37457473.0</td>\n",
       "      <td>Markus</td>\n",
       "      <td>Markus</td>\n",
       "      <td>2015-07-04</td>\n",
       "      <td>London</td>\n",
       "      <td>NaN</td>\n",
       "    </tr>\n",
       "    <tr>\n",
       "      <th>6590</th>\n",
       "      <td>5966158.0</td>\n",
       "      <td>30970160.0</td>\n",
       "      <td>Fari</td>\n",
       "      <td>Fari</td>\n",
       "      <td>2015-04-10</td>\n",
       "      <td>London, UK</td>\n",
       "      <td>NaN</td>\n",
       "    </tr>\n",
       "    <tr>\n",
       "      <th>8847</th>\n",
       "      <td>7521710.0</td>\n",
       "      <td>10372762.0</td>\n",
       "      <td>Rosie</td>\n",
       "      <td>Rosie</td>\n",
       "      <td>2013-12-01</td>\n",
       "      <td>London, England, United Kingdom</td>\n",
       "      <td>Hey! My names Rosie, I am from London and stil...</td>\n",
       "    </tr>\n",
       "  </tbody>\n",
       "</table>\n",
       "</div>"
      ],
      "text/plain": [
       "             id     host_id       host_name       host_name  host_since  \\\n",
       "6252  5611338.0  29021331.0          Sandra          Sandra  2015-03-09   \n",
       "4684  4176912.0   1517803.0           Hilmi           Hilmi  2011-12-19   \n",
       "1731  1041523.0   5733781.0           Tomas           Tomas  2013-04-02   \n",
       "4742  4225126.0  13740059.0            Eric            Eric  2014-03-31   \n",
       "4521  4012401.0  20298323.0           James           James  2014-08-20   \n",
       "6340  5711398.0  11021500.0            Toby            Toby  2014-01-04   \n",
       "576    408888.0   1942597.0          Nanako          Nanako  2012-03-17   \n",
       "5202  4660853.0   3471695.0          Marcus          Marcus  2012-09-04   \n",
       "6363  5732247.0   9752483.0             Jim             Jim  2013-11-01   \n",
       "439    367977.0   1857537.0  Julian & Nicky  Julian & Nicky  2012-03-04   \n",
       "2750  2084765.0   8528437.0           David           David  2013-08-30   \n",
       "7487  6651981.0  34817426.0          Sophie          Sophie  2015-06-02   \n",
       "5272  4702396.0    462601.0           Elsie           Elsie  2011-03-25   \n",
       "5653  5001588.0  10961046.0             Ivy             Ivy  2014-01-02   \n",
       "3999  3543644.0  13826931.0        Nathalie        Nathalie  2014-04-02   \n",
       "6033  5385110.0   6902798.0           Chris           Chris  2013-06-13   \n",
       "582    410201.0   2042167.0          Sunita          Sunita  2012-03-31   \n",
       "9930  8270933.0  10516636.0          Nicola          Nicola  2013-12-09   \n",
       "7051  6350888.0  33086902.0          Eileen          Eileen  2015-05-11   \n",
       "8158  7079705.0  37117135.0           Julie           Julie  2015-06-30   \n",
       "9896  8246856.0    425293.0          Ramesh          Ramesh  2011-03-06   \n",
       "2249  1545845.0   8237976.0           Sarah           Sarah  2013-08-18   \n",
       "4640  4122753.0  21388083.0             Naz             Naz  2014-09-16   \n",
       "9485  7904856.0  41683733.0           Peter           Peter  2015-08-17   \n",
       "4947  4429966.0  21583393.0            Eric            Eric  2014-09-21   \n",
       "9920  8263392.0   4290670.0            Lara            Lara  2012-11-30   \n",
       "1963  1258698.0   6556823.0       Geraldine       Geraldine  2013-05-24   \n",
       "8243  7152196.0  37457473.0          Markus          Markus  2015-07-04   \n",
       "6590  5966158.0  30970160.0            Fari            Fari  2015-04-10   \n",
       "8847  7521710.0  10372762.0           Rosie           Rosie  2013-12-01   \n",
       "\n",
       "                            host_location  \\\n",
       "6252   Madrid, Community of Madrid, Spain   \n",
       "4684               London, United Kingdom   \n",
       "1731                               London   \n",
       "4742    New York, New York, United States   \n",
       "4521                               LONDON   \n",
       "6340                      London, England   \n",
       "576       London, England, United Kingdom   \n",
       "5202             Clapton, Hackney, London   \n",
       "6363               London, United Kingdom   \n",
       "439       London, England, United Kingdom   \n",
       "2750                           London, UK   \n",
       "7487               London, United Kingdom   \n",
       "5272      London, England, United Kingdom   \n",
       "5653      London, England, United Kingdom   \n",
       "3999                               London   \n",
       "6033                               London   \n",
       "582       London, England, United Kingdom   \n",
       "9930      London, England, United Kingdom   \n",
       "7051                                   UK   \n",
       "8158  Twickenham, England, United Kingdom   \n",
       "9896                               london   \n",
       "2249                                   GB   \n",
       "4640    Richmond, England, United Kingdom   \n",
       "9485      London, England, United Kingdom   \n",
       "4947               London, United Kingdom   \n",
       "9920               London, United Kingdom   \n",
       "1963              England, United Kingdom   \n",
       "8243                               London   \n",
       "6590                          London, UK    \n",
       "8847      London, England, United Kingdom   \n",
       "\n",
       "                                             host_about  \n",
       "6252  Hi! \\r\\n\\r\\nWe are Sandra and Pablo, a couple ...  \n",
       "4684  I am a young professional with an engineer bac...  \n",
       "1731                 I'm from London and like to travel  \n",
       "4742                     World traveler extraordinaire   \n",
       "4521  French physiotherapist living in the heart of ...  \n",
       "6340  I'm lively, easygoing and a little bit geeky. ...  \n",
       "576   I am looking for a short term apartment for my...  \n",
       "5202   I like baths and music by dead or angry people.   \n",
       "6363                                                NaN  \n",
       "439   Hi - we're a professional couple born and rais...  \n",
       "2750  Academic, semi-retired - famous for leaving ac...  \n",
       "7487  Hi I am Sophie and I am a 30 years old who wor...  \n",
       "5272  Love travelling\\r\\nLove food\\r\\nTreat others h...  \n",
       "5653  We’re Ivy, London’s most trusted vacation rent...  \n",
       "3999  I hope you like my little pied-a-terre in Nice...  \n",
       "6033  Hi there\\r\\n\\r\\nI'm a friendly and down-to-ear...  \n",
       "582   I am a professional marketer and work for a la...  \n",
       "9930  I've lived and worked in London for 15 years a...  \n",
       "7051                                                NaN  \n",
       "8158  Friends, family, good food, the great outdoors...  \n",
       "9896  I am a pharmacist and my wife manages an optic...  \n",
       "2249                                                NaN  \n",
       "4640  Naz is a well travelled host, having lived in ...  \n",
       "9485  I am a gentle person who enjoys meeting and gr...  \n",
       "4947  Croatian/American, work in finance, love trave...  \n",
       "9920  Hi there,\\r\\n\\r\\nWe are a married couple from ...  \n",
       "1963                  born in Glasgow, live in London.   \n",
       "8243                                                NaN  \n",
       "6590                                                NaN  \n",
       "8847  Hey! My names Rosie, I am from London and stil...  "
      ]
     },
     "execution_count": 257,
     "metadata": {},
     "output_type": "execute_result"
    }
   ],
   "source": [
    "df.sample(30, random_state=42)[['id', 'host_id', 'host_name', 'host_name', 'host_since', 'host_location', 'host_about']]"
   ]
  },
  {
   "cell_type": "code",
   "execution_count": 258,
   "metadata": {},
   "outputs": [
    {
     "data": {
      "text/plain": [
       "id                                                                           410201\n",
       "listing_url                                     https://www.airbnb.com/rooms/410201\n",
       "last_scraped                                                             2020-08-26\n",
       "name                                            2 bed modern apartment in Wimbledon\n",
       "description                       Lovely modern flat in Wimbledon. 5 min walk fr...\n",
       "picture_url                       https://a0.muscache.com/pictures/0796f061-c1fb...\n",
       "host_id                                                                 2.04217e+06\n",
       "host_name                                                                    Sunita\n",
       "host_since                                                               2012-03-31\n",
       "host_location                                       London, England, United Kingdom\n",
       "host_about                        I am a professional marketer and work for a la...\n",
       "host_response_rate                                                              NaN\n",
       "host_acceptance_rate                                                            NaN\n",
       "host_is_superhost                                                                 f\n",
       "host_thumbnail_url                https://a0.muscache.com/im/users/2042167/profi...\n",
       "host_picture_url                  https://a0.muscache.com/im/users/2042167/profi...\n",
       "host_listings_count                                                               1\n",
       "host_total_listings_count                                                       1.0\n",
       "host_verifications                                    ['email', 'phone', 'reviews']\n",
       "latitude                                                                    51.4274\n",
       "longitude                                                                   -0.1911\n",
       "property_type                                                      Entire apartment\n",
       "room_type                                                           Entire home/apt\n",
       "accommodates                                                                      4\n",
       "bathrooms                                                                       NaN\n",
       "bathrooms_text                                                              2 baths\n",
       "bedrooms                                                                        2.0\n",
       "beds                                                                              2\n",
       "amenities                         [\"Laptop-friendly workspace\", \"Wifi\", \"Iron\", ...\n",
       "price                                                                        $75.00\n",
       "minimum_nights                                                                    2\n",
       "maximum_nights                                                                 1125\n",
       "availability_365                                                                  0\n",
       "number_of_reviews                                                                 2\n",
       "first_review                                                             2015-12-13\n",
       "last_review                                                              2015-12-22\n",
       "review_scores_rating                                                            100\n",
       "review_scores_cleanliness                                                        10\n",
       "review_scores_checkin                                                             9\n",
       "review_scores_communication                                                      10\n",
       "review_scores_location                                                            8\n",
       "license                                                                         NaN\n",
       "instant_bookable                                                                  f\n",
       "calculated_host_listings_count                                                    1\n",
       "reviews_per_month                                                              0.03\n",
       "Name: 582, dtype: object"
      ]
     },
     "execution_count": 258,
     "metadata": {},
     "output_type": "execute_result"
    }
   ],
   "source": [
    "df.iloc[582]"
   ]
  },
  {
   "cell_type": "code",
   "execution_count": 259,
   "metadata": {},
   "outputs": [
    {
     "data": {
      "text/html": [
       "<div>\n",
       "<style scoped>\n",
       "    .dataframe tbody tr th:only-of-type {\n",
       "        vertical-align: middle;\n",
       "    }\n",
       "\n",
       "    .dataframe tbody tr th {\n",
       "        vertical-align: top;\n",
       "    }\n",
       "\n",
       "    .dataframe thead th {\n",
       "        text-align: right;\n",
       "    }\n",
       "</style>\n",
       "<table border=\"1\" class=\"dataframe\">\n",
       "  <thead>\n",
       "    <tr style=\"text-align: right;\">\n",
       "      <th></th>\n",
       "      <th>id</th>\n",
       "      <th>listing_url</th>\n",
       "      <th>name</th>\n",
       "      <th>description</th>\n",
       "      <th>host_id</th>\n",
       "      <th>host_name</th>\n",
       "    </tr>\n",
       "  </thead>\n",
       "  <tbody>\n",
       "    <tr>\n",
       "      <th>3559</th>\n",
       "      <td>NaN</td>\n",
       "      <td>NaN</td>\n",
       "      <td>f</td>\n",
       "      <td>https://a0.muscache.com/im/pictures/user/1c171...</td>\n",
       "      <td>1.0</td>\n",
       "      <td>['email', 'phone', 'reviews', 'jumio', 'govern...</td>\n",
       "    </tr>\n",
       "  </tbody>\n",
       "</table>\n",
       "</div>"
      ],
      "text/plain": [
       "      id listing_url name                                        description  \\\n",
       "3559 NaN         NaN    f  https://a0.muscache.com/im/pictures/user/1c171...   \n",
       "\n",
       "      host_id                                          host_name  \n",
       "3559      1.0  ['email', 'phone', 'reviews', 'jumio', 'govern...  "
      ]
     },
     "execution_count": 259,
     "metadata": {},
     "output_type": "execute_result"
    }
   ],
   "source": [
    "df[df.id.isna()][['id','listing_url','name','description','host_id','host_name']]"
   ]
  },
  {
   "cell_type": "code",
   "execution_count": 260,
   "metadata": {},
   "outputs": [],
   "source": [
    "df.drop(df[df.id.isna()].index.values, axis=0, inplace=True)"
   ]
  },
  {
   "cell_type": "code",
   "execution_count": 261,
   "metadata": {},
   "outputs": [
    {
     "data": {
      "text/plain": [
       "bathrooms                      9999\n",
       "license                        9999\n",
       "host_response_rate             5990\n",
       "host_acceptance_rate           4194\n",
       "host_about                     2489\n",
       "review_scores_checkin          1933\n",
       "review_scores_location         1929\n",
       "review_scores_cleanliness      1928\n",
       "review_scores_communication    1925\n",
       "review_scores_rating           1913\n",
       "reviews_per_month              1811\n",
       "first_review                   1811\n",
       "dtype: int64"
      ]
     },
     "execution_count": 261,
     "metadata": {},
     "output_type": "execute_result"
    }
   ],
   "source": [
    "df.isnull().sum(axis=0).sort_values(ascending=False)[:12]"
   ]
  },
  {
   "cell_type": "code",
   "execution_count": 262,
   "metadata": {},
   "outputs": [],
   "source": [
    "df.drop(columns=['bathrooms','license','host_response_rate','host_acceptance_rate','host_about'], inplace=True)"
   ]
  },
  {
   "cell_type": "code",
   "execution_count": null,
   "metadata": {},
   "outputs": [],
   "source": []
  },
  {
   "cell_type": "code",
   "execution_count": 263,
   "metadata": {},
   "outputs": [
    {
     "data": {
      "text/plain": [
       "3558    30\n",
       "8015    16\n",
       "9767    16\n",
       "8052    16\n",
       "8992    16\n",
       "        ..\n",
       "6146     0\n",
       "6147     0\n",
       "6148     0\n",
       "6150     0\n",
       "0        0\n",
       "Length: 9999, dtype: int64"
      ]
     },
     "execution_count": 263,
     "metadata": {},
     "output_type": "execute_result"
    }
   ],
   "source": [
    "df.isnull().sum(axis=1).sort_values(ascending=False)"
   ]
  },
  {
   "cell_type": "code",
   "execution_count": 264,
   "metadata": {},
   "outputs": [
    {
     "name": "stdout",
     "output_type": "stream",
     "text": [
      "<class 'pandas.core.series.Series'>\n"
     ]
    },
    {
     "data": {
      "text/plain": [
       "<AxesSubplot:ylabel='Frequency'>"
      ]
     },
     "execution_count": 264,
     "metadata": {},
     "output_type": "execute_result"
    },
    {
     "data": {
      "image/png": "[encoded data removed]",
      "text/plain": [
       "<Figure size 432x288 with 1 Axes>"
      ]
     },
     "metadata": {
      "needs_background": "light"
     },
     "output_type": "display_data"
    }
   ],
   "source": [
    "probs = df.isnull().sum(axis=1)\n",
    "print(type(probs))       # Note that this has returned a series!\n",
    "probs.plot.hist(bins=30) # Oooooooh, check out what we can do with a series!"
   ]
  },
  {
   "cell_type": "code",
   "execution_count": 265,
   "metadata": {},
   "outputs": [],
   "source": [
    "df.drop(probs[probs > 7].index, inplace=True)"
   ]
  },
  {
   "cell_type": "code",
   "execution_count": 266,
   "metadata": {},
   "outputs": [
    {
     "name": "stdout",
     "output_type": "stream",
     "text": [
      "Have reduced data frame to: 8188 rows and 40 columns\n"
     ]
    }
   ],
   "source": [
    "print(f\"Have reduced data frame to: {df.shape[0]} rows and {df.shape[1]} columns\")"
   ]
  },
  {
   "cell_type": "code",
   "execution_count": 267,
   "metadata": {},
   "outputs": [
    {
     "data": {
      "text/html": [
       "<div>\n",
       "<style scoped>\n",
       "    .dataframe tbody tr th:only-of-type {\n",
       "        vertical-align: middle;\n",
       "    }\n",
       "\n",
       "    .dataframe tbody tr th {\n",
       "        vertical-align: top;\n",
       "    }\n",
       "\n",
       "    .dataframe thead th {\n",
       "        text-align: right;\n",
       "    }\n",
       "</style>\n",
       "<table border=\"1\" class=\"dataframe\">\n",
       "  <thead>\n",
       "    <tr style=\"text-align: right;\">\n",
       "      <th></th>\n",
       "      <th>instant_bookable</th>\n",
       "      <th>host_is_superhost</th>\n",
       "    </tr>\n",
       "  </thead>\n",
       "  <tbody>\n",
       "    <tr>\n",
       "      <th>4993</th>\n",
       "      <td>t</td>\n",
       "      <td>t</td>\n",
       "    </tr>\n",
       "    <tr>\n",
       "      <th>9740</th>\n",
       "      <td>f</td>\n",
       "      <td>f</td>\n",
       "    </tr>\n",
       "    <tr>\n",
       "      <th>8730</th>\n",
       "      <td>t</td>\n",
       "      <td>f</td>\n",
       "    </tr>\n",
       "    <tr>\n",
       "      <th>421</th>\n",
       "      <td>t</td>\n",
       "      <td>f</td>\n",
       "    </tr>\n",
       "    <tr>\n",
       "      <th>2225</th>\n",
       "      <td>t</td>\n",
       "      <td>t</td>\n",
       "    </tr>\n",
       "  </tbody>\n",
       "</table>\n",
       "</div>"
      ],
      "text/plain": [
       "     instant_bookable host_is_superhost\n",
       "4993                t                 t\n",
       "9740                f                 f\n",
       "8730                t                 f\n",
       "421                 t                 f\n",
       "2225                t                 t"
      ]
     },
     "execution_count": 267,
     "metadata": {},
     "output_type": "execute_result"
    }
   ],
   "source": [
    "bools = ['instant_bookable','host_is_superhost']\n",
    "df.sample(5, random_state=43)[bools]"
   ]
  },
  {
   "cell_type": "code",
   "execution_count": 268,
   "metadata": {},
   "outputs": [
    {
     "name": "stdout",
     "output_type": "stream",
     "text": [
      "Converting instant_bookable\n",
      "Converting host_is_superhost\n"
     ]
    }
   ],
   "source": [
    "# This approach requires us to map 't' and 'f'\n",
    "# to 'True' and 'False'\n",
    "map = {'f':False, 't':True}\n",
    "for b in bools:\n",
    "    print(f\"Converting {b}\")\n",
    "    df[b] = df[b].replace(map).astype('bool')"
   ]
  },
  {
   "cell_type": "code",
   "execution_count": 269,
   "metadata": {},
   "outputs": [
    {
     "data": {
      "text/html": [
       "<div>\n",
       "<style scoped>\n",
       "    .dataframe tbody tr th:only-of-type {\n",
       "        vertical-align: middle;\n",
       "    }\n",
       "\n",
       "    .dataframe tbody tr th {\n",
       "        vertical-align: top;\n",
       "    }\n",
       "\n",
       "    .dataframe thead th {\n",
       "        text-align: right;\n",
       "    }\n",
       "</style>\n",
       "<table border=\"1\" class=\"dataframe\">\n",
       "  <thead>\n",
       "    <tr style=\"text-align: right;\">\n",
       "      <th></th>\n",
       "      <th>instant_bookable</th>\n",
       "      <th>host_is_superhost</th>\n",
       "    </tr>\n",
       "  </thead>\n",
       "  <tbody>\n",
       "    <tr>\n",
       "      <th>4993</th>\n",
       "      <td>True</td>\n",
       "      <td>True</td>\n",
       "    </tr>\n",
       "    <tr>\n",
       "      <th>9740</th>\n",
       "      <td>False</td>\n",
       "      <td>False</td>\n",
       "    </tr>\n",
       "    <tr>\n",
       "      <th>8730</th>\n",
       "      <td>True</td>\n",
       "      <td>False</td>\n",
       "    </tr>\n",
       "    <tr>\n",
       "      <th>421</th>\n",
       "      <td>True</td>\n",
       "      <td>False</td>\n",
       "    </tr>\n",
       "    <tr>\n",
       "      <th>2225</th>\n",
       "      <td>True</td>\n",
       "      <td>True</td>\n",
       "    </tr>\n",
       "  </tbody>\n",
       "</table>\n",
       "</div>"
      ],
      "text/plain": [
       "      instant_bookable  host_is_superhost\n",
       "4993              True               True\n",
       "9740             False              False\n",
       "8730              True              False\n",
       "421               True              False\n",
       "2225              True               True"
      ]
     },
     "execution_count": 269,
     "metadata": {},
     "output_type": "execute_result"
    }
   ],
   "source": [
    "df.sample(5, random_state=43)[bools]"
   ]
  },
  {
   "cell_type": "code",
   "execution_count": 270,
   "metadata": {},
   "outputs": [
    {
     "data": {
      "text/html": [
       "<div>\n",
       "<style scoped>\n",
       "    .dataframe tbody tr th:only-of-type {\n",
       "        vertical-align: middle;\n",
       "    }\n",
       "\n",
       "    .dataframe tbody tr th {\n",
       "        vertical-align: top;\n",
       "    }\n",
       "\n",
       "    .dataframe thead th {\n",
       "        text-align: right;\n",
       "    }\n",
       "</style>\n",
       "<table border=\"1\" class=\"dataframe\">\n",
       "  <thead>\n",
       "    <tr style=\"text-align: right;\">\n",
       "      <th></th>\n",
       "      <th>last_scraped</th>\n",
       "      <th>host_since</th>\n",
       "      <th>first_review</th>\n",
       "      <th>last_review</th>\n",
       "    </tr>\n",
       "  </thead>\n",
       "  <tbody>\n",
       "    <tr>\n",
       "      <th>4993</th>\n",
       "      <td>2020-08-26</td>\n",
       "      <td>2013-11-30</td>\n",
       "      <td>2014-12-21</td>\n",
       "      <td>2020-03-01</td>\n",
       "    </tr>\n",
       "    <tr>\n",
       "      <th>9740</th>\n",
       "      <td>2020-08-26</td>\n",
       "      <td>2015-04-12</td>\n",
       "      <td>2015-09-05</td>\n",
       "      <td>2015-09-05</td>\n",
       "    </tr>\n",
       "    <tr>\n",
       "      <th>8730</th>\n",
       "      <td>2020-08-26</td>\n",
       "      <td>2015-07-04</td>\n",
       "      <td>2015-07-31</td>\n",
       "      <td>2020-03-15</td>\n",
       "    </tr>\n",
       "    <tr>\n",
       "      <th>421</th>\n",
       "      <td>2020-08-27</td>\n",
       "      <td>2012-02-27</td>\n",
       "      <td>2016-02-15</td>\n",
       "      <td>2020-03-14</td>\n",
       "    </tr>\n",
       "    <tr>\n",
       "      <th>2225</th>\n",
       "      <td>2020-08-26</td>\n",
       "      <td>2013-04-24</td>\n",
       "      <td>2013-09-19</td>\n",
       "      <td>2020-06-03</td>\n",
       "    </tr>\n",
       "  </tbody>\n",
       "</table>\n",
       "</div>"
      ],
      "text/plain": [
       "     last_scraped  host_since first_review last_review\n",
       "4993   2020-08-26  2013-11-30   2014-12-21  2020-03-01\n",
       "9740   2020-08-26  2015-04-12   2015-09-05  2015-09-05\n",
       "8730   2020-08-26  2015-07-04   2015-07-31  2020-03-15\n",
       "421    2020-08-27  2012-02-27   2016-02-15  2020-03-14\n",
       "2225   2020-08-26  2013-04-24   2013-09-19  2020-06-03"
      ]
     },
     "execution_count": 270,
     "metadata": {},
     "output_type": "execute_result"
    }
   ],
   "source": [
    "dates = ['last_scraped','host_since','first_review','last_review']\n",
    "df.sample(5, random_state=43)[dates]"
   ]
  },
  {
   "cell_type": "code",
   "execution_count": 271,
   "metadata": {},
   "outputs": [
    {
     "name": "stdout",
     "output_type": "stream",
     "text": [
      "Converting last_scraped\n",
      "Converting host_since\n",
      "Converting first_review\n",
      "Converting last_review\n"
     ]
    }
   ],
   "source": [
    "for d in dates:\n",
    "    print(\"Converting \" + d)\n",
    "    df[d] = pd.to_datetime(df[d], infer_datetime_format=True)"
   ]
  },
  {
   "cell_type": "code",
   "execution_count": 272,
   "metadata": {},
   "outputs": [
    {
     "data": {
      "text/html": [
       "<div>\n",
       "<style scoped>\n",
       "    .dataframe tbody tr th:only-of-type {\n",
       "        vertical-align: middle;\n",
       "    }\n",
       "\n",
       "    .dataframe tbody tr th {\n",
       "        vertical-align: top;\n",
       "    }\n",
       "\n",
       "    .dataframe thead th {\n",
       "        text-align: right;\n",
       "    }\n",
       "</style>\n",
       "<table border=\"1\" class=\"dataframe\">\n",
       "  <thead>\n",
       "    <tr style=\"text-align: right;\">\n",
       "      <th></th>\n",
       "      <th>last_scraped</th>\n",
       "      <th>host_since</th>\n",
       "      <th>first_review</th>\n",
       "      <th>last_review</th>\n",
       "    </tr>\n",
       "  </thead>\n",
       "  <tbody>\n",
       "    <tr>\n",
       "      <th>4993</th>\n",
       "      <td>2020-08-26</td>\n",
       "      <td>2013-11-30</td>\n",
       "      <td>2014-12-21</td>\n",
       "      <td>2020-03-01</td>\n",
       "    </tr>\n",
       "    <tr>\n",
       "      <th>9740</th>\n",
       "      <td>2020-08-26</td>\n",
       "      <td>2015-04-12</td>\n",
       "      <td>2015-09-05</td>\n",
       "      <td>2015-09-05</td>\n",
       "    </tr>\n",
       "    <tr>\n",
       "      <th>8730</th>\n",
       "      <td>2020-08-26</td>\n",
       "      <td>2015-07-04</td>\n",
       "      <td>2015-07-31</td>\n",
       "      <td>2020-03-15</td>\n",
       "    </tr>\n",
       "    <tr>\n",
       "      <th>421</th>\n",
       "      <td>2020-08-27</td>\n",
       "      <td>2012-02-27</td>\n",
       "      <td>2016-02-15</td>\n",
       "      <td>2020-03-14</td>\n",
       "    </tr>\n",
       "    <tr>\n",
       "      <th>2225</th>\n",
       "      <td>2020-08-26</td>\n",
       "      <td>2013-04-24</td>\n",
       "      <td>2013-09-19</td>\n",
       "      <td>2020-06-03</td>\n",
       "    </tr>\n",
       "  </tbody>\n",
       "</table>\n",
       "</div>"
      ],
      "text/plain": [
       "     last_scraped host_since first_review last_review\n",
       "4993   2020-08-26 2013-11-30   2014-12-21  2020-03-01\n",
       "9740   2020-08-26 2015-04-12   2015-09-05  2015-09-05\n",
       "8730   2020-08-26 2015-07-04   2015-07-31  2020-03-15\n",
       "421    2020-08-27 2012-02-27   2016-02-15  2020-03-14\n",
       "2225   2020-08-26 2013-04-24   2013-09-19  2020-06-03"
      ]
     },
     "execution_count": 272,
     "metadata": {},
     "output_type": "execute_result"
    }
   ],
   "source": [
    "df.sample(5, random_state=43)[dates]"
   ]
  },
  {
   "cell_type": "code",
   "execution_count": 273,
   "metadata": {},
   "outputs": [
    {
     "name": "stdout",
     "output_type": "stream",
     "text": [
      "datetime64[ns]\n"
     ]
    },
    {
     "data": {
      "text/plain": [
       "4993    26/08/20\n",
       "9740    26/08/20\n",
       "8730    26/08/20\n",
       "421     27/08/20\n",
       "2225    26/08/20\n",
       "Name: last_scraped, dtype: object"
      ]
     },
     "execution_count": 273,
     "metadata": {},
     "output_type": "execute_result"
    }
   ],
   "source": [
    "print(df[dates[0]].dtype)\n",
    "df.sample(5, random_state=43)[dates[0]].dt.strftime('%d/%m/%y')\n",
    "# Try some other columns and other formats!"
   ]
  },
  {
   "cell_type": "code",
   "execution_count": 274,
   "metadata": {},
   "outputs": [
    {
     "data": {
      "text/html": [
       "<div>\n",
       "<style scoped>\n",
       "    .dataframe tbody tr th:only-of-type {\n",
       "        vertical-align: middle;\n",
       "    }\n",
       "\n",
       "    .dataframe tbody tr th {\n",
       "        vertical-align: top;\n",
       "    }\n",
       "\n",
       "    .dataframe thead th {\n",
       "        text-align: right;\n",
       "    }\n",
       "</style>\n",
       "<table border=\"1\" class=\"dataframe\">\n",
       "  <thead>\n",
       "    <tr style=\"text-align: right;\">\n",
       "      <th></th>\n",
       "      <th>property_type</th>\n",
       "      <th>room_type</th>\n",
       "    </tr>\n",
       "  </thead>\n",
       "  <tbody>\n",
       "    <tr>\n",
       "      <th>4993</th>\n",
       "      <td>Entire apartment</td>\n",
       "      <td>Entire home/apt</td>\n",
       "    </tr>\n",
       "    <tr>\n",
       "      <th>9740</th>\n",
       "      <td>Private room in apartment</td>\n",
       "      <td>Private room</td>\n",
       "    </tr>\n",
       "    <tr>\n",
       "      <th>8730</th>\n",
       "      <td>Private room in apartment</td>\n",
       "      <td>Private room</td>\n",
       "    </tr>\n",
       "    <tr>\n",
       "      <th>421</th>\n",
       "      <td>Private room in townhouse</td>\n",
       "      <td>Private room</td>\n",
       "    </tr>\n",
       "    <tr>\n",
       "      <th>2225</th>\n",
       "      <td>Entire apartment</td>\n",
       "      <td>Entire home/apt</td>\n",
       "    </tr>\n",
       "  </tbody>\n",
       "</table>\n",
       "</div>"
      ],
      "text/plain": [
       "                  property_type        room_type\n",
       "4993           Entire apartment  Entire home/apt\n",
       "9740  Private room in apartment     Private room\n",
       "8730  Private room in apartment     Private room\n",
       "421   Private room in townhouse     Private room\n",
       "2225           Entire apartment  Entire home/apt"
      ]
     },
     "execution_count": 274,
     "metadata": {},
     "output_type": "execute_result"
    }
   ],
   "source": [
    "cats = ['property_type','room_type']\n",
    "df.sample(5, random_state=43)[cats]"
   ]
  },
  {
   "cell_type": "code",
   "execution_count": 275,
   "metadata": {},
   "outputs": [
    {
     "ename": "KeyError",
     "evalue": "\"['neighbourhood'] not in index\"",
     "output_type": "error",
     "traceback": [
      "\u001b[0;31m---------------------------------------------------------------------------\u001b[0m",
      "\u001b[0;31mKeyError\u001b[0m                                  Traceback (most recent call last)",
      "\u001b[0;32m<ipython-input-275-1d5dadf05abc>\u001b[0m in \u001b[0;36m<module>\u001b[0;34m\u001b[0m\n\u001b[1;32m      1\u001b[0m \u001b[0mcount_host\u001b[0m \u001b[0;34m=\u001b[0m \u001b[0;34m[\u001b[0m\u001b[0;34m'calculated_host_listings_count'\u001b[0m\u001b[0;34m,\u001b[0m\u001b[0;34m'room_type'\u001b[0m\u001b[0;34m,\u001b[0m\u001b[0;34m'neighbourhood'\u001b[0m\u001b[0;34m]\u001b[0m\u001b[0;34m\u001b[0m\u001b[0;34m\u001b[0m\u001b[0m\n\u001b[0;32m----> 2\u001b[0;31m \u001b[0mdf\u001b[0m\u001b[0;34m.\u001b[0m\u001b[0msample\u001b[0m\u001b[0;34m(\u001b[0m\u001b[0;36m5\u001b[0m\u001b[0;34m,\u001b[0m\u001b[0mrandom_state\u001b[0m\u001b[0;34m=\u001b[0m\u001b[0;36m43\u001b[0m\u001b[0;34m)\u001b[0m\u001b[0;34m[\u001b[0m\u001b[0mcount_host\u001b[0m\u001b[0;34m]\u001b[0m\u001b[0;34m\u001b[0m\u001b[0;34m\u001b[0m\u001b[0m\n\u001b[0m",
      "\u001b[0;32m/opt/conda/envs/sds2020/lib/python3.7/site-packages/pandas/core/frame.py\u001b[0m in \u001b[0;36m__getitem__\u001b[0;34m(self, key)\u001b[0m\n\u001b[1;32m   2906\u001b[0m             \u001b[0;32mif\u001b[0m \u001b[0mis_iterator\u001b[0m\u001b[0;34m(\u001b[0m\u001b[0mkey\u001b[0m\u001b[0;34m)\u001b[0m\u001b[0;34m:\u001b[0m\u001b[0;34m\u001b[0m\u001b[0;34m\u001b[0m\u001b[0m\n\u001b[1;32m   2907\u001b[0m                 \u001b[0mkey\u001b[0m \u001b[0;34m=\u001b[0m \u001b[0mlist\u001b[0m\u001b[0;34m(\u001b[0m\u001b[0mkey\u001b[0m\u001b[0;34m)\u001b[0m\u001b[0;34m\u001b[0m\u001b[0;34m\u001b[0m\u001b[0m\n\u001b[0;32m-> 2908\u001b[0;31m             \u001b[0mindexer\u001b[0m \u001b[0;34m=\u001b[0m \u001b[0mself\u001b[0m\u001b[0;34m.\u001b[0m\u001b[0mloc\u001b[0m\u001b[0;34m.\u001b[0m\u001b[0m_get_listlike_indexer\u001b[0m\u001b[0;34m(\u001b[0m\u001b[0mkey\u001b[0m\u001b[0;34m,\u001b[0m \u001b[0maxis\u001b[0m\u001b[0;34m=\u001b[0m\u001b[0;36m1\u001b[0m\u001b[0;34m,\u001b[0m \u001b[0mraise_missing\u001b[0m\u001b[0;34m=\u001b[0m\u001b[0;32mTrue\u001b[0m\u001b[0;34m)\u001b[0m\u001b[0;34m[\u001b[0m\u001b[0;36m1\u001b[0m\u001b[0;34m]\u001b[0m\u001b[0;34m\u001b[0m\u001b[0;34m\u001b[0m\u001b[0m\n\u001b[0m\u001b[1;32m   2909\u001b[0m \u001b[0;34m\u001b[0m\u001b[0m\n\u001b[1;32m   2910\u001b[0m         \u001b[0;31m# take() does not accept boolean indexers\u001b[0m\u001b[0;34m\u001b[0m\u001b[0;34m\u001b[0m\u001b[0;34m\u001b[0m\u001b[0m\n",
      "\u001b[0;32m/opt/conda/envs/sds2020/lib/python3.7/site-packages/pandas/core/indexing.py\u001b[0m in \u001b[0;36m_get_listlike_indexer\u001b[0;34m(self, key, axis, raise_missing)\u001b[0m\n\u001b[1;32m   1252\u001b[0m             \u001b[0mkeyarr\u001b[0m\u001b[0;34m,\u001b[0m \u001b[0mindexer\u001b[0m\u001b[0;34m,\u001b[0m \u001b[0mnew_indexer\u001b[0m \u001b[0;34m=\u001b[0m \u001b[0max\u001b[0m\u001b[0;34m.\u001b[0m\u001b[0m_reindex_non_unique\u001b[0m\u001b[0;34m(\u001b[0m\u001b[0mkeyarr\u001b[0m\u001b[0;34m)\u001b[0m\u001b[0;34m\u001b[0m\u001b[0;34m\u001b[0m\u001b[0m\n\u001b[1;32m   1253\u001b[0m \u001b[0;34m\u001b[0m\u001b[0m\n\u001b[0;32m-> 1254\u001b[0;31m         \u001b[0mself\u001b[0m\u001b[0;34m.\u001b[0m\u001b[0m_validate_read_indexer\u001b[0m\u001b[0;34m(\u001b[0m\u001b[0mkeyarr\u001b[0m\u001b[0;34m,\u001b[0m \u001b[0mindexer\u001b[0m\u001b[0;34m,\u001b[0m \u001b[0maxis\u001b[0m\u001b[0;34m,\u001b[0m \u001b[0mraise_missing\u001b[0m\u001b[0;34m=\u001b[0m\u001b[0mraise_missing\u001b[0m\u001b[0;34m)\u001b[0m\u001b[0;34m\u001b[0m\u001b[0;34m\u001b[0m\u001b[0m\n\u001b[0m\u001b[1;32m   1255\u001b[0m         \u001b[0;32mreturn\u001b[0m \u001b[0mkeyarr\u001b[0m\u001b[0;34m,\u001b[0m \u001b[0mindexer\u001b[0m\u001b[0;34m\u001b[0m\u001b[0;34m\u001b[0m\u001b[0m\n\u001b[1;32m   1256\u001b[0m \u001b[0;34m\u001b[0m\u001b[0m\n",
      "\u001b[0;32m/opt/conda/envs/sds2020/lib/python3.7/site-packages/pandas/core/indexing.py\u001b[0m in \u001b[0;36m_validate_read_indexer\u001b[0;34m(self, key, indexer, axis, raise_missing)\u001b[0m\n\u001b[1;32m   1302\u001b[0m             \u001b[0;32mif\u001b[0m \u001b[0mraise_missing\u001b[0m\u001b[0;34m:\u001b[0m\u001b[0;34m\u001b[0m\u001b[0;34m\u001b[0m\u001b[0m\n\u001b[1;32m   1303\u001b[0m                 \u001b[0mnot_found\u001b[0m \u001b[0;34m=\u001b[0m \u001b[0mlist\u001b[0m\u001b[0;34m(\u001b[0m\u001b[0mset\u001b[0m\u001b[0;34m(\u001b[0m\u001b[0mkey\u001b[0m\u001b[0;34m)\u001b[0m \u001b[0;34m-\u001b[0m \u001b[0mset\u001b[0m\u001b[0;34m(\u001b[0m\u001b[0max\u001b[0m\u001b[0;34m)\u001b[0m\u001b[0;34m)\u001b[0m\u001b[0;34m\u001b[0m\u001b[0;34m\u001b[0m\u001b[0m\n\u001b[0;32m-> 1304\u001b[0;31m                 \u001b[0;32mraise\u001b[0m \u001b[0mKeyError\u001b[0m\u001b[0;34m(\u001b[0m\u001b[0;34mf\"{not_found} not in index\"\u001b[0m\u001b[0;34m)\u001b[0m\u001b[0;34m\u001b[0m\u001b[0;34m\u001b[0m\u001b[0m\n\u001b[0m\u001b[1;32m   1305\u001b[0m \u001b[0;34m\u001b[0m\u001b[0m\n\u001b[1;32m   1306\u001b[0m             \u001b[0;31m# we skip the warning on Categorical\u001b[0m\u001b[0;34m\u001b[0m\u001b[0;34m\u001b[0m\u001b[0;34m\u001b[0m\u001b[0m\n",
      "\u001b[0;31mKeyError\u001b[0m: \"['neighbourhood'] not in index\""
     ]
    }
   ],
   "source": [
    "count_host = ['calculated_host_listings_count','room_type','neighbourhood']\n",
    "df.sample(5,random_state=43)[count_host]"
   ]
  },
  {
   "cell_type": "code",
   "execution_count": null,
   "metadata": {},
   "outputs": [],
   "source": [
    "df[count_host[0]].value_counts()"
   ]
  },
  {
   "cell_type": "code",
   "execution_count": null,
   "metadata": {},
   "outputs": [],
   "source": [
    "df[cats[1]].value_counts()"
   ]
  },
  {
   "cell_type": "code",
   "execution_count": null,
   "metadata": {},
   "outputs": [],
   "source": [
    "for c in count_host:\n",
    "    print(f\"Converting {c}\")\n",
    "    df[c] = df[c].astype('category')"
   ]
  },
  {
   "cell_type": "code",
   "execution_count": null,
   "metadata": {},
   "outputs": [],
   "source": [
    "for c in cats:\n",
    "    print(f\"Converting {c}\")\n",
    "    df[c] = df[c].astype('category')"
   ]
  },
  {
   "cell_type": "code",
   "execution_count": null,
   "metadata": {},
   "outputs": [],
   "source": [
    "print(df[count_host[0]].cat.categories.values)"
   ]
  },
  {
   "cell_type": "code",
   "execution_count": null,
   "metadata": {},
   "outputs": [],
   "source": [
    "print(df[cats[1]].cat.categories.values)"
   ]
  },
  {
   "cell_type": "code",
   "execution_count": null,
   "metadata": {},
   "outputs": [],
   "source": [
    "print(df[cats[0]].cat.categories.values)"
   ]
  },
  {
   "cell_type": "code",
   "execution_count": null,
   "metadata": {},
   "outputs": [],
   "source": [
    "df.sample(5, random_state=43)[cats]"
   ]
  },
  {
   "cell_type": "code",
   "execution_count": null,
   "metadata": {},
   "outputs": [],
   "source": [
    "df.sample(5, random_state=43)[count_host]"
   ]
  },
  {
   "cell_type": "code",
   "execution_count": null,
   "metadata": {},
   "outputs": [],
   "source": [
    "money = ['price']\n",
    "df.sample(5, random_state=42)[money]"
   ]
  },
  {
   "cell_type": "code",
   "execution_count": null,
   "metadata": {},
   "outputs": [],
   "source": [
    "#jon created this code to create an error\n",
    "#for m in money:\n",
    "    #print(f\"Converting {m}\")\n",
    "    #df[m] = df[m].str.replace('$','').astype('float')"
   ]
  },
  {
   "cell_type": "code",
   "execution_count": null,
   "metadata": {},
   "outputs": [],
   "source": [
    "for m in money:\n",
    "    print(f\"Converting {m}\")\n",
    "    df[m] = df[m].str.replace('$','').str.replace(',','').astype('float')"
   ]
  },
  {
   "cell_type": "code",
   "execution_count": null,
   "metadata": {},
   "outputs": [],
   "source": [
    "df.sample(5, random_state=42)[money]"
   ]
  },
  {
   "cell_type": "code",
   "execution_count": null,
   "metadata": {},
   "outputs": [],
   "source": [
    "ints  = ['id','host_id','host_listings_count','host_total_listings_count','accommodates',\n",
    "         'beds','minimum_nights','maximum_nights','availability_365','calculated_host_listings_count']\n",
    "for i in ints:\n",
    "    print(f\"Converting {i}\")\n",
    "    try:\n",
    "        df[i] = df[i].astype('float').astype('int')\n",
    "    except ValueError as e:\n",
    "        print(\"\\tConverting to unsigned 16-bit integer.\")\n",
    "        df[i] = df[i].astype('float').astype(pd.UInt16Dtype())"
   ]
  },
  {
   "cell_type": "code",
   "execution_count": null,
   "metadata": {},
   "outputs": [],
   "source": [
    "df.beds.isna().value_counts()"
   ]
  },
  {
   "cell_type": "code",
   "execution_count": null,
   "metadata": {},
   "outputs": [],
   "source": [
    "df.info()"
   ]
  },
  {
   "cell_type": "code",
   "execution_count": null,
   "metadata": {},
   "outputs": [],
   "source": [
    "df.describe()"
   ]
  },
  {
   "cell_type": "code",
   "execution_count": null,
   "metadata": {},
   "outputs": [],
   "source": []
  },
  {
   "cell_type": "code",
   "execution_count": null,
   "metadata": {},
   "outputs": [],
   "source": [
    "df[['price','longitude','latitude']].describe(percentiles=[0.20, 0.80])"
   ]
  },
  {
   "cell_type": "code",
   "execution_count": null,
   "metadata": {},
   "outputs": [],
   "source": [
    "df[['instant_bookable', 'calculated_host_listings_count']].describe(percentiles=[0.20, 0.80])"
   ]
  },
  {
   "cell_type": "code",
   "execution_count": null,
   "metadata": {},
   "outputs": [],
   "source": [
    "print(f\"The mean price is {df.price.mean():0.2f}\")\n",
    "print(f\"The median price is {df.price.median():0.2f}\")"
   ]
  },
  {
   "cell_type": "code",
   "execution_count": null,
   "metadata": {},
   "outputs": [],
   "source": [
    "print(f\"The mean calculated host listing count is {df.calculated_host_listings_count.mean():0.2f}\")\n",
    "print(f\"The median calculated host listing count is {df.calculated_host_listings_count.median():0.2f}\")"
   ]
  },
  {
   "cell_type": "code",
   "execution_count": null,
   "metadata": {},
   "outputs": [],
   "source": [
    "path = os.path.join('data','clean')\n",
    "\n",
    "if not os.path.exists(path):\n",
    "    print(f\"Creating {path} under {os.getcwd()}\")\n",
    "    os.makedirs(path)\n",
    "    \n",
    "df.to_csv(os.path.join(path,fn), index=False)\n",
    "print(\"Done.\")"
   ]
  },
  {
   "cell_type": "code",
   "execution_count": null,
   "metadata": {},
   "outputs": [],
   "source": [
    "df.groupby('room_type')['property_type'].value_counts()"
   ]
  },
  {
   "cell_type": "code",
   "execution_count": null,
   "metadata": {},
   "outputs": [],
   "source": [
    "df.groupby('calculated_host_listings_count')['property_type'].value_counts()"
   ]
  },
  {
   "cell_type": "code",
   "execution_count": null,
   "metadata": {},
   "outputs": [],
   "source": [
    "pricey = df[(df.room_type=='Entire home/apt') & (df.price>100)]"
   ]
  },
  {
   "cell_type": "code",
   "execution_count": null,
   "metadata": {},
   "outputs": [],
   "source": [
    "hostie = df[(df.property_type=='Entire apartment') & (df.calculated_host_listings_count>20)]"
   ]
  },
  {
   "cell_type": "markdown",
   "metadata": {},
   "source": []
  },
  {
   "cell_type": "code",
   "execution_count": null,
   "metadata": {},
   "outputs": [],
   "source": [
    "print(f\"Selected {pricey.shape[0]} rows\")"
   ]
  },
  {
   "cell_type": "code",
   "execution_count": null,
   "metadata": {},
   "outputs": [],
   "source": [
    "print(f\"Selected {hostie.shape[0]} rows\")"
   ]
  },
  {
   "cell_type": "code",
   "execution_count": null,
   "metadata": {},
   "outputs": [],
   "source": [
    "df[df.price==df.price.min()][['price','id','listing_url','room_type','description']]"
   ]
  },
  {
   "cell_type": "code",
   "execution_count": null,
   "metadata": {},
   "outputs": [],
   "source": [
    "df[df.calculated_host_listings_count==df.calculated_host_listings_count.min()][['calculated_host_listings_count','price','id','listing_url','room_type','description']]"
   ]
  },
  {
   "cell_type": "code",
   "execution_count": null,
   "metadata": {},
   "outputs": [],
   "source": [
    "df[df.calculated_host_listings_count==df.calculated_host_listings_count.max()][['calculated_host_listings_count','price','id','listing_url','host_name','description']]"
   ]
  },
  {
   "cell_type": "code",
   "execution_count": null,
   "metadata": {},
   "outputs": [],
   "source": [
    "df[df.price==df.price.max()][['price','id','listing_url','room_type','description',]]"
   ]
  },
  {
   "cell_type": "code",
   "execution_count": null,
   "metadata": {},
   "outputs": [],
   "source": [
    "dfr = df[ (df.price > df.price.quantile(0.25)) & (df.price < df.price.quantile(0.75)) ]\n",
    "print(f\"Rows: {dfr.shape[0]}\")\n",
    "print(f\"Lower Quartile: {dfr.price.min():>6.2f}\")\n",
    "print(f\"Upper Quartile: {dfr.price.max():>6.2f}\")\n",
    "dfr.head(3)"
   ]
  },
  {
   "cell_type": "code",
   "execution_count": null,
   "metadata": {},
   "outputs": [],
   "source": [
    "df['z'] = (df.price - df.price.mean()) / df.price.std()\n",
    "df.z.describe()"
   ]
  },
  {
   "cell_type": "code",
   "execution_count": null,
   "metadata": {},
   "outputs": [],
   "source": [
    "df['iqs'] = (df.price - df.price.quantile(0.25))/(df.price.quantile(0.75)-df.price.quantile(0.25))\n",
    "df.iqs.describe()"
   ]
  },
  {
   "cell_type": "code",
   "execution_count": null,
   "metadata": {},
   "outputs": [],
   "source": [
    "import numpy as np\n",
    "df['lnprice'] = np.log(df.price)\n",
    "df.lnprice.describe()"
   ]
  },
  {
   "cell_type": "code",
   "execution_count": null,
   "metadata": {},
   "outputs": [],
   "source": []
  },
  {
   "cell_type": "code",
   "execution_count": null,
   "metadata": {},
   "outputs": [],
   "source": [
    "%matplotlib inline\n",
    "import matplotlib.pyplot as plt"
   ]
  },
  {
   "cell_type": "code",
   "execution_count": null,
   "metadata": {},
   "outputs": [],
   "source": [
    "df.price.plot.hist() # histogram"
   ]
  },
  {
   "cell_type": "code",
   "execution_count": null,
   "metadata": {},
   "outputs": [],
   "source": [
    "df.calculated_host_listings_count.plot.hist(bins=100) # histogram calculated_host_listings_count"
   ]
  },
  {
   "cell_type": "code",
   "execution_count": null,
   "metadata": {},
   "outputs": [],
   "source": [
    "df.price.plot.hist(bins=100) # histogram"
   ]
  },
  {
   "cell_type": "code",
   "execution_count": null,
   "metadata": {},
   "outputs": [],
   "source": [
    "df.calculated_host_listings_count.plot.hist(bins=100) # histogram"
   ]
  },
  {
   "cell_type": "code",
   "execution_count": null,
   "metadata": {},
   "outputs": [],
   "source": [
    "df.price.plot.kde(xlim=(0,1000)) #kernel density estimate plot"
   ]
  },
  {
   "cell_type": "code",
   "execution_count": null,
   "metadata": {},
   "outputs": [],
   "source": [
    "df.calculated_host_listings_count.plot.kde(xlim=(0,1000)) #kernel density estimate plot"
   ]
  },
  {
   "cell_type": "code",
   "execution_count": null,
   "metadata": {},
   "outputs": [],
   "source": [
    "df.z.plot.kde(xlim=[-2, 10])\n",
    "df.iqs.plot.kde(xlim=[-2, 10])\n",
    "df.lnprice.plot.kde()"
   ]
  },
  {
   "cell_type": "code",
   "execution_count": null,
   "metadata": {},
   "outputs": [],
   "source": [
    "df.price.plot.box() # boxplot"
   ]
  },
  {
   "cell_type": "code",
   "execution_count": null,
   "metadata": {},
   "outputs": [],
   "source": [
    "df.calculated_host_listings_count.plot.box() # boxplot"
   ]
  },
  {
   "cell_type": "code",
   "execution_count": null,
   "metadata": {},
   "outputs": [],
   "source": [
    "df.plot.scatter(x='longitude', y='latitude', c='calculated_host_listings_count', s=2, cmap='viridis', figsize=(15,10))"
   ]
  },
  {
   "cell_type": "code",
   "execution_count": null,
   "metadata": {},
   "outputs": [],
   "source": [
    "df.plot.scatter(x='longitude', y='latitude', c='price', s=2, cmap='viridis', figsize=(15,10))"
   ]
  },
  {
   "cell_type": "code",
   "execution_count": null,
   "metadata": {},
   "outputs": [],
   "source": [
    "df.plot.scatter(x='longitude', y='latitude', c='price', s=(df.price/df.price.min()), cmap='viridis', figsize=(15,10))"
   ]
  },
  {
   "cell_type": "code",
   "execution_count": null,
   "metadata": {},
   "outputs": [],
   "source": [
    "df.plot.scatter(x='longitude', y='latitude', c='calculated_host_listings_count', s=(df.calculated_host_listings_count/df.calculated_host_listings_count.min()), cmap='viridis', figsize=(15,10))"
   ]
  },
  {
   "cell_type": "code",
   "execution_count": null,
   "metadata": {},
   "outputs": [],
   "source": [
    "df[df.price > df.price.quantile(0.90)].plot.scatter(x='longitude', y='latitude', c='price', cmap='viridis', s=8)"
   ]
  },
  {
   "cell_type": "code",
   "execution_count": null,
   "metadata": {},
   "outputs": [],
   "source": [
    "df.plot.hexbin(x='longitude', y='latitude', gridsize=50, figsize=(10,7))  #hex bin plot"
   ]
  },
  {
   "cell_type": "code",
   "execution_count": null,
   "metadata": {},
   "outputs": [],
   "source": [
    "import os\n",
    "import numpy as np\n",
    "import pandas as pd\n",
    "import geopandas as gpd\n",
    "import matplotlib.cm as cm\n",
    "import matplotlib.pyplot as plt"
   ]
  },
  {
   "cell_type": "code",
   "execution_count": null,
   "metadata": {},
   "outputs": [],
   "source": [
    "import os\n",
    "from requests import get\n",
    "from urllib.parse import urlparse\n",
    "\n",
    "def cache_data(src:str, dest:str) -> str:\n",
    "    \"\"\"Downloads and caches a remote file locally.\n",
    "    \n",
    "    The function sits between the 'read' step of a pandas or geopandas\n",
    "    data frame and downloading the file from a remote location. The idea\n",
    "    is that it will save it locally so that you don't need to remember to\n",
    "    do so yourself. Subsequent re-reads of the file will return instantly\n",
    "    rather than downloading the entire file for a second or n-th itme.\n",
    "    \n",
    "    Parameters\n",
    "    ----------\n",
    "    src : str\n",
    "        The remote *source* for the file, any valid URL should work.\n",
    "    dest : str\n",
    "        The *destination* location to save the downloaded file.\n",
    "        \n",
    "    Returns\n",
    "    -------\n",
    "    str\n",
    "        A string representing the local location of the file.\n",
    "    \"\"\"\n",
    "    \n",
    "    url = urlparse(src) # We assume that this is some kind of valid URL \n",
    "    fn  = os.path.split(url.path)[-1] # Extract the filename\n",
    "    dfn = os.path.join(dest,fn) # Destination filename\n",
    "    \n",
    "    # Check if dest+filename does *not* exist -- \n",
    "    # that would mean we have to download it!\n",
    "    if not os.path.isfile(dfn):\n",
    "        \n",
    "        print(f\"{dfn} not found, downloading!\")\n",
    "\n",
    "        # Convert the path back into a list (without)\n",
    "        # the filename -- we need to check that directories\n",
    "        # exist first.\n",
    "        path = os.path.split(dest)\n",
    "        \n",
    "        # Create any missing directories in dest(ination) path\n",
    "        # -- os.path.join is the reverse of split (as you saw above)\n",
    "        # but it doesn't work with lists... so I had to google how\n",
    "        # to use the 'splat' operator! os.makedirs creates missing\n",
    "        # directories in a path automatically.\n",
    "        if len(path) >= 1 and path[0] != '':\n",
    "            os.makedirs(os.path.join(*path), exist_ok=True)\n",
    "            \n",
    "        # Download and write the file\n",
    "        with open(dfn, \"wb\") as file:\n",
    "            response = get(src)\n",
    "            file.write(response.content)\n",
    "            \n",
    "        print('Done downloading...')\n",
    "\n",
    "    else:\n",
    "        print(f\"Found {dfn} locally!\")\n",
    "\n",
    "    return dfn"
   ]
  },
  {
   "cell_type": "code",
   "execution_count": null,
   "metadata": {},
   "outputs": [],
   "source": [
    "ddir  = os.path.join('data','geo') # destination directory\n",
    "spath = 'https://github.com/jreades/i2p/blob/master/data/src/' # source path\n",
    "\n",
    "boros = gpd.read_file( cache_data(spath+'Boroughs.gpkg?raw=true', ddir) )\n",
    "water = gpd.read_file( cache_data(spath+'Water.gpkg?raw=true', ddir) )\n",
    "green = gpd.read_file( cache_data(spath+'Greenspace.gpkg?raw=true', ddir) )\n",
    "\n",
    "print('Done.')"
   ]
  },
  {
   "cell_type": "code",
   "execution_count": null,
   "metadata": {},
   "outputs": [],
   "source": [
    "for g in [boros,water,green]:\n",
    "    print(g.crs)"
   ]
  },
  {
   "cell_type": "code",
   "execution_count": null,
   "metadata": {},
   "outputs": [],
   "source": [
    "for g in [boros,water,green]:\n",
    "    g.plot()"
   ]
  },
  {
   "cell_type": "code",
   "execution_count": null,
   "metadata": {},
   "outputs": [],
   "source": [
    "boros.plot(edgecolor='red', facecolor='white', linewidth=2.5)"
   ]
  },
  {
   "cell_type": "code",
   "execution_count": null,
   "metadata": {},
   "outputs": [],
   "source": [
    "water.plot(edgecolor=\"none\", facecolor='xkcd:lightblue')"
   ]
  },
  {
   "cell_type": "code",
   "execution_count": null,
   "metadata": {},
   "outputs": [],
   "source": [
    "green.plot(edgecolor='none', facecolor=(0.7, 0.7, 0.14, 0.25))"
   ]
  },
  {
   "cell_type": "code",
   "execution_count": null,
   "metadata": {},
   "outputs": [],
   "source": [
    "fig, ax = plt.subplots(1,1, figsize=(12,9))\n",
    "\n",
    "water.plot(edgecolor=\"none\", facecolor='xkcd:lightblue', ax=ax)\n",
    "green.plot(edgecolor=(0.7, 0.7, 0.14, 0.25), facecolor=(0.7, 0.7, 0.14), ax=ax)\n",
    "boros.plot(edgecolor=(0.8, 0, 0, 0.5), facecolor='none', linewidth=2.5, ax=ax)\n",
    "\n",
    "ax.set_xlim(501000,563000)\n",
    "ax.set_ylim(155000,202000)\n",
    "\n",
    "plt.savefig(os.path.join('img','Map-First_Pass.png'))"
   ]
  },
  {
   "cell_type": "code",
   "execution_count": null,
   "metadata": {},
   "outputs": [],
   "source": []
  },
  {
   "cell_type": "code",
   "execution_count": null,
   "metadata": {},
   "outputs": [],
   "source": [
    "ddir  = os.path.join('data','raw') # destination directory\n",
    "spath = 'https://github.com/jreades/i2p/blob/master/data/src/' # source path\n",
    "\n",
    "# pdf == pandas dataframe\n",
    "pdf = pd.read_csv( cache_data(spath+'2020-08-24-listings.csv.gz?raw=true', ddir),\n",
    "    compression='gzip', low_memory=False)"
   ]
  },
  {
   "cell_type": "code",
   "execution_count": null,
   "metadata": {},
   "outputs": [],
   "source": [
    "# Free up memory (we're going to reload below)\n",
    "del(pdf)"
   ]
  },
  {
   "cell_type": "code",
   "execution_count": null,
   "metadata": {},
   "outputs": [],
   "source": [
    "cols = ['id','listing_url','price','latitude','longitude',\n",
    "        'host_id','host_since','property_type','room_type',\n",
    "        'accommodates','beds','bathrooms_text']\n",
    "pdf  = pd.read_csv( cache_data(spath+'2020-08-24-listings.csv.gz?raw=true', ddir),\n",
    "        compression='gzip', low_memory=False, usecols=cols)\n",
    "\n",
    "print(f\"pdf now contains {pdf.shape[0]} rows.\")\n",
    "pdf.info()"
   ]
  },
  {
   "cell_type": "code",
   "execution_count": null,
   "metadata": {},
   "outputs": [],
   "source": [
    "pdf['price'] = pdf.price.str.replace('$','').str.replace(',','').astype('float')"
   ]
  },
  {
   "cell_type": "code",
   "execution_count": null,
   "metadata": {},
   "outputs": [],
   "source": [
    "pdf.drop(pdf[pdf.id.isna()].index.values, axis=0, inplace=True)\n",
    "print(f\"pdf now contains {pdf.shape[0]} rows.\")"
   ]
  },
  {
   "cell_type": "code",
   "execution_count": null,
   "metadata": {},
   "outputs": [],
   "source": [
    "pdf.drop(pdf[pdf.latitude.isna()].index.values, axis=0, inplace=True)\n",
    "pdf.drop(pdf[pdf.longitude.isna()].index.values, axis=0, inplace=True)\n",
    "print(f\"pdf now contains {pdf.shape[0]} rows.\")"
   ]
  },
  {
   "cell_type": "code",
   "execution_count": null,
   "metadata": {},
   "outputs": [],
   "source": [
    "print(f\"The bottom-left corner is {pdf.longitude.min()}, {pdf.latitude.min()}\")\n",
    "print(f\"The top-right corner is {pdf.longitude.max()}, {pdf.latitude.max()}\")"
   ]
  },
  {
   "cell_type": "code",
   "execution_count": null,
   "metadata": {},
   "outputs": [],
   "source": [
    "from math import floor, ceil\n",
    "\n",
    "# Calculate min and max to two decimal points\n",
    "xmin = floor(pdf.longitude.min()*100)/100\n",
    "xmax = ceil(pdf.longitude.max()*100)/100\n",
    "ymin = floor(pdf.latitude.min()*100)/100\n",
    "ymax = ceil(pdf.latitude.max()*100)/100\n",
    "\n",
    "print(xmin, xmax, ymin, ymax)\n",
    "\n",
    "# Calculate the centre of the map\n",
    "yctr = ymin+(ymax-ymin)/2\n",
    "xctr = xmin+(xmax-xmin)/2\n",
    "\n",
    "print(xctr, yctr)"
   ]
  },
  {
   "cell_type": "code",
   "execution_count": null,
   "metadata": {},
   "outputs": [],
   "source": [
    "from ipyleaflet import Map, basemaps, basemap_to_tiles, Rectangle, projections\n",
    "\n",
    "# Note the basemap can be easily changed\n",
    "watercolor = basemap_to_tiles(basemaps.Stamen.Watercolor)\n",
    "\n",
    "m = Map(layers=(watercolor, ), center=(yctr, xctr), zoom=8)\n",
    "\n",
    "rectangle = Rectangle(bounds=( (ymin, xmin), (ymax, xmax) ),\n",
    "    crs=projections.EPSG4326\n",
    ")\n",
    "\n",
    "m.add_layer(rectangle)\n",
    "\n",
    "m"
   ]
  },
  {
   "cell_type": "code",
   "execution_count": null,
   "metadata": {},
   "outputs": [],
   "source": [
    "gdf = gpd.GeoDataFrame(pdf, \n",
    "      geometry=gpd.points_from_xy(pdf['longitude'], pdf['latitude'], crs='epsg:4326'))"
   ]
  },
  {
   "cell_type": "code",
   "execution_count": null,
   "metadata": {},
   "outputs": [],
   "source": [
    "print(type(gdf))\n",
    "print(type(gdf.geometry))\n",
    "print(gdf.geometry.iloc[1]) # Print out the object's contents\n",
    "gdf.geometry.iloc[1] # The object knows how to print itself as a point"
   ]
  },
  {
   "cell_type": "code",
   "execution_count": null,
   "metadata": {},
   "outputs": [],
   "source": [
    "boros.to_file('test.gpkg') # This won't do what we want"
   ]
  },
  {
   "cell_type": "code",
   "execution_count": null,
   "metadata": {},
   "outputs": [],
   "source": [
    "boros.to_file('test.gpkg', driver='GPKG') # This *will*"
   ]
  },
  {
   "cell_type": "code",
   "execution_count": null,
   "metadata": {},
   "outputs": [],
   "source": [
    "print(f\"Using '{fn}' as basis for saving data...\")\n",
    "gdf.to_file(os.path.join('data','geo',fn.replace('.csv.gz','.gpkg')), driver='GPKG')"
   ]
  },
  {
   "cell_type": "code",
   "execution_count": null,
   "metadata": {},
   "outputs": [],
   "source": [
    "print(str(boros.geometry.iloc[1])[:399] + \"...\") # Object to string then print out first 399 characters\n",
    "boros.geometry.iloc[1] # So this is a multi-polygon boundary"
   ]
  },
  {
   "cell_type": "code",
   "execution_count": null,
   "metadata": {},
   "outputs": [],
   "source": [
    "print(gdf.geometry.crs)\n",
    "print(gdf.total_bounds)\n",
    "gdf.plot(figsize=(12,8), marker='*', color='green', markersize=0.25)"
   ]
  },
  {
   "cell_type": "code",
   "execution_count": null,
   "metadata": {},
   "outputs": [],
   "source": [
    "gdf = gdf.to_crs(\"epsg:27700\")\n",
    "print(gdf.geometry.crs)\n",
    "print(gdf.total_bounds)\n",
    "gdf.plot(figsize=(12,8), marker='*', color='green', markersize=0.5)"
   ]
  },
  {
   "cell_type": "code",
   "execution_count": null,
   "metadata": {},
   "outputs": [],
   "source": [
    "print(f\"The range of price is ${gdf.price.min():,.2f} to ${gdf.price.max():,.2f}\")\n",
    "print(f\"The mean and median of the price are ${gdf.price.mean():,.2f} and ${gdf.price.median():,.2f}\")"
   ]
  },
  {
   "cell_type": "code",
   "execution_count": null,
   "metadata": {},
   "outputs": [],
   "source": [
    "print(f\"gdf has {gdf.shape[0]:,.0f} rows.\")\n",
    "gdf.drop(gdf[gdf.price==0].index, axis=0, inplace=True)\n",
    "gdf['lnprice'] = np.log(gdf.price)\n",
    "print(f\"gdf has {gdf.shape[0]:,.0f} rows.\")\n",
    "print(f\"The range of ln(price) is {gdf.lnprice.min():,.2f} to {gdf.lnprice.max():,.2f}\")"
   ]
  },
  {
   "cell_type": "code",
   "execution_count": null,
   "metadata": {},
   "outputs": [],
   "source": [
    "gdf.plot(figsize=(12,8), marker='*', markersize=0.25, \n",
    "         column='lnprice', cmap='viridis', \n",
    "         legend=True, legend_kwds={'label':'Natural Log of Price per Night ($)'})"
   ]
  },
  {
   "cell_type": "code",
   "execution_count": null,
   "metadata": {},
   "outputs": [],
   "source": [
    "ax = gdf.plot(figsize=(12,8), marker='*', markersize=0.25, \n",
    "         column='lnprice', cmap='viridis', \n",
    "         legend=True, legend_kwds={'label':'Natural Log of Price per Night ($)'})\n",
    "ax.set_xlim([525000,535000])\n",
    "ax.set_ylim([178000,185000])"
   ]
  },
  {
   "cell_type": "code",
   "execution_count": null,
   "metadata": {},
   "outputs": [],
   "source": [
    "if isinstance(gdf, gpd.GeoDataFrame): # Is gdf a GeoDataFrame object?\n",
    "    print(\"\\tI'm a geopandas data frame!\")\n",
    "\n",
    "if isinstance(gdf, pd.DataFrame): # Is gdf *also* a DataFrame object?\n",
    "    print(\"\\tI'm also a pandas data frame!\")"
   ]
  },
  {
   "cell_type": "code",
   "execution_count": null,
   "metadata": {},
   "outputs": [],
   "source": [
    "gdf.price.plot.box()"
   ]
  },
  {
   "cell_type": "code",
   "execution_count": null,
   "metadata": {},
   "outputs": [],
   "source": [
    "gdf.lnprice.plot.box()"
   ]
  },
  {
   "cell_type": "code",
   "execution_count": null,
   "metadata": {},
   "outputs": [],
   "source": [
    "ax = gdf.plot(figsize=(12,8), marker='*', markersize=0.25, \n",
    "         column='lnprice', cmap='viridis', scheme='fisher_jenks', k=5, \n",
    "         legend=True) # Note that the legend label had to go -- there are other ways to add it\n",
    "\n",
    "ax.set_xlim([525000,535000])\n",
    "ax.set_ylim([178000,185000])"
   ]
  },
  {
   "cell_type": "code",
   "execution_count": null,
   "metadata": {},
   "outputs": [],
   "source": [
    "help(legendgram)"
   ]
  },
  {
   "cell_type": "code",
   "execution_count": null,
   "metadata": {},
   "outputs": [],
   "source": [
    "import pysal as p\n",
    "import mapclassify as mc\n",
    "import palettable.matplotlib as palmpl\n",
    "from legendgram import legendgram\n",
    "\n",
    "q = mc.Quantiles(gdf.price.values, k=5) # For Fisher Jenks you may want 'Sampled' to speed things up\n",
    "\n",
    "f,ax = plt.subplots(figsize=(15,9))\n",
    "water.plot(edgecolor=\"none\", facecolor='xkcd:lightblue', ax=ax)\n",
    "green.plot(edgecolor=(0.7, 0.7, 0.14, 0.25), facecolor=(0.7, 0.7, 0.14), ax=ax)\n",
    "gdf.plot(column='price', scheme='Quantiles', k=5, \n",
    "         cmap='viridis', legend=True, marker='*', markersize=0.5, ax=ax)\n",
    "boros.plot(edgecolor=(0.8, 0, 0, 0.5), facecolor='none', linewidth=2.5, ax=ax)\n",
    "\n",
    "ax.set_xlim([525000,540000])\n",
    "ax.set_ylim([176000,186000])\n",
    "ax.axis('off') #don't plot the axes (bounding box)\n",
    "ax.set_title('London Airbnb Listings Price Per Night', fontdict={'fontsize':'20', 'fontweight':'3'})  #provide a title\n",
    "a = ax.annotate('Source: InsideAirbnb (2020)',\n",
    "             xy=(0.905, 0.055), xycoords='figure fraction', \n",
    "             horizontalalignment='right', verticalalignment='bottom', \n",
    "             fontsize=12, fontweight=4, color='#555555')  #add source info on the image itself\n",
    "a.set_bbox(dict(facecolor='white', alpha=0.95, edgecolor='white'))\n",
    "ax.get_legend().set_title(\"Price Per Night\")  #set the legend title\n",
    "\n",
    "legendgram(f, ax, \n",
    "            gdf.price, q.bins, bins=round(gdf.price.max()/25),\n",
    "            pal=palmpl.Viridis_5,\n",
    "            legend_size=(0.3, 0.1), \n",
    "            loc='lower left',\n",
    "            clip=(0,750),\n",
    "            frameon=True\n",
    "    )\n",
    "\n",
    "f.savefig('ppn.png', dpi=150)"
   ]
  },
  {
   "cell_type": "code",
   "execution_count": null,
   "metadata": {},
   "outputs": [],
   "source": []
  }
 ],
 "metadata": {
  "kernelspec": {
   "display_name": "Python 3",
   "language": "python",
   "name": "python3"
  },
  "language_info": {
   "codemirror_mode": {
    "name": "ipython",
    "version": 3
   },
   "file_extension": ".py",
   "mimetype": "text/x-python",
   "name": "python",
   "nbconvert_exporter": "python",
   "pygments_lexer": "ipython3",
   "version": "3.7.8"
  }
 },
 "nbformat": 4,
 "nbformat_minor": 4
}
