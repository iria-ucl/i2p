{
 "cells": [
  {
   "cell_type": "code",
   "execution_count": 2,
   "metadata": {},
   "outputs": [],
   "source": []
  },
  {
   "cell_type": "code",
   "execution_count": 13,
   "metadata": {},
   "outputs": [
    {
     "ename": "TypeError",
     "evalue": "'builtin_function_or_method' object is not subscriptable",
     "output_type": "error",
     "traceback": [
      "\u001b[0;31m---------------------------------------------------------------------------\u001b[0m",
      "\u001b[0;31mTypeError\u001b[0m                                 Traceback (most recent call last)",
      "\u001b[0;32m<ipython-input-13-95669a1522c0>\u001b[0m in \u001b[0;36m<module>\u001b[0;34m\u001b[0m\n\u001b[1;32m      2\u001b[0m \u001b[0mtemperatures\u001b[0m \u001b[0;34m=\u001b[0m \u001b[0;34m[\u001b[0m\u001b[0;36m15.6\u001b[0m\u001b[0;34m,\u001b[0m \u001b[0;36m16.5\u001b[0m\u001b[0;34m,\u001b[0m \u001b[0;36m13.4\u001b[0m\u001b[0;34m,\u001b[0m \u001b[0;36m14.0\u001b[0m\u001b[0;34m,\u001b[0m \u001b[0;36m15.2\u001b[0m\u001b[0;34m,\u001b[0m \u001b[0;36m14.8\u001b[0m\u001b[0;34m]\u001b[0m\u001b[0;34m\u001b[0m\u001b[0;34m\u001b[0m\u001b[0m\n\u001b[1;32m      3\u001b[0m \u001b[0mcity\u001b[0m \u001b[0;34m=\u001b[0m \u001b[0;34m\"Manchester\"\u001b[0m\u001b[0;34m\u001b[0m\u001b[0;34m\u001b[0m\u001b[0m\n\u001b[0;32m----> 4\u001b[0;31m \u001b[0mprint\u001b[0m\u001b[0;34m(\u001b[0m\u001b[0;34m\"The average temperature in \"\u001b[0m \u001b[0;34m+\u001b[0m \u001b[0;34m(\u001b[0m\u001b[0mcity\u001b[0m\u001b[0;34m)\u001b[0m \u001b[0;34m+\u001b[0m \u001b[0;34m\" is \"\u001b[0m \u001b[0;34m+\u001b[0m \u001b[0mstr\u001b[0m\u001b[0;34m(\u001b[0m\u001b[0mtemperatures\u001b[0m\u001b[0;34m.\u001b[0m\u001b[0mindex\u001b[0m\u001b[0;34m[\u001b[0m\u001b[0mcities\u001b[0m\u001b[0;34m.\u001b[0m\u001b[0mindex\u001b[0m\u001b[0;34m(\u001b[0m\u001b[0;34m'Manchester'\u001b[0m\u001b[0;34m)\u001b[0m\u001b[0;34m]\u001b[0m\u001b[0;34m)\u001b[0m\u001b[0;34m)\u001b[0m\u001b[0;34m\u001b[0m\u001b[0;34m\u001b[0m\u001b[0m\n\u001b[0m",
      "\u001b[0;31mTypeError\u001b[0m: 'builtin_function_or_method' object is not subscriptable"
     ]
    }
   ],
   "source": [
    "\n",
    "cities = [\"Bristol\", \"London\", \"Manchester\", \"Edinburgh\", \"Belfast\", \"York\"]\n",
    "temperatures = [15.6, 16.5, 13.4, 14.0, 15.2, 14.8]\n",
    "city = \"Manchester\"\n",
    "print(\"The average temperature in \" + (city) + \" is \" + str(temperatures.index[cities.index('Manchester')]))\n"
   ]
  },
  {
   "cell_type": "code",
   "execution_count": null,
   "metadata": {},
   "outputs": [],
   "source": []
  },
  {
   "cell_type": "code",
   "execution_count": 14,
   "metadata": {},
   "outputs": [],
   "source": [
    "cities = {\n",
    "    'San Francisco': [37.77, -122.43, 'SFO'],\n",
    "    'London': [51.51, -0.08, 'LDN'],\n",
    "    'Paris': [48.86,2.29, 'PAR'],\n",
    "    'Beijing': [39.92,116.40 ,'BEI'],\n",
    "    'Chenai':[13.04, 80.16, 'MAA']\n",
    "}"
   ]
  },
  {
   "cell_type": "code",
   "execution_count": 16,
   "metadata": {},
   "outputs": [
    {
     "name": "stdout",
     "output_type": "stream",
     "text": [
      "4.5\n"
     ]
    }
   ],
   "source": [
    "a = 9/2\n",
    "print (a)"
   ]
  },
  {
   "cell_type": "code",
   "execution_count": 17,
   "metadata": {},
   "outputs": [
    {
     "name": "stdout",
     "output_type": "stream",
     "text": [
      "1\n"
     ]
    }
   ],
   "source": [
    "a = 9%2\n",
    "print (a)"
   ]
  },
  {
   "cell_type": "code",
   "execution_count": 18,
   "metadata": {},
   "outputs": [
    {
     "data": {
      "text/plain": [
       "0"
      ]
     },
     "execution_count": 18,
     "metadata": {},
     "output_type": "execute_result"
    }
   ],
   "source": [
    "8%2"
   ]
  },
  {
   "cell_type": "code",
   "execution_count": 19,
   "metadata": {},
   "outputs": [
    {
     "name": "stdout",
     "output_type": "stream",
     "text": [
      "36\n"
     ]
    }
   ],
   "source": [
    "print( (2*3) ** 2 )"
   ]
  },
  {
   "cell_type": "code",
   "execution_count": 20,
   "metadata": {},
   "outputs": [
    {
     "name": "stdout",
     "output_type": "stream",
     "text": [
      "18.0\n"
     ]
    }
   ],
   "source": [
    "print( (2*3) ** 2 / (12 % 5) )"
   ]
  },
  {
   "cell_type": "code",
   "execution_count": 21,
   "metadata": {},
   "outputs": [
    {
     "data": {
      "text/plain": [
       "0.0"
      ]
     },
     "execution_count": 21,
     "metadata": {},
     "output_type": "execute_result"
    }
   ],
   "source": [
    "(2+4) ** 2 % (120 / 30)"
   ]
  },
  {
   "cell_type": "code",
   "execution_count": 22,
   "metadata": {},
   "outputs": [
    {
     "data": {
      "text/plain": [
       "0.0"
      ]
     },
     "execution_count": 22,
     "metadata": {},
     "output_type": "execute_result"
    }
   ],
   "source": [
    "(2+4) ** 2 % (120 / 20)"
   ]
  },
  {
   "cell_type": "code",
   "execution_count": 23,
   "metadata": {},
   "outputs": [
    {
     "data": {
      "text/plain": [
       "12.0"
      ]
     },
     "execution_count": 23,
     "metadata": {},
     "output_type": "execute_result"
    }
   ],
   "source": [
    "(2+4) ** 2 % (120 / 5)"
   ]
  },
  {
   "cell_type": "code",
   "execution_count": 24,
   "metadata": {},
   "outputs": [
    {
     "data": {
      "text/plain": [
       "1.7142857142857153"
      ]
     },
     "execution_count": 24,
     "metadata": {},
     "output_type": "execute_result"
    }
   ],
   "source": [
    "(2+4) ** 2 % (120 / 7)"
   ]
  },
  {
   "cell_type": "code",
   "execution_count": 25,
   "metadata": {},
   "outputs": [
    {
     "data": {
      "text/plain": [
       "36.0"
      ]
     },
     "execution_count": 25,
     "metadata": {},
     "output_type": "execute_result"
    }
   ],
   "source": [
    "(2+4) ** 2 % (120 / 3)"
   ]
  },
  {
   "cell_type": "code",
   "execution_count": 26,
   "metadata": {},
   "outputs": [
    {
     "data": {
      "text/plain": [
       "9.333333333333332"
      ]
     },
     "execution_count": 26,
     "metadata": {},
     "output_type": "execute_result"
    }
   ],
   "source": [
    "(2+4) ** 2 % (120 / 9)"
   ]
  },
  {
   "cell_type": "code",
   "execution_count": 27,
   "metadata": {},
   "outputs": [
    {
     "data": {
      "text/plain": [
       "3.272727272727275"
      ]
     },
     "execution_count": 27,
     "metadata": {},
     "output_type": "execute_result"
    }
   ],
   "source": [
    "(2+4) ** 2 % (120 / 11)"
   ]
  },
  {
   "cell_type": "code",
   "execution_count": 28,
   "metadata": {},
   "outputs": [
    {
     "data": {
      "text/plain": [
       "36.0"
      ]
     },
     "execution_count": 28,
     "metadata": {},
     "output_type": "execute_result"
    }
   ],
   "source": [
    "(2+4) ** 2 % (120 / 1)"
   ]
  },
  {
   "cell_type": "code",
   "execution_count": 29,
   "metadata": {},
   "outputs": [
    {
     "data": {
      "text/plain": [
       "8.30769230769231"
      ]
     },
     "execution_count": 29,
     "metadata": {},
     "output_type": "execute_result"
    }
   ],
   "source": [
    "(2+4) ** 2 % (120 / 13)"
   ]
  },
  {
   "cell_type": "code",
   "execution_count": 30,
   "metadata": {},
   "outputs": [
    {
     "data": {
      "text/plain": [
       "0.44444444444444287"
      ]
     },
     "execution_count": 30,
     "metadata": {},
     "output_type": "execute_result"
    }
   ],
   "source": [
    "(2+4) ** 2 % (120 / 13.5)"
   ]
  },
  {
   "cell_type": "code",
   "execution_count": 31,
   "metadata": {},
   "outputs": [
    {
     "data": {
      "text/plain": [
       "1.7142857142857153"
      ]
     },
     "execution_count": 31,
     "metadata": {},
     "output_type": "execute_result"
    }
   ],
   "source": [
    "(2+4) ** 2 % (120 / 14)"
   ]
  },
  {
   "cell_type": "code",
   "execution_count": 32,
   "metadata": {},
   "outputs": [
    {
     "data": {
      "text/plain": [
       "4.0"
      ]
     },
     "execution_count": 32,
     "metadata": {},
     "output_type": "execute_result"
    }
   ],
   "source": [
    "(2+4) ** 2 % (120 / 15)"
   ]
  },
  {
   "cell_type": "code",
   "execution_count": 33,
   "metadata": {},
   "outputs": [
    {
     "data": {
      "text/plain": [
       "6.0"
      ]
     },
     "execution_count": 33,
     "metadata": {},
     "output_type": "execute_result"
    }
   ],
   "source": [
    "(2+4) ** 2 % (120 / 16)"
   ]
  },
  {
   "cell_type": "code",
   "execution_count": 36,
   "metadata": {},
   "outputs": [
    {
     "name": "stdout",
     "output_type": "stream",
     "text": [
      "I'm wasting space...\n",
      "<class 'int'>\n",
      "<class 'float'>\n"
     ]
    }
   ],
   "source": [
    "result = -2 * 10\n",
    "print(\"I'm wasting space...\")\n",
    "print(type(result))\n",
    "result = float (result)\n",
    "print(type(result))"
   ]
  },
  {
   "cell_type": "code",
   "execution_count": 37,
   "metadata": {},
   "outputs": [
    {
     "name": "stdout",
     "output_type": "stream",
     "text": [
      "5\n"
     ]
    }
   ],
   "source": [
    "myFirstVariable = 1 * 5\n",
    "print(myFirstVariable)"
   ]
  },
  {
   "cell_type": "code",
   "execution_count": 38,
   "metadata": {},
   "outputs": [
    {
     "name": "stdout",
     "output_type": "stream",
     "text": [
      "5\n"
     ]
    }
   ],
   "source": [
    "mySecondVariable = myFirstVariable\n",
    "print(mySecondVariable)"
   ]
  },
  {
   "cell_type": "code",
   "execution_count": 39,
   "metadata": {},
   "outputs": [
    {
     "name": "stdout",
     "output_type": "stream",
     "text": [
      "2\n",
      "5\n"
     ]
    }
   ],
   "source": [
    "myFirstVariable = 2\n",
    "print(myFirstVariable)\n",
    "print(mySecondVariable)"
   ]
  },
  {
   "cell_type": "code",
   "execution_count": 40,
   "metadata": {},
   "outputs": [
    {
     "name": "stdout",
     "output_type": "stream",
     "text": [
      "Peter\n"
     ]
    }
   ],
   "source": [
    "name = \"Peter\"\n",
    "\n",
    "print(name)"
   ]
  },
  {
   "cell_type": "code",
   "execution_count": 41,
   "metadata": {},
   "outputs": [
    {
     "ename": "SyntaxError",
     "evalue": "invalid syntax (<ipython-input-41-0c2164a99c14>, line 1)",
     "output_type": "error",
     "traceback": [
      "\u001b[0;36m  File \u001b[0;32m\"<ipython-input-41-0c2164a99c14>\"\u001b[0;36m, line \u001b[0;32m1\u001b[0m\n\u001b[0;31m    cheers ??? name ??? \" is awesome!\"\u001b[0m\n\u001b[0m           ^\u001b[0m\n\u001b[0;31mSyntaxError\u001b[0m\u001b[0;31m:\u001b[0m invalid syntax\n"
     ]
    }
   ],
   "source": [
    "cheers ??? name ??? \" is awesome!\"\n",
    "print(cheers)"
   ]
  },
  {
   "cell_type": "code",
   "execution_count": 42,
   "metadata": {},
   "outputs": [
    {
     "ename": "NameError",
     "evalue": "name 'cheers' is not defined",
     "output_type": "error",
     "traceback": [
      "\u001b[0;31m---------------------------------------------------------------------------\u001b[0m",
      "\u001b[0;31mNameError\u001b[0m                                 Traceback (most recent call last)",
      "\u001b[0;32m<ipython-input-42-1f3f419b3f9c>\u001b[0m in \u001b[0;36m<module>\u001b[0;34m\u001b[0m\n\u001b[0;32m----> 1\u001b[0;31m \u001b[0mcheers\u001b[0m \u001b[0;34m+\u001b[0m \u001b[0mname\u001b[0m \u001b[0;34m+\u001b[0m \u001b[0;34m\" is awesome!\"\u001b[0m\u001b[0;34m\u001b[0m\u001b[0;34m\u001b[0m\u001b[0m\n\u001b[0m\u001b[1;32m      2\u001b[0m \u001b[0mprint\u001b[0m\u001b[0;34m(\u001b[0m\u001b[0mcheers\u001b[0m\u001b[0;34m)\u001b[0m\u001b[0;34m\u001b[0m\u001b[0;34m\u001b[0m\u001b[0m\n",
      "\u001b[0;31mNameError\u001b[0m: name 'cheers' is not defined"
     ]
    }
   ],
   "source": [
    "cheers + name + \" is awesome!\"\n",
    "print(cheers)"
   ]
  },
  {
   "cell_type": "code",
   "execution_count": 43,
   "metadata": {},
   "outputs": [
    {
     "ename": "NameError",
     "evalue": "name 'cheers' is not defined",
     "output_type": "error",
     "traceback": [
      "\u001b[0;31m---------------------------------------------------------------------------\u001b[0m",
      "\u001b[0;31mNameError\u001b[0m                                 Traceback (most recent call last)",
      "\u001b[0;32m<ipython-input-43-745693607795>\u001b[0m in \u001b[0;36m<module>\u001b[0;34m\u001b[0m\n\u001b[1;32m      1\u001b[0m \u001b[0;34m\"cheers\"\u001b[0m \u001b[0;34m+\u001b[0m \u001b[0mname\u001b[0m \u001b[0;34m+\u001b[0m \u001b[0;34m\" is awesome!\"\u001b[0m\u001b[0;34m\u001b[0m\u001b[0;34m\u001b[0m\u001b[0m\n\u001b[0;32m----> 2\u001b[0;31m \u001b[0mprint\u001b[0m\u001b[0;34m(\u001b[0m\u001b[0mcheers\u001b[0m\u001b[0;34m)\u001b[0m\u001b[0;34m\u001b[0m\u001b[0;34m\u001b[0m\u001b[0m\n\u001b[0m",
      "\u001b[0;31mNameError\u001b[0m: name 'cheers' is not defined"
     ]
    }
   ],
   "source": [
    "\"cheers\" + name + \" is awesome!\"\n",
    "print(cheers)"
   ]
  },
  {
   "cell_type": "code",
   "execution_count": 44,
   "metadata": {},
   "outputs": [
    {
     "ename": "NameError",
     "evalue": "name 'cheers' is not defined",
     "output_type": "error",
     "traceback": [
      "\u001b[0;31m---------------------------------------------------------------------------\u001b[0m",
      "\u001b[0;31mNameError\u001b[0m                                 Traceback (most recent call last)",
      "\u001b[0;32m<ipython-input-44-745693607795>\u001b[0m in \u001b[0;36m<module>\u001b[0;34m\u001b[0m\n\u001b[1;32m      1\u001b[0m \u001b[0;34m\"cheers\"\u001b[0m \u001b[0;34m+\u001b[0m \u001b[0mname\u001b[0m \u001b[0;34m+\u001b[0m \u001b[0;34m\" is awesome!\"\u001b[0m\u001b[0;34m\u001b[0m\u001b[0;34m\u001b[0m\u001b[0m\n\u001b[0;32m----> 2\u001b[0;31m \u001b[0mprint\u001b[0m\u001b[0;34m(\u001b[0m\u001b[0mcheers\u001b[0m\u001b[0;34m)\u001b[0m\u001b[0;34m\u001b[0m\u001b[0;34m\u001b[0m\u001b[0m\n\u001b[0m",
      "\u001b[0;31mNameError\u001b[0m: name 'cheers' is not defined"
     ]
    }
   ],
   "source": [
    "\n",
    "\"cheers\" + name + \" is awesome!\"\n",
    "print(cheers)"
   ]
  },
  {
   "cell_type": "code",
   "execution_count": 45,
   "metadata": {},
   "outputs": [
    {
     "name": "stdout",
     "output_type": "stream",
     "text": [
      "Peter is awesome!\n"
     ]
    }
   ],
   "source": [
    "cheers = name + \" is awesome!\"\n",
    "print(cheers)"
   ]
  },
  {
   "cell_type": "code",
   "execution_count": 46,
   "metadata": {},
   "outputs": [
    {
     "name": "stdout",
     "output_type": "stream",
     "text": [
      "Mercator\n"
     ]
    }
   ],
   "source": [
    "famous_geographer = \"Mercator\"\n",
    "print(famous_geographer)"
   ]
  },
  {
   "cell_type": "code",
   "execution_count": 47,
   "metadata": {},
   "outputs": [
    {
     "name": "stdout",
     "output_type": "stream",
     "text": [
      "Mercator\n",
      "Galileo\n"
     ]
    }
   ],
   "source": [
    "this_var = \"Mercator\"\n",
    "This_var = \"Galileo\"\n",
    "\n",
    "print(this_var)\n",
    "print(This_var)"
   ]
  },
  {
   "cell_type": "code",
   "execution_count": 48,
   "metadata": {},
   "outputs": [
    {
     "name": "stdout",
     "output_type": "stream",
     "text": [
      "Здравствуйте! My name is Sputnik 1\n",
      "Sputnik 1 was the first artificial Earth satellite, launched from the Soviet Union on the 4th of October, 1957.\n"
     ]
    }
   ],
   "source": [
    "old_satellite = 'Sputnik 1'\n",
    "old_satellite_description = \" was the first artificial Earth satellite, launched from the Soviet Union on the 4th of October, 1957.\"\n",
    "print(\"Здравствуйте! My name is \" + old_satellite)\n",
    "print(old_satellite + old_satellite_description)"
   ]
  },
  {
   "cell_type": "code",
   "execution_count": 50,
   "metadata": {},
   "outputs": [
    {
     "name": "stdout",
     "output_type": "stream",
     "text": [
      "Здравствуйте! My name is Sputnik 1\n",
      "Sputnik 1 was the first artificial Earth satellite, launched from the Soviet Union on the 4th of October, 1957.\n",
      "The new satellite is landsat and the old satellite is Sputnik 1\n"
     ]
    }
   ],
   "source": [
    "old_satellite = 'Sputnik 1'\n",
    "old_satellite_description = \" was the first artificial Earth satellite, launched from the Soviet Union on the 4th of October, 1957.\"\n",
    "new_satellite = \"landsat\"\n",
    "print(\"Здравствуйте! My name is \" + old_satellite)\n",
    "print(old_satellite + old_satellite_description)\n",
    "print(\"The new satellite is \" + new_satellite + \" and the old satellite is \" + old_satellite)"
   ]
  },
  {
   "cell_type": "code",
   "execution_count": 51,
   "metadata": {},
   "outputs": [
    {
     "name": "stdout",
     "output_type": "stream",
     "text": [
      "Hello there landsat8\n"
     ]
    }
   ],
   "source": [
    "print(\"Hello there \" + (new_satellite)+\"8\" )"
   ]
  },
  {
   "cell_type": "code",
   "execution_count": 52,
   "metadata": {},
   "outputs": [
    {
     "name": "stdout",
     "output_type": "stream",
     "text": [
      "22.834645646\n"
     ]
    }
   ],
   "source": [
    "diameter_cm = 58\n",
    "cm2inches = 0.393700787\n",
    "diameter_inches = (diameter_cm * cm2inches) \n",
    "print(diameter_inches)"
   ]
  },
  {
   "cell_type": "code",
   "execution_count": 53,
   "metadata": {},
   "outputs": [
    {
     "ename": "TypeError",
     "evalue": "can only concatenate str (not \"int\") to str",
     "output_type": "error",
     "traceback": [
      "\u001b[0;31m---------------------------------------------------------------------------\u001b[0m",
      "\u001b[0;31mTypeError\u001b[0m                                 Traceback (most recent call last)",
      "\u001b[0;32m<ipython-input-53-ba4d9f254500>\u001b[0m in \u001b[0;36m<module>\u001b[0;34m\u001b[0m\n\u001b[1;32m      3\u001b[0m       \u001b[0;36m770\u001b[0m \u001b[0;34m+\u001b[0m\u001b[0;34m\u001b[0m\u001b[0;34m\u001b[0m\u001b[0m\n\u001b[1;32m      4\u001b[0m       \u001b[0;34m\" to \"\u001b[0m \u001b[0;34m+\u001b[0m\u001b[0;34m\u001b[0m\u001b[0;34m\u001b[0m\u001b[0m\n\u001b[0;32m----> 5\u001b[0;31m       \u001b[0;36m900\u001b[0m \u001b[0;34m+\u001b[0m\u001b[0;34m\u001b[0m\u001b[0;34m\u001b[0m\u001b[0m\n\u001b[0m\u001b[1;32m      6\u001b[0m       \" nanometers.\" )\n",
      "\u001b[0;31mTypeError\u001b[0m: can only concatenate str (not \"int\") to str"
     ]
    }
   ],
   "source": [
    "print(new_satellite + \"has a Near Infrared (NI), \\\n",
    "which band captures light in the wavelength from \"+\n",
    "      770 +\n",
    "      \" to \" +\n",
    "      900 +\n",
    "      \" nanometers.\" )"
   ]
  },
  {
   "cell_type": "code",
   "execution_count": 54,
   "metadata": {},
   "outputs": [
    {
     "ename": "SyntaxError",
     "evalue": "EOL while scanning string literal (<ipython-input-54-447828320445>, line 5)",
     "output_type": "error",
     "traceback": [
      "\u001b[0;36m  File \u001b[0;32m\"<ipython-input-54-447828320445>\"\u001b[0;36m, line \u001b[0;32m5\u001b[0m\n\u001b[0;31m    \"900 ''+\u001b[0m\n\u001b[0m            ^\u001b[0m\n\u001b[0;31mSyntaxError\u001b[0m\u001b[0;31m:\u001b[0m EOL while scanning string literal\n"
     ]
    }
   ],
   "source": [
    "print(new_satellite + \"has a Near Infrared (NI), \\\n",
    "which band captures light in the wavelength from \"+\n",
    "      \"770\" +\n",
    "      \" to \" +\n",
    "      \"900 ''+\n",
    "      \" nanometers.\" )"
   ]
  },
  {
   "cell_type": "code",
   "execution_count": 55,
   "metadata": {},
   "outputs": [
    {
     "name": "stdout",
     "output_type": "stream",
     "text": [
      "landsathas a Near Infrared (NI), which band captures light in the wavelength from  770  to  900  nanometers.\n"
     ]
    }
   ],
   "source": [
    "print(new_satellite + \"has a Near Infrared (NI), \\\n",
    "which band captures light in the wavelength from \"+\n",
    "      \" 770 \" +\n",
    "      \" to \" +\n",
    "      \" 900 \"  +\n",
    "      \" nanometers.\" )"
   ]
  },
  {
   "cell_type": "code",
   "execution_count": 56,
   "metadata": {},
   "outputs": [
    {
     "name": "stdout",
     "output_type": "stream",
     "text": [
      "https://www.openstreetmap.org/?mlat=51.511306575919148&mlon=-0.11596798896789551#map=15/51.51130657591914/-0.11596798896789551\n"
     ]
    }
   ],
   "source": [
    "# King's College coordinates\n",
    "# What format are they in? Does it seem appropriate?\n",
    "longitude = -0.11596798896789551\n",
    "latitude = 51.51130657591914\n",
    "\n",
    "#cast the floats to strings\n",
    "lon = str(longitude)\n",
    "lat = str(latitude)\n",
    "\n",
    "# King's College marker\n",
    "KCL_position = \"https://www.openstreetmap.org/?mlat=\"+lat+\"8&mlon=\"+lon+\"#map=15/\"+lat+\"/\"+lon\n",
    "          \n",
    "print(KCL_position)"
   ]
  },
  {
   "cell_type": "code",
   "execution_count": 57,
   "metadata": {},
   "outputs": [
    {
     "ename": "SyntaxError",
     "evalue": "invalid syntax (<ipython-input-57-23aa2afd0aac>, line 2)",
     "output_type": "error",
     "traceback": [
      "\u001b[0;36m  File \u001b[0;32m\"<ipython-input-57-23aa2afd0aac>\"\u001b[0;36m, line \u001b[0;32m2\u001b[0m\n\u001b[0;31m    print(\"The \"  projection + \" projection preserves distances along the central meridian.\")\u001b[0m\n\u001b[0m                           ^\u001b[0m\n\u001b[0;31mSyntaxError\u001b[0m\u001b[0;31m:\u001b[0m invalid syntax\n"
     ]
    }
   ],
   "source": [
    "projection=\"Cassini-Soldner\" \n",
    "print(\"The \"  projection + \" projection preserves distances along the central meridian.\")"
   ]
  },
  {
   "cell_type": "code",
   "execution_count": 58,
   "metadata": {},
   "outputs": [
    {
     "ename": "SyntaxError",
     "evalue": "invalid syntax (<ipython-input-58-9a03743efd62>, line 2)",
     "output_type": "error",
     "traceback": [
      "\u001b[0;36m  File \u001b[0;32m\"<ipython-input-58-9a03743efd62>\"\u001b[0;36m, line \u001b[0;32m2\u001b[0m\n\u001b[0;31m    print(\"The \"  projection + \" projection preserves distances along the central meridian.\")\u001b[0m\n\u001b[0m                           ^\u001b[0m\n\u001b[0;31mSyntaxError\u001b[0m\u001b[0;31m:\u001b[0m invalid syntax\n"
     ]
    }
   ],
   "source": [
    "projection = Cassini-Soldner\n",
    "print(\"The \"  projection + \" projection preserves distances along the central meridian.\")"
   ]
  },
  {
   "cell_type": "code",
   "execution_count": 59,
   "metadata": {},
   "outputs": [
    {
     "name": "stdout",
     "output_type": "stream",
     "text": [
      "The Cassini-Soldner projection preserves distances along the central meridian.\n"
     ]
    }
   ],
   "source": [
    "projection=\"Cassini-Soldner\" \n",
    "print(\"The \" + projection + \" projection preserves distances along the central meridian.\")"
   ]
  },
  {
   "cell_type": "code",
   "execution_count": 60,
   "metadata": {},
   "outputs": [
    {
     "name": "stdout",
     "output_type": "stream",
     "text": [
      "The Cassini-Soldner projection preserves distances along the central meridian.\n"
     ]
    }
   ],
   "source": [
    "projection=\"Cassini-Soldner\" \n",
    "print(\"The \" +  projection + \" projection preserves distances along the central meridian.\")"
   ]
  },
  {
   "cell_type": "code",
   "execution_count": 61,
   "metadata": {},
   "outputs": [
    {
     "ename": "NameError",
     "evalue": "name 'popn' is not defined",
     "output_type": "error",
     "traceback": [
      "\u001b[0;31m---------------------------------------------------------------------------\u001b[0m",
      "\u001b[0;31mNameError\u001b[0m                                 Traceback (most recent call last)",
      "\u001b[0;32m<ipython-input-61-8cad47596d70>\u001b[0m in \u001b[0;36m<module>\u001b[0;34m\u001b[0m\n\u001b[0;32m----> 1\u001b[0;31m \u001b[0mprint\u001b[0m\u001b[0;34m(\u001b[0m\u001b[0;34m\"london has an approx. popoulation of \"\u001b[0m\u001b[0;34m+\u001b[0m \u001b[0mpopn\u001b[0m \u001b[0;34m+\u001b[0m \u001b[0;34m\" million people \"\u001b[0m\u001b[0;34m)\u001b[0m\u001b[0;34m\u001b[0m\u001b[0;34m\u001b[0m\u001b[0m\n\u001b[0m",
      "\u001b[0;31mNameError\u001b[0m: name 'popn' is not defined"
     ]
    }
   ],
   "source": [
    "print(\"london has an approx. popoulation of \"+ popn + \" million people \")"
   ]
  },
  {
   "cell_type": "code",
   "execution_count": 62,
   "metadata": {},
   "outputs": [
    {
     "ename": "TypeError",
     "evalue": "can only concatenate str (not \"float\") to str",
     "output_type": "error",
     "traceback": [
      "\u001b[0;31m---------------------------------------------------------------------------\u001b[0m",
      "\u001b[0;31mTypeError\u001b[0m                                 Traceback (most recent call last)",
      "\u001b[0;32m<ipython-input-62-ab249c808ec9>\u001b[0m in \u001b[0;36m<module>\u001b[0;34m\u001b[0m\n\u001b[0;32m----> 1\u001b[0;31m \u001b[0;34m\"london has an approx. popoulation of\"\u001b[0m \u001b[0;34m+\u001b[0m \u001b[0;36m8.5\u001b[0m \u001b[0;34m+\u001b[0m \u001b[0;34m\"million people \"\u001b[0m\u001b[0;34m\u001b[0m\u001b[0;34m\u001b[0m\u001b[0m\n\u001b[0m",
      "\u001b[0;31mTypeError\u001b[0m: can only concatenate str (not \"float\") to str"
     ]
    }
   ],
   "source": [
    "\"london has an approx. popoulation of\" + 8.5 + \"million people \""
   ]
  },
  {
   "cell_type": "code",
   "execution_count": 63,
   "metadata": {},
   "outputs": [
    {
     "ename": "TypeError",
     "evalue": "can only concatenate str (not \"float\") to str",
     "output_type": "error",
     "traceback": [
      "\u001b[0;31m---------------------------------------------------------------------------\u001b[0m",
      "\u001b[0;31mTypeError\u001b[0m                                 Traceback (most recent call last)",
      "\u001b[0;32m<ipython-input-63-4af0a2ae95de>\u001b[0m in \u001b[0;36m<module>\u001b[0;34m\u001b[0m\n\u001b[0;32m----> 1\u001b[0;31m \u001b[0;34m\"london has an approx. popoulation of\"\u001b[0m \u001b[0;34m+\u001b[0m \u001b[0mfloat\u001b[0m\u001b[0;34m(\u001b[0m\u001b[0;36m8.5\u001b[0m\u001b[0;34m)\u001b[0m \u001b[0;34m+\u001b[0m \u001b[0;34m\"million people \"\u001b[0m\u001b[0;34m\u001b[0m\u001b[0;34m\u001b[0m\u001b[0m\n\u001b[0m",
      "\u001b[0;31mTypeError\u001b[0m: can only concatenate str (not \"float\") to str"
     ]
    }
   ],
   "source": [
    "\"london has an approx. popoulation of\" + float(8.5) + \"million people \""
   ]
  },
  {
   "cell_type": "code",
   "execution_count": 64,
   "metadata": {},
   "outputs": [
    {
     "data": {
      "text/plain": [
       "'london has an approx. popoulation of8.5million people '"
      ]
     },
     "execution_count": 64,
     "metadata": {},
     "output_type": "execute_result"
    }
   ],
   "source": [
    "\"london has an approx. popoulation of\" + str(8.5) + \"million people \""
   ]
  },
  {
   "cell_type": "code",
   "execution_count": 65,
   "metadata": {},
   "outputs": [
    {
     "data": {
      "text/plain": [
       "'london has an approx. popoulation of8.5million people '"
      ]
     },
     "execution_count": 65,
     "metadata": {},
     "output_type": "execute_result"
    }
   ],
   "source": [
    "\"london has an approx. popoulation of\" + \"8.5\" + \"million people \""
   ]
  },
  {
   "cell_type": "code",
   "execution_count": 66,
   "metadata": {},
   "outputs": [
    {
     "data": {
      "text/plain": [
       "'london has an approx. popoulation of 8.5 million people '"
      ]
     },
     "execution_count": 66,
     "metadata": {},
     "output_type": "execute_result"
    }
   ],
   "source": [
    "\"london has an approx. popoulation of\" + \" 8.5 \" + \"million people \""
   ]
  },
  {
   "cell_type": "code",
   "execution_count": 67,
   "metadata": {},
   "outputs": [
    {
     "ename": "TypeError",
     "evalue": "can only concatenate str (not \"int\") to str",
     "output_type": "error",
     "traceback": [
      "\u001b[0;31m---------------------------------------------------------------------------\u001b[0m",
      "\u001b[0;31mTypeError\u001b[0m                                 Traceback (most recent call last)",
      "\u001b[0;32m<ipython-input-67-0bb8b4a76a49>\u001b[0m in \u001b[0;36m<module>\u001b[0;34m\u001b[0m\n\u001b[1;32m      1\u001b[0m \u001b[0mlondon_population\u001b[0m \u001b[0;34m=\u001b[0m \u001b[0;36m8600000\u001b[0m\u001b[0;34m\u001b[0m\u001b[0;34m\u001b[0m\u001b[0m\n\u001b[0;32m----> 2\u001b[0;31m \u001b[0mprint\u001b[0m\u001b[0;34m(\u001b[0m\u001b[0;34m\"London's population is \"\u001b[0m \u001b[0;34m+\u001b[0m \u001b[0mlondon_population\u001b[0m\u001b[0;34m)\u001b[0m\u001b[0;34m\u001b[0m\u001b[0;34m\u001b[0m\u001b[0m\n\u001b[0m",
      "\u001b[0;31mTypeError\u001b[0m: can only concatenate str (not \"int\") to str"
     ]
    }
   ],
   "source": [
    "london_population = 8600000\n",
    "print(\"London's population is \" + london_population)"
   ]
  },
  {
   "cell_type": "code",
   "execution_count": 68,
   "metadata": {},
   "outputs": [
    {
     "name": "stdout",
     "output_type": "stream",
     "text": [
      "London's population is 8600000\n"
     ]
    }
   ],
   "source": [
    "london_population = \"8600000\"\n",
    "print(\"London's population is \" + london_population)"
   ]
  },
  {
   "cell_type": "code",
   "execution_count": 69,
   "metadata": {},
   "outputs": [
    {
     "name": "stdout",
     "output_type": "stream",
     "text": [
      "True\n",
      "This statement is: 'True'\n"
     ]
    }
   ],
   "source": [
    "myBoolean = True\n",
    "print(myBoolean)\n",
    "print(\"This statement is: '\" + str(myBoolean) + \"'\")"
   ]
  },
  {
   "cell_type": "code",
   "execution_count": 70,
   "metadata": {},
   "outputs": [
    {
     "name": "stdout",
     "output_type": "stream",
     "text": [
      "True\n"
     ]
    }
   ],
   "source": [
    "first_variable = 87.0\n",
    "second_variable = 9\n",
    "\n",
    "print(first_variable % 80 < second_variable)"
   ]
  },
  {
   "cell_type": "code",
   "execution_count": 71,
   "metadata": {},
   "outputs": [
    {
     "ename": "SyntaxError",
     "evalue": "invalid syntax (<ipython-input-71-a15d509b55c0>, line 1)",
     "output_type": "error",
     "traceback": [
      "\u001b[0;36m  File \u001b[0;32m\"<ipython-input-71-a15d509b55c0>\"\u001b[0;36m, line \u001b[0;32m1\u001b[0m\n\u001b[0;31m    print(\"Aardvark\" ??? \"Ant\")\u001b[0m\n\u001b[0m                     ^\u001b[0m\n\u001b[0;31mSyntaxError\u001b[0m\u001b[0;31m:\u001b[0m invalid syntax\n"
     ]
    }
   ],
   "source": [
    "print(\"Aardvark\" ??? \"Ant\")\n",
    "print ord(n)"
   ]
  },
  {
   "cell_type": "code",
   "execution_count": 72,
   "metadata": {},
   "outputs": [
    {
     "ename": "SyntaxError",
     "evalue": "invalid syntax (<ipython-input-72-6b49fb0e5571>, line 1)",
     "output_type": "error",
     "traceback": [
      "\u001b[0;36m  File \u001b[0;32m\"<ipython-input-72-6b49fb0e5571>\"\u001b[0;36m, line \u001b[0;32m1\u001b[0m\n\u001b[0;31m    print(\"Aardvark\" ??? \"Ant\")\u001b[0m\n\u001b[0m                     ^\u001b[0m\n\u001b[0;31mSyntaxError\u001b[0m\u001b[0;31m:\u001b[0m invalid syntax\n"
     ]
    }
   ],
   "source": [
    "print(\"Aardvark\" ??? \"Ant\")\n",
    "print (ord(n))\n",
    "print (ord(t))"
   ]
  },
  {
   "cell_type": "code",
   "execution_count": 73,
   "metadata": {},
   "outputs": [
    {
     "name": "stdout",
     "output_type": "stream",
     "text": [
      "False\n"
     ]
    },
    {
     "ename": "NameError",
     "evalue": "name 'n' is not defined",
     "output_type": "error",
     "traceback": [
      "\u001b[0;31m---------------------------------------------------------------------------\u001b[0m",
      "\u001b[0;31mNameError\u001b[0m                                 Traceback (most recent call last)",
      "\u001b[0;32m<ipython-input-73-269693a4d3ac>\u001b[0m in \u001b[0;36m<module>\u001b[0;34m\u001b[0m\n\u001b[1;32m      1\u001b[0m \u001b[0mprint\u001b[0m\u001b[0;34m(\u001b[0m\u001b[0;34m\"Aardvark\"\u001b[0m \u001b[0;34m>\u001b[0m \u001b[0;34m\"Ant\"\u001b[0m\u001b[0;34m)\u001b[0m\u001b[0;34m\u001b[0m\u001b[0;34m\u001b[0m\u001b[0m\n\u001b[0;32m----> 2\u001b[0;31m \u001b[0mprint\u001b[0m \u001b[0;34m(\u001b[0m\u001b[0mord\u001b[0m\u001b[0;34m(\u001b[0m\u001b[0mn\u001b[0m\u001b[0;34m)\u001b[0m\u001b[0;34m)\u001b[0m\u001b[0;34m\u001b[0m\u001b[0;34m\u001b[0m\u001b[0m\n\u001b[0m\u001b[1;32m      3\u001b[0m \u001b[0mprint\u001b[0m \u001b[0;34m(\u001b[0m\u001b[0mord\u001b[0m\u001b[0;34m(\u001b[0m\u001b[0mt\u001b[0m\u001b[0;34m)\u001b[0m\u001b[0;34m)\u001b[0m\u001b[0;34m\u001b[0m\u001b[0;34m\u001b[0m\u001b[0m\n",
      "\u001b[0;31mNameError\u001b[0m: name 'n' is not defined"
     ]
    }
   ],
   "source": [
    "print(\"Aardvark\" > \"Ant\")\n",
    "print (ord(n))\n",
    "print (ord(t))"
   ]
  },
  {
   "cell_type": "code",
   "execution_count": 74,
   "metadata": {},
   "outputs": [
    {
     "ename": "SyntaxError",
     "evalue": "invalid syntax (<ipython-input-74-0e760f11f0a9>, line 1)",
     "output_type": "error",
     "traceback": [
      "\u001b[0;36m  File \u001b[0;32m\"<ipython-input-74-0e760f11f0a9>\"\u001b[0;36m, line \u001b[0;32m1\u001b[0m\n\u001b[0;31m    print(\"Aardvark\" ??? \"Ant\")\u001b[0m\n\u001b[0m                     ^\u001b[0m\n\u001b[0;31mSyntaxError\u001b[0m\u001b[0;31m:\u001b[0m invalid syntax\n"
     ]
    }
   ],
   "source": [
    "print(\"Aardvark\" ??? \"Ant\")\n",
    "print (ord(\"n\"))\n",
    "print (ord(\"t\"))"
   ]
  },
  {
   "cell_type": "code",
   "execution_count": 75,
   "metadata": {},
   "outputs": [
    {
     "name": "stdout",
     "output_type": "stream",
     "text": [
      "False\n"
     ]
    },
    {
     "ename": "NameError",
     "evalue": "name 'n' is not defined",
     "output_type": "error",
     "traceback": [
      "\u001b[0;31m---------------------------------------------------------------------------\u001b[0m",
      "\u001b[0;31mNameError\u001b[0m                                 Traceback (most recent call last)",
      "\u001b[0;32m<ipython-input-75-269693a4d3ac>\u001b[0m in \u001b[0;36m<module>\u001b[0;34m\u001b[0m\n\u001b[1;32m      1\u001b[0m \u001b[0mprint\u001b[0m\u001b[0;34m(\u001b[0m\u001b[0;34m\"Aardvark\"\u001b[0m \u001b[0;34m>\u001b[0m \u001b[0;34m\"Ant\"\u001b[0m\u001b[0;34m)\u001b[0m\u001b[0;34m\u001b[0m\u001b[0;34m\u001b[0m\u001b[0m\n\u001b[0;32m----> 2\u001b[0;31m \u001b[0mprint\u001b[0m \u001b[0;34m(\u001b[0m\u001b[0mord\u001b[0m\u001b[0;34m(\u001b[0m\u001b[0mn\u001b[0m\u001b[0;34m)\u001b[0m\u001b[0;34m)\u001b[0m\u001b[0;34m\u001b[0m\u001b[0;34m\u001b[0m\u001b[0m\n\u001b[0m\u001b[1;32m      3\u001b[0m \u001b[0mprint\u001b[0m \u001b[0;34m(\u001b[0m\u001b[0mord\u001b[0m\u001b[0;34m(\u001b[0m\u001b[0mt\u001b[0m\u001b[0;34m)\u001b[0m\u001b[0;34m)\u001b[0m\u001b[0;34m\u001b[0m\u001b[0;34m\u001b[0m\u001b[0m\n",
      "\u001b[0;31mNameError\u001b[0m: name 'n' is not defined"
     ]
    }
   ],
   "source": [
    "print(\"Aardvark\" > \"Ant\")\n",
    "print (ord(n))\n",
    "print (ord(t))"
   ]
  },
  {
   "cell_type": "code",
   "execution_count": 76,
   "metadata": {},
   "outputs": [
    {
     "name": "stdout",
     "output_type": "stream",
     "text": [
      "False\n",
      "110\n",
      "116\n"
     ]
    }
   ],
   "source": [
    "print(\"Aardvark\" > \"Ant\")\n",
    "print (ord(\"n\"))\n",
    "print (ord(\"t\"))"
   ]
  },
  {
   "cell_type": "code",
   "execution_count": 77,
   "metadata": {},
   "outputs": [
    {
     "data": {
      "text/plain": [
       "False"
      ]
     },
     "execution_count": 77,
     "metadata": {},
     "output_type": "execute_result"
    }
   ],
   "source": [
    "2 == 34"
   ]
  },
  {
   "cell_type": "code",
   "execution_count": null,
   "metadata": {},
   "outputs": [],
   "source": []
  },
  {
   "cell_type": "code",
   "execution_count": 78,
   "metadata": {},
   "outputs": [
    {
     "data": {
      "text/plain": [
       "True"
      ]
     },
     "execution_count": 78,
     "metadata": {},
     "output_type": "execute_result"
    }
   ],
   "source": [
    "7 == 7"
   ]
  },
  {
   "cell_type": "code",
   "execution_count": 79,
   "metadata": {},
   "outputs": [
    {
     "data": {
      "text/plain": [
       "True"
      ]
     },
     "execution_count": 79,
     "metadata": {},
     "output_type": "execute_result"
    }
   ],
   "source": [
    "\"Foo\" == \"Foo\""
   ]
  },
  {
   "cell_type": "code",
   "execution_count": 80,
   "metadata": {},
   "outputs": [
    {
     "data": {
      "text/plain": [
       "False"
      ]
     },
     "execution_count": 80,
     "metadata": {},
     "output_type": "execute_result"
    }
   ],
   "source": [
    "\"Foo\" == \"Bar\""
   ]
  },
  {
   "cell_type": "code",
   "execution_count": 81,
   "metadata": {},
   "outputs": [
    {
     "data": {
      "text/plain": [
       "True"
      ]
     },
     "execution_count": 81,
     "metadata": {},
     "output_type": "execute_result"
    }
   ],
   "source": [
    "10 % 3 == 3 / 3"
   ]
  },
  {
   "cell_type": "code",
   "execution_count": 82,
   "metadata": {},
   "outputs": [
    {
     "name": "stdout",
     "output_type": "stream",
     "text": [
      "1\n",
      "1.0\n"
     ]
    }
   ],
   "source": [
    "print(10 % 3)\n",
    "print(3 / 3)"
   ]
  },
  {
   "cell_type": "code",
   "execution_count": 83,
   "metadata": {},
   "outputs": [
    {
     "name": "stdout",
     "output_type": "stream",
     "text": [
      "True\n"
     ]
    }
   ],
   "source": [
    "# Reset the variables to their 'defaults'\n",
    "british_capital = \"London\"\n",
    "french_capital  = \"Paris\"\n",
    "\n",
    "# This time python is going to print True,\n",
    "# since we are comparing different things\n",
    "# using the Not Equal operator!\n",
    "print(british_capital != french_capital)"
   ]
  },
  {
   "cell_type": "code",
   "execution_count": 84,
   "metadata": {},
   "outputs": [
    {
     "name": "stdout",
     "output_type": "stream",
     "text": [
      "> Condition #1\n",
      "> Condition #3\n",
      "     My var: 6\n",
      "Done.\n"
     ]
    }
   ],
   "source": [
    "# Condition 1\n",
    "if 2 > 1:\n",
    "    print(\"> Condition #1\")\n",
    "    \n",
    "# Condition 2\n",
    "if 1 > 2: \n",
    "    print(\"> Condition #2\")\n",
    "    \n",
    "# Condition 3\n",
    "if \"Foo\" == \"Foo\":\n",
    "    print(\"> Condition #3\")\n",
    "    myVar = 1 + 5\n",
    "    print(\"     My var: \" + str(myVar))\n",
    "    \n",
    "# Condition 4\n",
    "if \"Foo\" != \"Foo\":\n",
    "    print(\"> Condition #4\")\n",
    "    myVar = 1 + 5\n",
    "    print(\"     My var: \" + str(myVar))\n",
    "    \n",
    "print(\"Done.\")"
   ]
  },
  {
   "cell_type": "code",
   "execution_count": 85,
   "metadata": {},
   "outputs": [
    {
     "name": "stdout",
     "output_type": "stream",
     "text": [
      "London is larger than Paris\n"
     ]
    }
   ],
   "source": [
    "london_population = 8600000\n",
    "paris_population  = 2200000 \n",
    "\n",
    "if london_population > paris_population:\n",
    "    print(\"London is larger than Paris\")"
   ]
  },
  {
   "cell_type": "code",
   "execution_count": 86,
   "metadata": {},
   "outputs": [
    {
     "name": "stdout",
     "output_type": "stream",
     "text": [
      "8600000 is more than 2 million people\n",
      "8600000 is less than 10 million people\n"
     ]
    }
   ],
   "source": [
    "london_population = 8600000\n",
    "\n",
    "if london_population > 2000000:\n",
    "    print(str(london_population) + \" is more than 2 million people\")\n",
    "\n",
    "if london_population < 10000000:\n",
    "    print(str(london_population) + \" is less than 10 million people\")"
   ]
  },
  {
   "cell_type": "code",
   "execution_count": 87,
   "metadata": {},
   "outputs": [
    {
     "name": "stdout",
     "output_type": "stream",
     "text": [
      "Good job\n"
     ]
    }
   ],
   "source": [
    "if (london_population % 8000000) == 600000:\n",
    "    print(\"Good job\")"
   ]
  },
  {
   "cell_type": "code",
   "execution_count": 88,
   "metadata": {},
   "outputs": [
    {
     "name": "stdout",
     "output_type": "stream",
     "text": [
      "The largest city is London\n"
     ]
    }
   ],
   "source": [
    "newyork_population = 8400000 \n",
    "\n",
    "if london_population < newyork_population:\n",
    "    largest_city = \"New York\" \n",
    "else:\n",
    "    largest_city = \"London\"\n",
    "    \n",
    "print(\"The largest city is \" + largest_city)"
   ]
  },
  {
   "cell_type": "code",
   "execution_count": 90,
   "metadata": {},
   "outputs": [
    {
     "name": "stdout",
     "output_type": "stream",
     "text": [
      "London's popuation is above my threshold\n"
     ]
    }
   ],
   "source": [
    "mythreshold = 1000000\n",
    "if london_population <= mythreshold:\n",
    "    print(\"London's population is below my threshold\")\n",
    "else: \n",
    "    print(\"London's popuation is above my threshold\")"
   ]
  },
  {
   "cell_type": "code",
   "execution_count": 91,
   "metadata": {},
   "outputs": [
    {
     "name": "stdout",
     "output_type": "stream",
     "text": [
      "London is below my upper threshold.\n",
      "And now back to normal code execution.\n"
     ]
    }
   ],
   "source": [
    "# Like so:\n",
    "myUpperBoundary = 12000000\n",
    "myLowerBoundary = 2000000\n",
    "\n",
    "if london_population < myUpperBoundary:\n",
    "    print(\"London is below my upper threshold.\")\n",
    "\n",
    "elif london_population > myLowerBoundary:\n",
    "    print(\"London is above my lower threshold.\")\n",
    "\n",
    "elif london_population != 340000: \n",
    "    print(\"London population is not equal to 340,000.\")\n",
    "    \n",
    "else:\n",
    "    print(\"How did I get here?\")\n",
    "    \n",
    "print(\"And now back to normal code execution.\")"
   ]
  },
  {
   "cell_type": "code",
   "execution_count": 92,
   "metadata": {},
   "outputs": [
    {
     "name": "stdout",
     "output_type": "stream",
     "text": [
      "Well, looks like none of the above statements were true!\n",
      "And now back to normal code execution.\n"
     ]
    }
   ],
   "source": [
    "london_population = 10\n",
    "if london_population <= 9:\n",
    "    print(\"First case is true\")\n",
    "elif london_population > 99: \n",
    "    print(\"Second case is true\")\n",
    "elif london_population == 4:\n",
    "    print(\"Third case is true\")\n",
    "else:\n",
    "    print(\"Well, looks like none of the above statements were true!\")\n",
    "\n",
    "print(\"And now back to normal code execution.\")"
   ]
  },
  {
   "cell_type": "code",
   "execution_count": 93,
   "metadata": {},
   "outputs": [
    {
     "name": "stdout",
     "output_type": "stream",
     "text": [
      "1. Both conditions are true!\n",
      "2. Mmm... something's wrong!\n"
     ]
    }
   ],
   "source": [
    "condition1 = 2 < 4 # True\n",
    "condition2 = (6/3) == 2 # Also True\n",
    "\n",
    "if (condition1) and (condition2): # Both are true\n",
    "    print(\"1. Both conditions are true!\")\n",
    "else:\n",
    "    print(\"1. Mmm... something's wrong!\")\n",
    "    \n",
    "if condition1 and 6.0/5 == 1:\n",
    "    print(\"2. Both conditions are true!\")\n",
    "else:\n",
    "    print(\"2. Mmm... something's wrong!\")"
   ]
  },
  {
   "cell_type": "code",
   "execution_count": 98,
   "metadata": {},
   "outputs": [
    {
     "name": "stdout",
     "output_type": "stream",
     "text": [
      "Either one or two conditions are true!\n"
     ]
    }
   ],
   "source": [
    "condition1 = 2 < 4\n",
    "condition2 = (6/3) != 2\n",
    "\n",
    "if (condition1) or (condition2):\n",
    "    print(\"Either one or two conditions are true!\")\n",
    "else:\n",
    "    print('mmh..they must both be false')"
   ]
  },
  {
   "cell_type": "code",
   "execution_count": 100,
   "metadata": {},
   "outputs": [
    {
     "name": "stdout",
     "output_type": "stream",
     "text": [
      "2\n"
     ]
    }
   ],
   "source": [
    "\n",
    "\n",
    "\n",
    "if not conditionInverted:\n",
    "   print(\"I'm True\")\n",
    "elif not (4%3  != 1):\n",
    "   print(\"2\")\n",
    "else:\n",
    "   print(\"99\" == str(99)+1)"
   ]
  },
  {
   "cell_type": "code",
   "execution_count": 117,
   "metadata": {},
   "outputs": [
    {
     "name": "stdin",
     "output_type": "stream",
     "text": [
      "\n",
      "Choose a neighbourhood by type the corresponding number:\n",
      "1- City of London\n",
      "2- Lambeth\n",
      "3- Camden\n",
      "4- Hackney\n",
      " 4\n"
     ]
    },
    {
     "name": "stdout",
     "output_type": "stream",
     "text": [
      "You have choosen number :4\n",
      "The corresponding borought has a population of246.27thousand people\n",
      "Visit the borough clicking here: http://www.openstreetmap.org/?mlat=51.5432&mlon=-0.0709#map=13/51.5432/-0.0709\n"
     ]
    }
   ],
   "source": [
    "# variable with the City borough's total population (in thousands)\n",
    "city_of_London = 7.375\n",
    "# City borough's map marker\n",
    "city_coords = \"http://www.openstreetmap.org/?mlat=51.5151&mlon=-0.0933#map=14/51.5151/-0.0933\"\n",
    "\n",
    "# Other boroughs\n",
    "camden = 220.338\n",
    "camden_coords = \"http://www.openstreetmap.org/?mlat=51.5424&mlon=-0.2252#map=12/51.5424/-0.2252\"\n",
    "hackney = 246.270\n",
    "hackney_coords = \"http://www.openstreetmap.org/?mlat=51.5432&mlon=-0.0709#map=13/51.5432/-0.0709\"\n",
    "lambeth = 303.086\n",
    "lambeth_coords = \"http://www.openstreetmap.org/?mlat=51.5013&mlon=-0.1172#map=13/51.5013/-0.1172\"\n",
    "\n",
    "# Let's ask the user for some input\n",
    "# and store his answer\n",
    "user_input = input(\"\"\"\n",
    "Choose a neighbourhood by type the corresponding number:\n",
    "1- City of London\n",
    "2- Lambeth\n",
    "3- Camden\n",
    "4- Hackney\n",
    "\"\"\")\n",
    "\n",
    "# Arbitrarily assign case 1 to City of London borough\n",
    "\n",
    "if (user_input == '1'):    \n",
    "    choosen_borough = city_of_London\n",
    "    borough_coordinates = city_coords \n",
    "    # print the output\n",
    "    # notice we are casting the user answer to string\n",
    "    print(\"You have choosen number : \"+ str(user_input))\n",
    "    print(\"The corresponding borough has a population of \"+ str(choosen_borough) +\" thousand people\")\n",
    "    print(\"Visit the borough clicking here: \" + borough_coordinates)\n",
    "\n",
    "    # ---------------\n",
    "    # add more cases here...\n",
    "    # ---------------\n",
    "#lambeth 2\n",
    "elif (user_input == \"2\"):\n",
    "    choosen_borough = lambeth\n",
    "    borough_coordinates = lambeth_coords\n",
    "    print(\"You have choosen number :\"+ str(user_input))\n",
    "    print(\"The corresponding borought has a population of\"+ str(choosen_borough)+\"thousand people\")\n",
    "    print(\"Visit the borough clicking here: \" + borough_coordinates)\n",
    "#candem 3\n",
    "elif (user_input == \"3\"):\n",
    "    choosen_borough = camden\n",
    "    borough_coordinates = camden_coords\n",
    "    print(\"You have choosen number :\"+ str(user_input))\n",
    "    print(\"The corresponding borought has a population of\"+ str(choosen_borough)+\"thousand people\")\n",
    "    print(\"Visit the borough clicking here: \" + borough_coordinates)\n",
    "    \n",
    "#hackney 4\n",
    "elif  (user_input == \"4\"):\n",
    "    choosen_borough = hackney\n",
    "    borough_coordinates = hackney_coords\n",
    "    print(\"You have choosen number :\"+ str(user_input))\n",
    "    print(\"The corresponding borought has a population of\"+ str(choosen_borough)+\"thousand people\")\n",
    "    print(\"Visit the borough clicking here: \" + borough_coordinates)\n",
    "    \n",
    "else:\n",
    "    print(\"That's not in my system. Please try again!\")"
   ]
  },
  {
   "cell_type": "code",
   "execution_count": 123,
   "metadata": {},
   "outputs": [
    {
     "name": "stdout",
     "output_type": "stream",
     "text": [
      "22\n",
      "22\n",
      "32\n"
     ]
    }
   ],
   "source": [
    "x = 12\n",
    "y = 10\n",
    "\n",
    "z = x + y\n",
    "x = x + y\n",
    "y = z + y\n",
    "\n",
    "print(z)\n",
    "print(x)\n",
    "print(y)\n"
   ]
  },
  {
   "cell_type": "code",
   "execution_count": 124,
   "metadata": {},
   "outputs": [
    {
     "name": "stdout",
     "output_type": "stream",
     "text": [
      "[1, 2, 4, 5]\n"
     ]
    }
   ],
   "source": [
    "myList = [1,2,4,5]\n",
    "print(myList)"
   ]
  },
  {
   "cell_type": "code",
   "execution_count": 125,
   "metadata": {},
   "outputs": [
    {
     "name": "stdout",
     "output_type": "stream",
     "text": [
      "['hi I am', 2312, 'mixing', 6.6, 90, 'strings, integers and floats']\n"
     ]
    }
   ],
   "source": [
    "myList = ['hi I am', 2312, 'mixing', 6.6, 90, 'strings, integers and floats']\n",
    "print(myList)"
   ]
  },
  {
   "cell_type": "code",
   "execution_count": 127,
   "metadata": {},
   "outputs": [
    {
     "name": "stdout",
     "output_type": "stream",
     "text": [
      "The first element is: first\n",
      "The third element is: third\n",
      "third\n",
      "second\n"
     ]
    }
   ],
   "source": [
    "myNewList = ['first', 'second', 'third']\n",
    "print(\"The first element is: \" + myNewList[0])\n",
    "print(\"The third element is: \" + myNewList[2])\n",
    "print(myNewList[-1])\n",
    "print(myNewList[-2])"
   ]
  },
  {
   "cell_type": "code",
   "execution_count": 132,
   "metadata": {},
   "outputs": [
    {
     "name": "stdout",
     "output_type": "stream",
     "text": [
      "The second element is :first\n"
     ]
    }
   ],
   "source": [
    "myNewList = ['first', 'second', 'third']\n",
    "print(\"The second element is :\" + myNewList[-3])"
   ]
  },
  {
   "cell_type": "code",
   "execution_count": 133,
   "metadata": {},
   "outputs": [
    {
     "name": "stdout",
     "output_type": "stream",
     "text": [
      "A\n",
      "F\n"
     ]
    }
   ],
   "source": [
    "myString = \"ABCDEF\"\n",
    "print(myString[0])\n",
    "print(myString[-1])"
   ]
  },
  {
   "cell_type": "code",
   "execution_count": 134,
   "metadata": {},
   "outputs": [
    {
     "name": "stdout",
     "output_type": "stream",
     "text": [
      "THIS \n"
     ]
    }
   ],
   "source": [
    "shortSentence = \"Now I'll just print THIS word, between the 20th and the 25th character: \"\n",
    "print(shortSentence[20:25])"
   ]
  },
  {
   "cell_type": "code",
   "execution_count": 135,
   "metadata": {},
   "outputs": [
    {
     "name": "stdout",
     "output_type": "stream",
     "text": [
      "12\n"
     ]
    }
   ],
   "source": [
    "shortSentence2 = \"A12B34c7.0\"\n",
    "print(shortSentence2[1:3])"
   ]
  },
  {
   "cell_type": "code",
   "execution_count": 137,
   "metadata": {},
   "outputs": [
    {
     "name": "stdout",
     "output_type": "stream",
     "text": [
      "Starting from the 17th position: ' HERE onwards'\n"
     ]
    }
   ],
   "source": [
    "stringToPrint = \"I will print from HERE onwards\"\n",
    "print(\"Starting from the 17th position: '\" + stringToPrint[17:] + \"'\")"
   ]
  },
  {
   "cell_type": "code",
   "execution_count": 140,
   "metadata": {},
   "outputs": [
    {
     "name": "stdout",
     "output_type": "stream",
     "text": [
      "Up to the 18th position (Way 1): ' onwards'\n",
      "Up to the 18th position (Way 2): ' onwards'\n"
     ]
    }
   ],
   "source": [
    "stringToPrint = \"I will print from HERE onwards\"\n",
    "print(\"Up to the 18th position (Way 1): '\" + stringToPrint[-8:] + \"'\")\n",
    "print(\"Up to the 18th position (Way 2): '\" + stringToPrint[22:30] + \"'\")"
   ]
  },
  {
   "cell_type": "code",
   "execution_count": 1,
   "metadata": {},
   "outputs": [
    {
     "name": "stdout",
     "output_type": "stream",
     "text": [
      "['Bob', 'Doug', 'Louise', 'Nancy', 'Sarah', 'Jane']\n",
      "['Bob', 'Phil', 'Louise', 'Nancy', 'Sarah', 'Jane']\n",
      "['Phil', 'Phil', 'Louise', 'Nancy', 'Sarah', 'Jane']\n"
     ]
    }
   ],
   "source": [
    "theParty = ['Bob','Doug','Louise','Nancy','Sarah','Jane']\n",
    "print(theParty)\n",
    "\n",
    "theParty[1] = 'Phil' # Doug is replaced at the party by Phil\n",
    "print(theParty)\n",
    "\n",
    "theParty[0] = theParty[1]\n",
    "print(theParty) # Phil is an evil genius and manages to also replace Doug with a Phil clone\n"
   ]
  },
  {
   "cell_type": "code",
   "execution_count": 2,
   "metadata": {},
   "outputs": [
    {
     "name": "stdout",
     "output_type": "stream",
     "text": [
      "['Babbage', 'Lovelace', 'Torvald', 'Knuth']\n"
     ]
    }
   ],
   "source": [
    "britishProgrammers = [\"Babbage\", \"Lovelace\"]\n",
    "nonBritishProgrammers = [\"Torvald\", \"Knuth\"]\n",
    "\n",
    "famousProgrammers = britishProgrammers + nonBritishProgrammers\n",
    "print(famousProgrammers)"
   ]
  },
  {
   "cell_type": "code",
   "execution_count": 3,
   "metadata": {},
   "outputs": [
    {
     "name": "stdout",
     "output_type": "stream",
     "text": [
      "['Babbage', 'Lovelace', 'Babbage', 'Lovelace']\n"
     ]
    }
   ],
   "source": [
    "print(britishProgrammers * 2)"
   ]
  },
  {
   "cell_type": "code",
   "execution_count": 4,
   "metadata": {},
   "outputs": [
    {
     "data": {
      "text/plain": [
       "['Wozniak', 'Van Rossum']"
      ]
     },
     "execution_count": 4,
     "metadata": {},
     "output_type": "execute_result"
    }
   ],
   "source": [
    "otherNonBritishProgrammers = [\"Wozniak\" , \"Van Rossum\"]\n",
    "otherNonBritishProgrammers\n"
   ]
  },
  {
   "cell_type": "code",
   "execution_count": 5,
   "metadata": {},
   "outputs": [
    {
     "name": "stdout",
     "output_type": "stream",
     "text": [
      "['Torvald', 'Knuth', 'Wozniak', 'Van Rossum']\n"
     ]
    }
   ],
   "source": [
    "print(nonBritishProgrammers + otherNonBritishProgrammers)"
   ]
  },
  {
   "cell_type": "code",
   "execution_count": 6,
   "metadata": {},
   "outputs": [
    {
     "name": "stdout",
     "output_type": "stream",
     "text": [
      "True\n",
      "False\n",
      "True\n",
      "False\n"
     ]
    }
   ],
   "source": [
    "print ('Lovelace' in britishProgrammers)\n",
    "print ('Lovelace' in nonBritishProgrammers)\n",
    "\n",
    "letters = ['a','b','c','d','e','f','g','h','i']\n",
    "print ('e' in letters)\n",
    "print ('z' in letters)"
   ]
  },
  {
   "cell_type": "code",
   "execution_count": 7,
   "metadata": {},
   "outputs": [
    {
     "name": "stdout",
     "output_type": "stream",
     "text": [
      "['Phil', 'Phil', 'Louise', 'Nancy', 'Sarah', 'Jane']\n",
      "True\n",
      "False\n"
     ]
    }
   ],
   "source": [
    "print(theParty)\n",
    "print('Bob' not in theParty)\n",
    "print('Jane' not in theParty)"
   ]
  },
  {
   "cell_type": "code",
   "execution_count": null,
   "metadata": {},
   "outputs": [],
   "source": []
  }
 ],
 "metadata": {
  "kernelspec": {
   "display_name": "Python 3",
   "language": "python",
   "name": "python3"
  },
  "language_info": {
   "codemirror_mode": {
    "name": "ipython",
    "version": 3
   },
   "file_extension": ".py",
   "mimetype": "text/x-python",
   "name": "python",
   "nbconvert_exporter": "python",
   "pygments_lexer": "ipython3",
   "version": "3.7.8"
  }
 },
 "nbformat": 4,
 "nbformat_minor": 4
}
