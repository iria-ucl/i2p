{
 "cells": [
  {
   "cell_type": "code",
   "execution_count": 2,
   "metadata": {},
   "outputs": [],
   "source": []
  },
  {
   "cell_type": "code",
   "execution_count": 13,
   "metadata": {},
   "outputs": [
    {
     "ename": "TypeError",
     "evalue": "'builtin_function_or_method' object is not subscriptable",
     "output_type": "error",
     "traceback": [
      "\u001b[0;31m---------------------------------------------------------------------------\u001b[0m",
      "\u001b[0;31mTypeError\u001b[0m                                 Traceback (most recent call last)",
      "\u001b[0;32m<ipython-input-13-95669a1522c0>\u001b[0m in \u001b[0;36m<module>\u001b[0;34m\u001b[0m\n\u001b[1;32m      2\u001b[0m \u001b[0mtemperatures\u001b[0m \u001b[0;34m=\u001b[0m \u001b[0;34m[\u001b[0m\u001b[0;36m15.6\u001b[0m\u001b[0;34m,\u001b[0m \u001b[0;36m16.5\u001b[0m\u001b[0;34m,\u001b[0m \u001b[0;36m13.4\u001b[0m\u001b[0;34m,\u001b[0m \u001b[0;36m14.0\u001b[0m\u001b[0;34m,\u001b[0m \u001b[0;36m15.2\u001b[0m\u001b[0;34m,\u001b[0m \u001b[0;36m14.8\u001b[0m\u001b[0;34m]\u001b[0m\u001b[0;34m\u001b[0m\u001b[0;34m\u001b[0m\u001b[0m\n\u001b[1;32m      3\u001b[0m \u001b[0mcity\u001b[0m \u001b[0;34m=\u001b[0m \u001b[0;34m\"Manchester\"\u001b[0m\u001b[0;34m\u001b[0m\u001b[0;34m\u001b[0m\u001b[0m\n\u001b[0;32m----> 4\u001b[0;31m \u001b[0mprint\u001b[0m\u001b[0;34m(\u001b[0m\u001b[0;34m\"The average temperature in \"\u001b[0m \u001b[0;34m+\u001b[0m \u001b[0;34m(\u001b[0m\u001b[0mcity\u001b[0m\u001b[0;34m)\u001b[0m \u001b[0;34m+\u001b[0m \u001b[0;34m\" is \"\u001b[0m \u001b[0;34m+\u001b[0m \u001b[0mstr\u001b[0m\u001b[0;34m(\u001b[0m\u001b[0mtemperatures\u001b[0m\u001b[0;34m.\u001b[0m\u001b[0mindex\u001b[0m\u001b[0;34m[\u001b[0m\u001b[0mcities\u001b[0m\u001b[0;34m.\u001b[0m\u001b[0mindex\u001b[0m\u001b[0;34m(\u001b[0m\u001b[0;34m'Manchester'\u001b[0m\u001b[0;34m)\u001b[0m\u001b[0;34m]\u001b[0m\u001b[0;34m)\u001b[0m\u001b[0;34m)\u001b[0m\u001b[0;34m\u001b[0m\u001b[0;34m\u001b[0m\u001b[0m\n\u001b[0m",
      "\u001b[0;31mTypeError\u001b[0m: 'builtin_function_or_method' object is not subscriptable"
     ]
    }
   ],
   "source": [
    "\n",
    "cities = [\"Bristol\", \"London\", \"Manchester\", \"Edinburgh\", \"Belfast\", \"York\"]\n",
    "temperatures = [15.6, 16.5, 13.4, 14.0, 15.2, 14.8]\n",
    "city = \"Manchester\"\n",
    "print(\"The average temperature in \" + (city) + \" is \" + str(temperatures.index[cities.index('Manchester')]))\n"
   ]
  },
  {
   "cell_type": "code",
   "execution_count": null,
   "metadata": {},
   "outputs": [],
   "source": []
  },
  {
   "cell_type": "code",
   "execution_count": 14,
   "metadata": {},
   "outputs": [],
   "source": [
    "cities = {\n",
    "    'San Francisco': [37.77, -122.43, 'SFO'],\n",
    "    'London': [51.51, -0.08, 'LDN'],\n",
    "    'Paris': [48.86,2.29, 'PAR'],\n",
    "    'Beijing': [39.92,116.40 ,'BEI'],\n",
    "    'Chenai':[13.04, 80.16, 'MAA']\n",
    "}"
   ]
  },
  {
   "cell_type": "code",
   "execution_count": 16,
   "metadata": {},
   "outputs": [
    {
     "name": "stdout",
     "output_type": "stream",
     "text": [
      "4.5\n"
     ]
    }
   ],
   "source": [
    "a = 9/2\n",
    "print (a)"
   ]
  },
  {
   "cell_type": "code",
   "execution_count": 17,
   "metadata": {},
   "outputs": [
    {
     "name": "stdout",
     "output_type": "stream",
     "text": [
      "1\n"
     ]
    }
   ],
   "source": [
    "a = 9%2\n",
    "print (a)"
   ]
  },
  {
   "cell_type": "code",
   "execution_count": 18,
   "metadata": {},
   "outputs": [
    {
     "data": {
      "text/plain": [
       "0"
      ]
     },
     "execution_count": 18,
     "metadata": {},
     "output_type": "execute_result"
    }
   ],
   "source": [
    "8%2"
   ]
  },
  {
   "cell_type": "code",
   "execution_count": 19,
   "metadata": {},
   "outputs": [
    {
     "name": "stdout",
     "output_type": "stream",
     "text": [
      "36\n"
     ]
    }
   ],
   "source": [
    "print( (2*3) ** 2 )"
   ]
  },
  {
   "cell_type": "code",
   "execution_count": 20,
   "metadata": {},
   "outputs": [
    {
     "name": "stdout",
     "output_type": "stream",
     "text": [
      "18.0\n"
     ]
    }
   ],
   "source": [
    "print( (2*3) ** 2 / (12 % 5) )"
   ]
  },
  {
   "cell_type": "code",
   "execution_count": 21,
   "metadata": {},
   "outputs": [
    {
     "data": {
      "text/plain": [
       "0.0"
      ]
     },
     "execution_count": 21,
     "metadata": {},
     "output_type": "execute_result"
    }
   ],
   "source": [
    "(2+4) ** 2 % (120 / 30)"
   ]
  },
  {
   "cell_type": "code",
   "execution_count": 22,
   "metadata": {},
   "outputs": [
    {
     "data": {
      "text/plain": [
       "0.0"
      ]
     },
     "execution_count": 22,
     "metadata": {},
     "output_type": "execute_result"
    }
   ],
   "source": [
    "(2+4) ** 2 % (120 / 20)"
   ]
  },
  {
   "cell_type": "code",
   "execution_count": 23,
   "metadata": {},
   "outputs": [
    {
     "data": {
      "text/plain": [
       "12.0"
      ]
     },
     "execution_count": 23,
     "metadata": {},
     "output_type": "execute_result"
    }
   ],
   "source": [
    "(2+4) ** 2 % (120 / 5)"
   ]
  },
  {
   "cell_type": "code",
   "execution_count": 24,
   "metadata": {},
   "outputs": [
    {
     "data": {
      "text/plain": [
       "1.7142857142857153"
      ]
     },
     "execution_count": 24,
     "metadata": {},
     "output_type": "execute_result"
    }
   ],
   "source": [
    "(2+4) ** 2 % (120 / 7)"
   ]
  },
  {
   "cell_type": "code",
   "execution_count": 25,
   "metadata": {},
   "outputs": [
    {
     "data": {
      "text/plain": [
       "36.0"
      ]
     },
     "execution_count": 25,
     "metadata": {},
     "output_type": "execute_result"
    }
   ],
   "source": [
    "(2+4) ** 2 % (120 / 3)"
   ]
  },
  {
   "cell_type": "code",
   "execution_count": 26,
   "metadata": {},
   "outputs": [
    {
     "data": {
      "text/plain": [
       "9.333333333333332"
      ]
     },
     "execution_count": 26,
     "metadata": {},
     "output_type": "execute_result"
    }
   ],
   "source": [
    "(2+4) ** 2 % (120 / 9)"
   ]
  },
  {
   "cell_type": "code",
   "execution_count": 27,
   "metadata": {},
   "outputs": [
    {
     "data": {
      "text/plain": [
       "3.272727272727275"
      ]
     },
     "execution_count": 27,
     "metadata": {},
     "output_type": "execute_result"
    }
   ],
   "source": [
    "(2+4) ** 2 % (120 / 11)"
   ]
  },
  {
   "cell_type": "code",
   "execution_count": 28,
   "metadata": {},
   "outputs": [
    {
     "data": {
      "text/plain": [
       "36.0"
      ]
     },
     "execution_count": 28,
     "metadata": {},
     "output_type": "execute_result"
    }
   ],
   "source": [
    "(2+4) ** 2 % (120 / 1)"
   ]
  },
  {
   "cell_type": "code",
   "execution_count": 29,
   "metadata": {},
   "outputs": [
    {
     "data": {
      "text/plain": [
       "8.30769230769231"
      ]
     },
     "execution_count": 29,
     "metadata": {},
     "output_type": "execute_result"
    }
   ],
   "source": [
    "(2+4) ** 2 % (120 / 13)"
   ]
  },
  {
   "cell_type": "code",
   "execution_count": 30,
   "metadata": {},
   "outputs": [
    {
     "data": {
      "text/plain": [
       "0.44444444444444287"
      ]
     },
     "execution_count": 30,
     "metadata": {},
     "output_type": "execute_result"
    }
   ],
   "source": [
    "(2+4) ** 2 % (120 / 13.5)"
   ]
  },
  {
   "cell_type": "code",
   "execution_count": 31,
   "metadata": {},
   "outputs": [
    {
     "data": {
      "text/plain": [
       "1.7142857142857153"
      ]
     },
     "execution_count": 31,
     "metadata": {},
     "output_type": "execute_result"
    }
   ],
   "source": [
    "(2+4) ** 2 % (120 / 14)"
   ]
  },
  {
   "cell_type": "code",
   "execution_count": 32,
   "metadata": {},
   "outputs": [
    {
     "data": {
      "text/plain": [
       "4.0"
      ]
     },
     "execution_count": 32,
     "metadata": {},
     "output_type": "execute_result"
    }
   ],
   "source": [
    "(2+4) ** 2 % (120 / 15)"
   ]
  },
  {
   "cell_type": "code",
   "execution_count": 33,
   "metadata": {},
   "outputs": [
    {
     "data": {
      "text/plain": [
       "6.0"
      ]
     },
     "execution_count": 33,
     "metadata": {},
     "output_type": "execute_result"
    }
   ],
   "source": [
    "(2+4) ** 2 % (120 / 16)"
   ]
  },
  {
   "cell_type": "code",
   "execution_count": 36,
   "metadata": {},
   "outputs": [
    {
     "name": "stdout",
     "output_type": "stream",
     "text": [
      "I'm wasting space...\n",
      "<class 'int'>\n",
      "<class 'float'>\n"
     ]
    }
   ],
   "source": [
    "result = -2 * 10\n",
    "print(\"I'm wasting space...\")\n",
    "print(type(result))\n",
    "result = float (result)\n",
    "print(type(result))"
   ]
  },
  {
   "cell_type": "code",
   "execution_count": 37,
   "metadata": {},
   "outputs": [
    {
     "name": "stdout",
     "output_type": "stream",
     "text": [
      "5\n"
     ]
    }
   ],
   "source": [
    "myFirstVariable = 1 * 5\n",
    "print(myFirstVariable)"
   ]
  },
  {
   "cell_type": "code",
   "execution_count": 38,
   "metadata": {},
   "outputs": [
    {
     "name": "stdout",
     "output_type": "stream",
     "text": [
      "5\n"
     ]
    }
   ],
   "source": [
    "mySecondVariable = myFirstVariable\n",
    "print(mySecondVariable)"
   ]
  },
  {
   "cell_type": "code",
   "execution_count": 39,
   "metadata": {},
   "outputs": [
    {
     "name": "stdout",
     "output_type": "stream",
     "text": [
      "2\n",
      "5\n"
     ]
    }
   ],
   "source": [
    "myFirstVariable = 2\n",
    "print(myFirstVariable)\n",
    "print(mySecondVariable)"
   ]
  },
  {
   "cell_type": "code",
   "execution_count": 40,
   "metadata": {},
   "outputs": [
    {
     "name": "stdout",
     "output_type": "stream",
     "text": [
      "Peter\n"
     ]
    }
   ],
   "source": [
    "name = \"Peter\"\n",
    "\n",
    "print(name)"
   ]
  },
  {
   "cell_type": "code",
   "execution_count": 41,
   "metadata": {},
   "outputs": [
    {
     "ename": "SyntaxError",
     "evalue": "invalid syntax (<ipython-input-41-0c2164a99c14>, line 1)",
     "output_type": "error",
     "traceback": [
      "\u001b[0;36m  File \u001b[0;32m\"<ipython-input-41-0c2164a99c14>\"\u001b[0;36m, line \u001b[0;32m1\u001b[0m\n\u001b[0;31m    cheers ??? name ??? \" is awesome!\"\u001b[0m\n\u001b[0m           ^\u001b[0m\n\u001b[0;31mSyntaxError\u001b[0m\u001b[0;31m:\u001b[0m invalid syntax\n"
     ]
    }
   ],
   "source": [
    "cheers ??? name ??? \" is awesome!\"\n",
    "print(cheers)"
   ]
  },
  {
   "cell_type": "code",
   "execution_count": 42,
   "metadata": {},
   "outputs": [
    {
     "ename": "NameError",
     "evalue": "name 'cheers' is not defined",
     "output_type": "error",
     "traceback": [
      "\u001b[0;31m---------------------------------------------------------------------------\u001b[0m",
      "\u001b[0;31mNameError\u001b[0m                                 Traceback (most recent call last)",
      "\u001b[0;32m<ipython-input-42-1f3f419b3f9c>\u001b[0m in \u001b[0;36m<module>\u001b[0;34m\u001b[0m\n\u001b[0;32m----> 1\u001b[0;31m \u001b[0mcheers\u001b[0m \u001b[0;34m+\u001b[0m \u001b[0mname\u001b[0m \u001b[0;34m+\u001b[0m \u001b[0;34m\" is awesome!\"\u001b[0m\u001b[0;34m\u001b[0m\u001b[0;34m\u001b[0m\u001b[0m\n\u001b[0m\u001b[1;32m      2\u001b[0m \u001b[0mprint\u001b[0m\u001b[0;34m(\u001b[0m\u001b[0mcheers\u001b[0m\u001b[0;34m)\u001b[0m\u001b[0;34m\u001b[0m\u001b[0;34m\u001b[0m\u001b[0m\n",
      "\u001b[0;31mNameError\u001b[0m: name 'cheers' is not defined"
     ]
    }
   ],
   "source": [
    "cheers + name + \" is awesome!\"\n",
    "print(cheers)"
   ]
  },
  {
   "cell_type": "code",
   "execution_count": 43,
   "metadata": {},
   "outputs": [
    {
     "ename": "NameError",
     "evalue": "name 'cheers' is not defined",
     "output_type": "error",
     "traceback": [
      "\u001b[0;31m---------------------------------------------------------------------------\u001b[0m",
      "\u001b[0;31mNameError\u001b[0m                                 Traceback (most recent call last)",
      "\u001b[0;32m<ipython-input-43-745693607795>\u001b[0m in \u001b[0;36m<module>\u001b[0;34m\u001b[0m\n\u001b[1;32m      1\u001b[0m \u001b[0;34m\"cheers\"\u001b[0m \u001b[0;34m+\u001b[0m \u001b[0mname\u001b[0m \u001b[0;34m+\u001b[0m \u001b[0;34m\" is awesome!\"\u001b[0m\u001b[0;34m\u001b[0m\u001b[0;34m\u001b[0m\u001b[0m\n\u001b[0;32m----> 2\u001b[0;31m \u001b[0mprint\u001b[0m\u001b[0;34m(\u001b[0m\u001b[0mcheers\u001b[0m\u001b[0;34m)\u001b[0m\u001b[0;34m\u001b[0m\u001b[0;34m\u001b[0m\u001b[0m\n\u001b[0m",
      "\u001b[0;31mNameError\u001b[0m: name 'cheers' is not defined"
     ]
    }
   ],
   "source": [
    "\"cheers\" + name + \" is awesome!\"\n",
    "print(cheers)"
   ]
  },
  {
   "cell_type": "code",
   "execution_count": 44,
   "metadata": {},
   "outputs": [
    {
     "ename": "NameError",
     "evalue": "name 'cheers' is not defined",
     "output_type": "error",
     "traceback": [
      "\u001b[0;31m---------------------------------------------------------------------------\u001b[0m",
      "\u001b[0;31mNameError\u001b[0m                                 Traceback (most recent call last)",
      "\u001b[0;32m<ipython-input-44-745693607795>\u001b[0m in \u001b[0;36m<module>\u001b[0;34m\u001b[0m\n\u001b[1;32m      1\u001b[0m \u001b[0;34m\"cheers\"\u001b[0m \u001b[0;34m+\u001b[0m \u001b[0mname\u001b[0m \u001b[0;34m+\u001b[0m \u001b[0;34m\" is awesome!\"\u001b[0m\u001b[0;34m\u001b[0m\u001b[0;34m\u001b[0m\u001b[0m\n\u001b[0;32m----> 2\u001b[0;31m \u001b[0mprint\u001b[0m\u001b[0;34m(\u001b[0m\u001b[0mcheers\u001b[0m\u001b[0;34m)\u001b[0m\u001b[0;34m\u001b[0m\u001b[0;34m\u001b[0m\u001b[0m\n\u001b[0m",
      "\u001b[0;31mNameError\u001b[0m: name 'cheers' is not defined"
     ]
    }
   ],
   "source": [
    "\n",
    "\"cheers\" + name + \" is awesome!\"\n",
    "print(cheers)"
   ]
  },
  {
   "cell_type": "code",
   "execution_count": 45,
   "metadata": {},
   "outputs": [
    {
     "name": "stdout",
     "output_type": "stream",
     "text": [
      "Peter is awesome!\n"
     ]
    }
   ],
   "source": [
    "cheers = name + \" is awesome!\"\n",
    "print(cheers)"
   ]
  },
  {
   "cell_type": "code",
   "execution_count": 46,
   "metadata": {},
   "outputs": [
    {
     "name": "stdout",
     "output_type": "stream",
     "text": [
      "Mercator\n"
     ]
    }
   ],
   "source": [
    "famous_geographer = \"Mercator\"\n",
    "print(famous_geographer)"
   ]
  },
  {
   "cell_type": "code",
   "execution_count": 47,
   "metadata": {},
   "outputs": [
    {
     "name": "stdout",
     "output_type": "stream",
     "text": [
      "Mercator\n",
      "Galileo\n"
     ]
    }
   ],
   "source": [
    "this_var = \"Mercator\"\n",
    "This_var = \"Galileo\"\n",
    "\n",
    "print(this_var)\n",
    "print(This_var)"
   ]
  },
  {
   "cell_type": "code",
   "execution_count": 48,
   "metadata": {},
   "outputs": [
    {
     "name": "stdout",
     "output_type": "stream",
     "text": [
      "Здравствуйте! My name is Sputnik 1\n",
      "Sputnik 1 was the first artificial Earth satellite, launched from the Soviet Union on the 4th of October, 1957.\n"
     ]
    }
   ],
   "source": [
    "old_satellite = 'Sputnik 1'\n",
    "old_satellite_description = \" was the first artificial Earth satellite, launched from the Soviet Union on the 4th of October, 1957.\"\n",
    "print(\"Здравствуйте! My name is \" + old_satellite)\n",
    "print(old_satellite + old_satellite_description)"
   ]
  },
  {
   "cell_type": "code",
   "execution_count": 50,
   "metadata": {},
   "outputs": [
    {
     "name": "stdout",
     "output_type": "stream",
     "text": [
      "Здравствуйте! My name is Sputnik 1\n",
      "Sputnik 1 was the first artificial Earth satellite, launched from the Soviet Union on the 4th of October, 1957.\n",
      "The new satellite is landsat and the old satellite is Sputnik 1\n"
     ]
    }
   ],
   "source": [
    "old_satellite = 'Sputnik 1'\n",
    "old_satellite_description = \" was the first artificial Earth satellite, launched from the Soviet Union on the 4th of October, 1957.\"\n",
    "new_satellite = \"landsat\"\n",
    "print(\"Здравствуйте! My name is \" + old_satellite)\n",
    "print(old_satellite + old_satellite_description)\n",
    "print(\"The new satellite is \" + new_satellite + \" and the old satellite is \" + old_satellite)"
   ]
  },
  {
   "cell_type": "code",
   "execution_count": 51,
   "metadata": {},
   "outputs": [
    {
     "name": "stdout",
     "output_type": "stream",
     "text": [
      "Hello there landsat8\n"
     ]
    }
   ],
   "source": [
    "print(\"Hello there \" + (new_satellite)+\"8\" )"
   ]
  },
  {
   "cell_type": "code",
   "execution_count": 52,
   "metadata": {},
   "outputs": [
    {
     "name": "stdout",
     "output_type": "stream",
     "text": [
      "22.834645646\n"
     ]
    }
   ],
   "source": [
    "diameter_cm = 58\n",
    "cm2inches = 0.393700787\n",
    "diameter_inches = (diameter_cm * cm2inches) \n",
    "print(diameter_inches)"
   ]
  },
  {
   "cell_type": "code",
   "execution_count": 53,
   "metadata": {},
   "outputs": [
    {
     "ename": "TypeError",
     "evalue": "can only concatenate str (not \"int\") to str",
     "output_type": "error",
     "traceback": [
      "\u001b[0;31m---------------------------------------------------------------------------\u001b[0m",
      "\u001b[0;31mTypeError\u001b[0m                                 Traceback (most recent call last)",
      "\u001b[0;32m<ipython-input-53-ba4d9f254500>\u001b[0m in \u001b[0;36m<module>\u001b[0;34m\u001b[0m\n\u001b[1;32m      3\u001b[0m       \u001b[0;36m770\u001b[0m \u001b[0;34m+\u001b[0m\u001b[0;34m\u001b[0m\u001b[0;34m\u001b[0m\u001b[0m\n\u001b[1;32m      4\u001b[0m       \u001b[0;34m\" to \"\u001b[0m \u001b[0;34m+\u001b[0m\u001b[0;34m\u001b[0m\u001b[0;34m\u001b[0m\u001b[0m\n\u001b[0;32m----> 5\u001b[0;31m       \u001b[0;36m900\u001b[0m \u001b[0;34m+\u001b[0m\u001b[0;34m\u001b[0m\u001b[0;34m\u001b[0m\u001b[0m\n\u001b[0m\u001b[1;32m      6\u001b[0m       \" nanometers.\" )\n",
      "\u001b[0;31mTypeError\u001b[0m: can only concatenate str (not \"int\") to str"
     ]
    }
   ],
   "source": [
    "print(new_satellite + \"has a Near Infrared (NI), \\\n",
    "which band captures light in the wavelength from \"+\n",
    "      770 +\n",
    "      \" to \" +\n",
    "      900 +\n",
    "      \" nanometers.\" )"
   ]
  },
  {
   "cell_type": "code",
   "execution_count": 54,
   "metadata": {},
   "outputs": [
    {
     "ename": "SyntaxError",
     "evalue": "EOL while scanning string literal (<ipython-input-54-447828320445>, line 5)",
     "output_type": "error",
     "traceback": [
      "\u001b[0;36m  File \u001b[0;32m\"<ipython-input-54-447828320445>\"\u001b[0;36m, line \u001b[0;32m5\u001b[0m\n\u001b[0;31m    \"900 ''+\u001b[0m\n\u001b[0m            ^\u001b[0m\n\u001b[0;31mSyntaxError\u001b[0m\u001b[0;31m:\u001b[0m EOL while scanning string literal\n"
     ]
    }
   ],
   "source": [
    "print(new_satellite + \"has a Near Infrared (NI), \\\n",
    "which band captures light in the wavelength from \"+\n",
    "      \"770\" +\n",
    "      \" to \" +\n",
    "      \"900 ''+\n",
    "      \" nanometers.\" )"
   ]
  },
  {
   "cell_type": "code",
   "execution_count": 55,
   "metadata": {},
   "outputs": [
    {
     "name": "stdout",
     "output_type": "stream",
     "text": [
      "landsathas a Near Infrared (NI), which band captures light in the wavelength from  770  to  900  nanometers.\n"
     ]
    }
   ],
   "source": [
    "print(new_satellite + \"has a Near Infrared (NI), \\\n",
    "which band captures light in the wavelength from \"+\n",
    "      \" 770 \" +\n",
    "      \" to \" +\n",
    "      \" 900 \"  +\n",
    "      \" nanometers.\" )"
   ]
  },
  {
   "cell_type": "code",
   "execution_count": 56,
   "metadata": {},
   "outputs": [
    {
     "name": "stdout",
     "output_type": "stream",
     "text": [
      "https://www.openstreetmap.org/?mlat=51.511306575919148&mlon=-0.11596798896789551#map=15/51.51130657591914/-0.11596798896789551\n"
     ]
    }
   ],
   "source": [
    "# King's College coordinates\n",
    "# What format are they in? Does it seem appropriate?\n",
    "longitude = -0.11596798896789551\n",
    "latitude = 51.51130657591914\n",
    "\n",
    "#cast the floats to strings\n",
    "lon = str(longitude)\n",
    "lat = str(latitude)\n",
    "\n",
    "# King's College marker\n",
    "KCL_position = \"https://www.openstreetmap.org/?mlat=\"+lat+\"8&mlon=\"+lon+\"#map=15/\"+lat+\"/\"+lon\n",
    "          \n",
    "print(KCL_position)"
   ]
  },
  {
   "cell_type": "code",
   "execution_count": 57,
   "metadata": {},
   "outputs": [
    {
     "ename": "SyntaxError",
     "evalue": "invalid syntax (<ipython-input-57-23aa2afd0aac>, line 2)",
     "output_type": "error",
     "traceback": [
      "\u001b[0;36m  File \u001b[0;32m\"<ipython-input-57-23aa2afd0aac>\"\u001b[0;36m, line \u001b[0;32m2\u001b[0m\n\u001b[0;31m    print(\"The \"  projection + \" projection preserves distances along the central meridian.\")\u001b[0m\n\u001b[0m                           ^\u001b[0m\n\u001b[0;31mSyntaxError\u001b[0m\u001b[0;31m:\u001b[0m invalid syntax\n"
     ]
    }
   ],
   "source": [
    "projection=\"Cassini-Soldner\" \n",
    "print(\"The \"  projection + \" projection preserves distances along the central meridian.\")"
   ]
  },
  {
   "cell_type": "code",
   "execution_count": 58,
   "metadata": {},
   "outputs": [
    {
     "ename": "SyntaxError",
     "evalue": "invalid syntax (<ipython-input-58-9a03743efd62>, line 2)",
     "output_type": "error",
     "traceback": [
      "\u001b[0;36m  File \u001b[0;32m\"<ipython-input-58-9a03743efd62>\"\u001b[0;36m, line \u001b[0;32m2\u001b[0m\n\u001b[0;31m    print(\"The \"  projection + \" projection preserves distances along the central meridian.\")\u001b[0m\n\u001b[0m                           ^\u001b[0m\n\u001b[0;31mSyntaxError\u001b[0m\u001b[0;31m:\u001b[0m invalid syntax\n"
     ]
    }
   ],
   "source": [
    "projection = Cassini-Soldner\n",
    "print(\"The \"  projection + \" projection preserves distances along the central meridian.\")"
   ]
  },
  {
   "cell_type": "code",
   "execution_count": 59,
   "metadata": {},
   "outputs": [
    {
     "name": "stdout",
     "output_type": "stream",
     "text": [
      "The Cassini-Soldner projection preserves distances along the central meridian.\n"
     ]
    }
   ],
   "source": [
    "projection=\"Cassini-Soldner\" \n",
    "print(\"The \" + projection + \" projection preserves distances along the central meridian.\")"
   ]
  },
  {
   "cell_type": "code",
   "execution_count": 60,
   "metadata": {},
   "outputs": [
    {
     "name": "stdout",
     "output_type": "stream",
     "text": [
      "The Cassini-Soldner projection preserves distances along the central meridian.\n"
     ]
    }
   ],
   "source": [
    "projection=\"Cassini-Soldner\" \n",
    "print(\"The \" +  projection + \" projection preserves distances along the central meridian.\")"
   ]
  },
  {
   "cell_type": "code",
   "execution_count": 61,
   "metadata": {},
   "outputs": [
    {
     "ename": "NameError",
     "evalue": "name 'popn' is not defined",
     "output_type": "error",
     "traceback": [
      "\u001b[0;31m---------------------------------------------------------------------------\u001b[0m",
      "\u001b[0;31mNameError\u001b[0m                                 Traceback (most recent call last)",
      "\u001b[0;32m<ipython-input-61-8cad47596d70>\u001b[0m in \u001b[0;36m<module>\u001b[0;34m\u001b[0m\n\u001b[0;32m----> 1\u001b[0;31m \u001b[0mprint\u001b[0m\u001b[0;34m(\u001b[0m\u001b[0;34m\"london has an approx. popoulation of \"\u001b[0m\u001b[0;34m+\u001b[0m \u001b[0mpopn\u001b[0m \u001b[0;34m+\u001b[0m \u001b[0;34m\" million people \"\u001b[0m\u001b[0;34m)\u001b[0m\u001b[0;34m\u001b[0m\u001b[0;34m\u001b[0m\u001b[0m\n\u001b[0m",
      "\u001b[0;31mNameError\u001b[0m: name 'popn' is not defined"
     ]
    }
   ],
   "source": [
    "print(\"london has an approx. popoulation of \"+ popn + \" million people \")"
   ]
  },
  {
   "cell_type": "code",
   "execution_count": 62,
   "metadata": {},
   "outputs": [
    {
     "ename": "TypeError",
     "evalue": "can only concatenate str (not \"float\") to str",
     "output_type": "error",
     "traceback": [
      "\u001b[0;31m---------------------------------------------------------------------------\u001b[0m",
      "\u001b[0;31mTypeError\u001b[0m                                 Traceback (most recent call last)",
      "\u001b[0;32m<ipython-input-62-ab249c808ec9>\u001b[0m in \u001b[0;36m<module>\u001b[0;34m\u001b[0m\n\u001b[0;32m----> 1\u001b[0;31m \u001b[0;34m\"london has an approx. popoulation of\"\u001b[0m \u001b[0;34m+\u001b[0m \u001b[0;36m8.5\u001b[0m \u001b[0;34m+\u001b[0m \u001b[0;34m\"million people \"\u001b[0m\u001b[0;34m\u001b[0m\u001b[0;34m\u001b[0m\u001b[0m\n\u001b[0m",
      "\u001b[0;31mTypeError\u001b[0m: can only concatenate str (not \"float\") to str"
     ]
    }
   ],
   "source": [
    "\"london has an approx. popoulation of\" + 8.5 + \"million people \""
   ]
  },
  {
   "cell_type": "code",
   "execution_count": 63,
   "metadata": {},
   "outputs": [
    {
     "ename": "TypeError",
     "evalue": "can only concatenate str (not \"float\") to str",
     "output_type": "error",
     "traceback": [
      "\u001b[0;31m---------------------------------------------------------------------------\u001b[0m",
      "\u001b[0;31mTypeError\u001b[0m                                 Traceback (most recent call last)",
      "\u001b[0;32m<ipython-input-63-4af0a2ae95de>\u001b[0m in \u001b[0;36m<module>\u001b[0;34m\u001b[0m\n\u001b[0;32m----> 1\u001b[0;31m \u001b[0;34m\"london has an approx. popoulation of\"\u001b[0m \u001b[0;34m+\u001b[0m \u001b[0mfloat\u001b[0m\u001b[0;34m(\u001b[0m\u001b[0;36m8.5\u001b[0m\u001b[0;34m)\u001b[0m \u001b[0;34m+\u001b[0m \u001b[0;34m\"million people \"\u001b[0m\u001b[0;34m\u001b[0m\u001b[0;34m\u001b[0m\u001b[0m\n\u001b[0m",
      "\u001b[0;31mTypeError\u001b[0m: can only concatenate str (not \"float\") to str"
     ]
    }
   ],
   "source": [
    "\"london has an approx. popoulation of\" + float(8.5) + \"million people \""
   ]
  },
  {
   "cell_type": "code",
   "execution_count": 64,
   "metadata": {},
   "outputs": [
    {
     "data": {
      "text/plain": [
       "'london has an approx. popoulation of8.5million people '"
      ]
     },
     "execution_count": 64,
     "metadata": {},
     "output_type": "execute_result"
    }
   ],
   "source": [
    "\"london has an approx. popoulation of\" + str(8.5) + \"million people \""
   ]
  },
  {
   "cell_type": "code",
   "execution_count": 65,
   "metadata": {},
   "outputs": [
    {
     "data": {
      "text/plain": [
       "'london has an approx. popoulation of8.5million people '"
      ]
     },
     "execution_count": 65,
     "metadata": {},
     "output_type": "execute_result"
    }
   ],
   "source": [
    "\"london has an approx. popoulation of\" + \"8.5\" + \"million people \""
   ]
  },
  {
   "cell_type": "code",
   "execution_count": 66,
   "metadata": {},
   "outputs": [
    {
     "data": {
      "text/plain": [
       "'london has an approx. popoulation of 8.5 million people '"
      ]
     },
     "execution_count": 66,
     "metadata": {},
     "output_type": "execute_result"
    }
   ],
   "source": [
    "\"london has an approx. popoulation of\" + \" 8.5 \" + \"million people \""
   ]
  },
  {
   "cell_type": "code",
   "execution_count": 67,
   "metadata": {},
   "outputs": [
    {
     "ename": "TypeError",
     "evalue": "can only concatenate str (not \"int\") to str",
     "output_type": "error",
     "traceback": [
      "\u001b[0;31m---------------------------------------------------------------------------\u001b[0m",
      "\u001b[0;31mTypeError\u001b[0m                                 Traceback (most recent call last)",
      "\u001b[0;32m<ipython-input-67-0bb8b4a76a49>\u001b[0m in \u001b[0;36m<module>\u001b[0;34m\u001b[0m\n\u001b[1;32m      1\u001b[0m \u001b[0mlondon_population\u001b[0m \u001b[0;34m=\u001b[0m \u001b[0;36m8600000\u001b[0m\u001b[0;34m\u001b[0m\u001b[0;34m\u001b[0m\u001b[0m\n\u001b[0;32m----> 2\u001b[0;31m \u001b[0mprint\u001b[0m\u001b[0;34m(\u001b[0m\u001b[0;34m\"London's population is \"\u001b[0m \u001b[0;34m+\u001b[0m \u001b[0mlondon_population\u001b[0m\u001b[0;34m)\u001b[0m\u001b[0;34m\u001b[0m\u001b[0;34m\u001b[0m\u001b[0m\n\u001b[0m",
      "\u001b[0;31mTypeError\u001b[0m: can only concatenate str (not \"int\") to str"
     ]
    }
   ],
   "source": [
    "london_population = 8600000\n",
    "print(\"London's population is \" + london_population)"
   ]
  },
  {
   "cell_type": "code",
   "execution_count": 68,
   "metadata": {},
   "outputs": [
    {
     "name": "stdout",
     "output_type": "stream",
     "text": [
      "London's population is 8600000\n"
     ]
    }
   ],
   "source": [
    "london_population = \"8600000\"\n",
    "print(\"London's population is \" + london_population)"
   ]
  },
  {
   "cell_type": "code",
   "execution_count": 69,
   "metadata": {},
   "outputs": [
    {
     "name": "stdout",
     "output_type": "stream",
     "text": [
      "True\n",
      "This statement is: 'True'\n"
     ]
    }
   ],
   "source": [
    "myBoolean = True\n",
    "print(myBoolean)\n",
    "print(\"This statement is: '\" + str(myBoolean) + \"'\")"
   ]
  },
  {
   "cell_type": "code",
   "execution_count": 70,
   "metadata": {},
   "outputs": [
    {
     "name": "stdout",
     "output_type": "stream",
     "text": [
      "True\n"
     ]
    }
   ],
   "source": [
    "first_variable = 87.0\n",
    "second_variable = 9\n",
    "\n",
    "print(first_variable % 80 < second_variable)"
   ]
  },
  {
   "cell_type": "code",
   "execution_count": 71,
   "metadata": {},
   "outputs": [
    {
     "ename": "SyntaxError",
     "evalue": "invalid syntax (<ipython-input-71-a15d509b55c0>, line 1)",
     "output_type": "error",
     "traceback": [
      "\u001b[0;36m  File \u001b[0;32m\"<ipython-input-71-a15d509b55c0>\"\u001b[0;36m, line \u001b[0;32m1\u001b[0m\n\u001b[0;31m    print(\"Aardvark\" ??? \"Ant\")\u001b[0m\n\u001b[0m                     ^\u001b[0m\n\u001b[0;31mSyntaxError\u001b[0m\u001b[0;31m:\u001b[0m invalid syntax\n"
     ]
    }
   ],
   "source": [
    "print(\"Aardvark\" ??? \"Ant\")\n",
    "print ord(n)"
   ]
  },
  {
   "cell_type": "code",
   "execution_count": 72,
   "metadata": {},
   "outputs": [
    {
     "ename": "SyntaxError",
     "evalue": "invalid syntax (<ipython-input-72-6b49fb0e5571>, line 1)",
     "output_type": "error",
     "traceback": [
      "\u001b[0;36m  File \u001b[0;32m\"<ipython-input-72-6b49fb0e5571>\"\u001b[0;36m, line \u001b[0;32m1\u001b[0m\n\u001b[0;31m    print(\"Aardvark\" ??? \"Ant\")\u001b[0m\n\u001b[0m                     ^\u001b[0m\n\u001b[0;31mSyntaxError\u001b[0m\u001b[0;31m:\u001b[0m invalid syntax\n"
     ]
    }
   ],
   "source": [
    "print(\"Aardvark\" ??? \"Ant\")\n",
    "print (ord(n))\n",
    "print (ord(t))"
   ]
  },
  {
   "cell_type": "code",
   "execution_count": 73,
   "metadata": {},
   "outputs": [
    {
     "name": "stdout",
     "output_type": "stream",
     "text": [
      "False\n"
     ]
    },
    {
     "ename": "NameError",
     "evalue": "name 'n' is not defined",
     "output_type": "error",
     "traceback": [
      "\u001b[0;31m---------------------------------------------------------------------------\u001b[0m",
      "\u001b[0;31mNameError\u001b[0m                                 Traceback (most recent call last)",
      "\u001b[0;32m<ipython-input-73-269693a4d3ac>\u001b[0m in \u001b[0;36m<module>\u001b[0;34m\u001b[0m\n\u001b[1;32m      1\u001b[0m \u001b[0mprint\u001b[0m\u001b[0;34m(\u001b[0m\u001b[0;34m\"Aardvark\"\u001b[0m \u001b[0;34m>\u001b[0m \u001b[0;34m\"Ant\"\u001b[0m\u001b[0;34m)\u001b[0m\u001b[0;34m\u001b[0m\u001b[0;34m\u001b[0m\u001b[0m\n\u001b[0;32m----> 2\u001b[0;31m \u001b[0mprint\u001b[0m \u001b[0;34m(\u001b[0m\u001b[0mord\u001b[0m\u001b[0;34m(\u001b[0m\u001b[0mn\u001b[0m\u001b[0;34m)\u001b[0m\u001b[0;34m)\u001b[0m\u001b[0;34m\u001b[0m\u001b[0;34m\u001b[0m\u001b[0m\n\u001b[0m\u001b[1;32m      3\u001b[0m \u001b[0mprint\u001b[0m \u001b[0;34m(\u001b[0m\u001b[0mord\u001b[0m\u001b[0;34m(\u001b[0m\u001b[0mt\u001b[0m\u001b[0;34m)\u001b[0m\u001b[0;34m)\u001b[0m\u001b[0;34m\u001b[0m\u001b[0;34m\u001b[0m\u001b[0m\n",
      "\u001b[0;31mNameError\u001b[0m: name 'n' is not defined"
     ]
    }
   ],
   "source": [
    "print(\"Aardvark\" > \"Ant\")\n",
    "print (ord(n))\n",
    "print (ord(t))"
   ]
  },
  {
   "cell_type": "code",
   "execution_count": 74,
   "metadata": {},
   "outputs": [
    {
     "ename": "SyntaxError",
     "evalue": "invalid syntax (<ipython-input-74-0e760f11f0a9>, line 1)",
     "output_type": "error",
     "traceback": [
      "\u001b[0;36m  File \u001b[0;32m\"<ipython-input-74-0e760f11f0a9>\"\u001b[0;36m, line \u001b[0;32m1\u001b[0m\n\u001b[0;31m    print(\"Aardvark\" ??? \"Ant\")\u001b[0m\n\u001b[0m                     ^\u001b[0m\n\u001b[0;31mSyntaxError\u001b[0m\u001b[0;31m:\u001b[0m invalid syntax\n"
     ]
    }
   ],
   "source": [
    "print(\"Aardvark\" ??? \"Ant\")\n",
    "print (ord(\"n\"))\n",
    "print (ord(\"t\"))"
   ]
  },
  {
   "cell_type": "code",
   "execution_count": 75,
   "metadata": {},
   "outputs": [
    {
     "name": "stdout",
     "output_type": "stream",
     "text": [
      "False\n"
     ]
    },
    {
     "ename": "NameError",
     "evalue": "name 'n' is not defined",
     "output_type": "error",
     "traceback": [
      "\u001b[0;31m---------------------------------------------------------------------------\u001b[0m",
      "\u001b[0;31mNameError\u001b[0m                                 Traceback (most recent call last)",
      "\u001b[0;32m<ipython-input-75-269693a4d3ac>\u001b[0m in \u001b[0;36m<module>\u001b[0;34m\u001b[0m\n\u001b[1;32m      1\u001b[0m \u001b[0mprint\u001b[0m\u001b[0;34m(\u001b[0m\u001b[0;34m\"Aardvark\"\u001b[0m \u001b[0;34m>\u001b[0m \u001b[0;34m\"Ant\"\u001b[0m\u001b[0;34m)\u001b[0m\u001b[0;34m\u001b[0m\u001b[0;34m\u001b[0m\u001b[0m\n\u001b[0;32m----> 2\u001b[0;31m \u001b[0mprint\u001b[0m \u001b[0;34m(\u001b[0m\u001b[0mord\u001b[0m\u001b[0;34m(\u001b[0m\u001b[0mn\u001b[0m\u001b[0;34m)\u001b[0m\u001b[0;34m)\u001b[0m\u001b[0;34m\u001b[0m\u001b[0;34m\u001b[0m\u001b[0m\n\u001b[0m\u001b[1;32m      3\u001b[0m \u001b[0mprint\u001b[0m \u001b[0;34m(\u001b[0m\u001b[0mord\u001b[0m\u001b[0;34m(\u001b[0m\u001b[0mt\u001b[0m\u001b[0;34m)\u001b[0m\u001b[0;34m)\u001b[0m\u001b[0;34m\u001b[0m\u001b[0;34m\u001b[0m\u001b[0m\n",
      "\u001b[0;31mNameError\u001b[0m: name 'n' is not defined"
     ]
    }
   ],
   "source": [
    "print(\"Aardvark\" > \"Ant\")\n",
    "print (ord(n))\n",
    "print (ord(t))"
   ]
  },
  {
   "cell_type": "code",
   "execution_count": 76,
   "metadata": {},
   "outputs": [
    {
     "name": "stdout",
     "output_type": "stream",
     "text": [
      "False\n",
      "110\n",
      "116\n"
     ]
    }
   ],
   "source": [
    "print(\"Aardvark\" > \"Ant\")\n",
    "print (ord(\"n\"))\n",
    "print (ord(\"t\"))"
   ]
  },
  {
   "cell_type": "code",
   "execution_count": 77,
   "metadata": {},
   "outputs": [
    {
     "data": {
      "text/plain": [
       "False"
      ]
     },
     "execution_count": 77,
     "metadata": {},
     "output_type": "execute_result"
    }
   ],
   "source": [
    "2 == 34"
   ]
  },
  {
   "cell_type": "code",
   "execution_count": null,
   "metadata": {},
   "outputs": [],
   "source": []
  },
  {
   "cell_type": "code",
   "execution_count": 78,
   "metadata": {},
   "outputs": [
    {
     "data": {
      "text/plain": [
       "True"
      ]
     },
     "execution_count": 78,
     "metadata": {},
     "output_type": "execute_result"
    }
   ],
   "source": [
    "7 == 7"
   ]
  },
  {
   "cell_type": "code",
   "execution_count": 79,
   "metadata": {},
   "outputs": [
    {
     "data": {
      "text/plain": [
       "True"
      ]
     },
     "execution_count": 79,
     "metadata": {},
     "output_type": "execute_result"
    }
   ],
   "source": [
    "\"Foo\" == \"Foo\""
   ]
  },
  {
   "cell_type": "code",
   "execution_count": 80,
   "metadata": {},
   "outputs": [
    {
     "data": {
      "text/plain": [
       "False"
      ]
     },
     "execution_count": 80,
     "metadata": {},
     "output_type": "execute_result"
    }
   ],
   "source": [
    "\"Foo\" == \"Bar\""
   ]
  },
  {
   "cell_type": "code",
   "execution_count": 81,
   "metadata": {},
   "outputs": [
    {
     "data": {
      "text/plain": [
       "True"
      ]
     },
     "execution_count": 81,
     "metadata": {},
     "output_type": "execute_result"
    }
   ],
   "source": [
    "10 % 3 == 3 / 3"
   ]
  },
  {
   "cell_type": "code",
   "execution_count": 82,
   "metadata": {},
   "outputs": [
    {
     "name": "stdout",
     "output_type": "stream",
     "text": [
      "1\n",
      "1.0\n"
     ]
    }
   ],
   "source": [
    "print(10 % 3)\n",
    "print(3 / 3)"
   ]
  },
  {
   "cell_type": "code",
   "execution_count": 83,
   "metadata": {},
   "outputs": [
    {
     "name": "stdout",
     "output_type": "stream",
     "text": [
      "True\n"
     ]
    }
   ],
   "source": [
    "# Reset the variables to their 'defaults'\n",
    "british_capital = \"London\"\n",
    "french_capital  = \"Paris\"\n",
    "\n",
    "# This time python is going to print True,\n",
    "# since we are comparing different things\n",
    "# using the Not Equal operator!\n",
    "print(british_capital != french_capital)"
   ]
  },
  {
   "cell_type": "code",
   "execution_count": 84,
   "metadata": {},
   "outputs": [
    {
     "name": "stdout",
     "output_type": "stream",
     "text": [
      "> Condition #1\n",
      "> Condition #3\n",
      "     My var: 6\n",
      "Done.\n"
     ]
    }
   ],
   "source": [
    "# Condition 1\n",
    "if 2 > 1:\n",
    "    print(\"> Condition #1\")\n",
    "    \n",
    "# Condition 2\n",
    "if 1 > 2: \n",
    "    print(\"> Condition #2\")\n",
    "    \n",
    "# Condition 3\n",
    "if \"Foo\" == \"Foo\":\n",
    "    print(\"> Condition #3\")\n",
    "    myVar = 1 + 5\n",
    "    print(\"     My var: \" + str(myVar))\n",
    "    \n",
    "# Condition 4\n",
    "if \"Foo\" != \"Foo\":\n",
    "    print(\"> Condition #4\")\n",
    "    myVar = 1 + 5\n",
    "    print(\"     My var: \" + str(myVar))\n",
    "    \n",
    "print(\"Done.\")"
   ]
  },
  {
   "cell_type": "code",
   "execution_count": 85,
   "metadata": {},
   "outputs": [
    {
     "name": "stdout",
     "output_type": "stream",
     "text": [
      "London is larger than Paris\n"
     ]
    }
   ],
   "source": [
    "london_population = 8600000\n",
    "paris_population  = 2200000 \n",
    "\n",
    "if london_population > paris_population:\n",
    "    print(\"London is larger than Paris\")"
   ]
  },
  {
   "cell_type": "code",
   "execution_count": 86,
   "metadata": {},
   "outputs": [
    {
     "name": "stdout",
     "output_type": "stream",
     "text": [
      "8600000 is more than 2 million people\n",
      "8600000 is less than 10 million people\n"
     ]
    }
   ],
   "source": [
    "london_population = 8600000\n",
    "\n",
    "if london_population > 2000000:\n",
    "    print(str(london_population) + \" is more than 2 million people\")\n",
    "\n",
    "if london_population < 10000000:\n",
    "    print(str(london_population) + \" is less than 10 million people\")"
   ]
  },
  {
   "cell_type": "code",
   "execution_count": 87,
   "metadata": {},
   "outputs": [
    {
     "name": "stdout",
     "output_type": "stream",
     "text": [
      "Good job\n"
     ]
    }
   ],
   "source": [
    "if (london_population % 8000000) == 600000:\n",
    "    print(\"Good job\")"
   ]
  },
  {
   "cell_type": "code",
   "execution_count": 88,
   "metadata": {},
   "outputs": [
    {
     "name": "stdout",
     "output_type": "stream",
     "text": [
      "The largest city is London\n"
     ]
    }
   ],
   "source": [
    "newyork_population = 8400000 \n",
    "\n",
    "if london_population < newyork_population:\n",
    "    largest_city = \"New York\" \n",
    "else:\n",
    "    largest_city = \"London\"\n",
    "    \n",
    "print(\"The largest city is \" + largest_city)"
   ]
  },
  {
   "cell_type": "code",
   "execution_count": 90,
   "metadata": {},
   "outputs": [
    {
     "name": "stdout",
     "output_type": "stream",
     "text": [
      "London's popuation is above my threshold\n"
     ]
    }
   ],
   "source": [
    "mythreshold = 1000000\n",
    "if london_population <= mythreshold:\n",
    "    print(\"London's population is below my threshold\")\n",
    "else: \n",
    "    print(\"London's popuation is above my threshold\")"
   ]
  },
  {
   "cell_type": "code",
   "execution_count": 91,
   "metadata": {},
   "outputs": [
    {
     "name": "stdout",
     "output_type": "stream",
     "text": [
      "London is below my upper threshold.\n",
      "And now back to normal code execution.\n"
     ]
    }
   ],
   "source": [
    "# Like so:\n",
    "myUpperBoundary = 12000000\n",
    "myLowerBoundary = 2000000\n",
    "\n",
    "if london_population < myUpperBoundary:\n",
    "    print(\"London is below my upper threshold.\")\n",
    "\n",
    "elif london_population > myLowerBoundary:\n",
    "    print(\"London is above my lower threshold.\")\n",
    "\n",
    "elif london_population != 340000: \n",
    "    print(\"London population is not equal to 340,000.\")\n",
    "    \n",
    "else:\n",
    "    print(\"How did I get here?\")\n",
    "    \n",
    "print(\"And now back to normal code execution.\")"
   ]
  },
  {
   "cell_type": "code",
   "execution_count": 92,
   "metadata": {},
   "outputs": [
    {
     "name": "stdout",
     "output_type": "stream",
     "text": [
      "Well, looks like none of the above statements were true!\n",
      "And now back to normal code execution.\n"
     ]
    }
   ],
   "source": [
    "london_population = 10\n",
    "if london_population <= 9:\n",
    "    print(\"First case is true\")\n",
    "elif london_population > 99: \n",
    "    print(\"Second case is true\")\n",
    "elif london_population == 4:\n",
    "    print(\"Third case is true\")\n",
    "else:\n",
    "    print(\"Well, looks like none of the above statements were true!\")\n",
    "\n",
    "print(\"And now back to normal code execution.\")"
   ]
  },
  {
   "cell_type": "code",
   "execution_count": 93,
   "metadata": {},
   "outputs": [
    {
     "name": "stdout",
     "output_type": "stream",
     "text": [
      "1. Both conditions are true!\n",
      "2. Mmm... something's wrong!\n"
     ]
    }
   ],
   "source": [
    "condition1 = 2 < 4 # True\n",
    "condition2 = (6/3) == 2 # Also True\n",
    "\n",
    "if (condition1) and (condition2): # Both are true\n",
    "    print(\"1. Both conditions are true!\")\n",
    "else:\n",
    "    print(\"1. Mmm... something's wrong!\")\n",
    "    \n",
    "if condition1 and 6.0/5 == 1:\n",
    "    print(\"2. Both conditions are true!\")\n",
    "else:\n",
    "    print(\"2. Mmm... something's wrong!\")"
   ]
  },
  {
   "cell_type": "code",
   "execution_count": 98,
   "metadata": {},
   "outputs": [
    {
     "name": "stdout",
     "output_type": "stream",
     "text": [
      "Either one or two conditions are true!\n"
     ]
    }
   ],
   "source": [
    "condition1 = 2 < 4\n",
    "condition2 = (6/3) != 2\n",
    "\n",
    "if (condition1) or (condition2):\n",
    "    print(\"Either one or two conditions are true!\")\n",
    "else:\n",
    "    print('mmh..they must both be false')"
   ]
  },
  {
   "cell_type": "code",
   "execution_count": 100,
   "metadata": {},
   "outputs": [
    {
     "name": "stdout",
     "output_type": "stream",
     "text": [
      "2\n"
     ]
    }
   ],
   "source": [
    "\n",
    "\n",
    "\n",
    "if not conditionInverted:\n",
    "   print(\"I'm True\")\n",
    "elif not (4%3  != 1):\n",
    "   print(\"2\")\n",
    "else:\n",
    "   print(\"99\" == str(99)+1)"
   ]
  },
  {
   "cell_type": "code",
   "execution_count": 117,
   "metadata": {},
   "outputs": [
    {
     "name": "stdin",
     "output_type": "stream",
     "text": [
      "\n",
      "Choose a neighbourhood by type the corresponding number:\n",
      "1- City of London\n",
      "2- Lambeth\n",
      "3- Camden\n",
      "4- Hackney\n",
      " 4\n"
     ]
    },
    {
     "name": "stdout",
     "output_type": "stream",
     "text": [
      "You have choosen number :4\n",
      "The corresponding borought has a population of246.27thousand people\n",
      "Visit the borough clicking here: http://www.openstreetmap.org/?mlat=51.5432&mlon=-0.0709#map=13/51.5432/-0.0709\n"
     ]
    }
   ],
   "source": [
    "# variable with the City borough's total population (in thousands)\n",
    "city_of_London = 7.375\n",
    "# City borough's map marker\n",
    "city_coords = \"http://www.openstreetmap.org/?mlat=51.5151&mlon=-0.0933#map=14/51.5151/-0.0933\"\n",
    "\n",
    "# Other boroughs\n",
    "camden = 220.338\n",
    "camden_coords = \"http://www.openstreetmap.org/?mlat=51.5424&mlon=-0.2252#map=12/51.5424/-0.2252\"\n",
    "hackney = 246.270\n",
    "hackney_coords = \"http://www.openstreetmap.org/?mlat=51.5432&mlon=-0.0709#map=13/51.5432/-0.0709\"\n",
    "lambeth = 303.086\n",
    "lambeth_coords = \"http://www.openstreetmap.org/?mlat=51.5013&mlon=-0.1172#map=13/51.5013/-0.1172\"\n",
    "\n",
    "# Let's ask the user for some input\n",
    "# and store his answer\n",
    "user_input = input(\"\"\"\n",
    "Choose a neighbourhood by type the corresponding number:\n",
    "1- City of London\n",
    "2- Lambeth\n",
    "3- Camden\n",
    "4- Hackney\n",
    "\"\"\")\n",
    "\n",
    "# Arbitrarily assign case 1 to City of London borough\n",
    "\n",
    "if (user_input == '1'):    \n",
    "    choosen_borough = city_of_London\n",
    "    borough_coordinates = city_coords \n",
    "    # print the output\n",
    "    # notice we are casting the user answer to string\n",
    "    print(\"You have choosen number : \"+ str(user_input))\n",
    "    print(\"The corresponding borough has a population of \"+ str(choosen_borough) +\" thousand people\")\n",
    "    print(\"Visit the borough clicking here: \" + borough_coordinates)\n",
    "\n",
    "    # ---------------\n",
    "    # add more cases here...\n",
    "    # ---------------\n",
    "#lambeth 2\n",
    "elif (user_input == \"2\"):\n",
    "    choosen_borough = lambeth\n",
    "    borough_coordinates = lambeth_coords\n",
    "    print(\"You have choosen number :\"+ str(user_input))\n",
    "    print(\"The corresponding borought has a population of\"+ str(choosen_borough)+\"thousand people\")\n",
    "    print(\"Visit the borough clicking here: \" + borough_coordinates)\n",
    "#candem 3\n",
    "elif (user_input == \"3\"):\n",
    "    choosen_borough = camden\n",
    "    borough_coordinates = camden_coords\n",
    "    print(\"You have choosen number :\"+ str(user_input))\n",
    "    print(\"The corresponding borought has a population of\"+ str(choosen_borough)+\"thousand people\")\n",
    "    print(\"Visit the borough clicking here: \" + borough_coordinates)\n",
    "    \n",
    "#hackney 4\n",
    "elif  (user_input == \"4\"):\n",
    "    choosen_borough = hackney\n",
    "    borough_coordinates = hackney_coords\n",
    "    print(\"You have choosen number :\"+ str(user_input))\n",
    "    print(\"The corresponding borought has a population of\"+ str(choosen_borough)+\"thousand people\")\n",
    "    print(\"Visit the borough clicking here: \" + borough_coordinates)\n",
    "    \n",
    "else:\n",
    "    print(\"That's not in my system. Please try again!\")"
   ]
  },
  {
   "cell_type": "code",
   "execution_count": 123,
   "metadata": {},
   "outputs": [
    {
     "name": "stdout",
     "output_type": "stream",
     "text": [
      "22\n",
      "22\n",
      "32\n"
     ]
    }
   ],
   "source": [
    "x = 12\n",
    "y = 10\n",
    "\n",
    "z = x + y\n",
    "x = x + y\n",
    "y = z + y\n",
    "\n",
    "print(z)\n",
    "print(x)\n",
    "print(y)\n"
   ]
  },
  {
   "cell_type": "code",
   "execution_count": 124,
   "metadata": {},
   "outputs": [
    {
     "name": "stdout",
     "output_type": "stream",
     "text": [
      "[1, 2, 4, 5]\n"
     ]
    }
   ],
   "source": [
    "myList = [1,2,4,5]\n",
    "print(myList)"
   ]
  },
  {
   "cell_type": "code",
   "execution_count": 125,
   "metadata": {},
   "outputs": [
    {
     "name": "stdout",
     "output_type": "stream",
     "text": [
      "['hi I am', 2312, 'mixing', 6.6, 90, 'strings, integers and floats']\n"
     ]
    }
   ],
   "source": [
    "myList = ['hi I am', 2312, 'mixing', 6.6, 90, 'strings, integers and floats']\n",
    "print(myList)"
   ]
  },
  {
   "cell_type": "code",
   "execution_count": 127,
   "metadata": {},
   "outputs": [
    {
     "name": "stdout",
     "output_type": "stream",
     "text": [
      "The first element is: first\n",
      "The third element is: third\n",
      "third\n",
      "second\n"
     ]
    }
   ],
   "source": [
    "myNewList = ['first', 'second', 'third']\n",
    "print(\"The first element is: \" + myNewList[0])\n",
    "print(\"The third element is: \" + myNewList[2])\n",
    "print(myNewList[-1])\n",
    "print(myNewList[-2])"
   ]
  },
  {
   "cell_type": "code",
   "execution_count": 132,
   "metadata": {},
   "outputs": [
    {
     "name": "stdout",
     "output_type": "stream",
     "text": [
      "The second element is :first\n"
     ]
    }
   ],
   "source": [
    "myNewList = ['first', 'second', 'third']\n",
    "print(\"The second element is :\" + myNewList[-3])"
   ]
  },
  {
   "cell_type": "code",
   "execution_count": 133,
   "metadata": {},
   "outputs": [
    {
     "name": "stdout",
     "output_type": "stream",
     "text": [
      "A\n",
      "F\n"
     ]
    }
   ],
   "source": [
    "myString = \"ABCDEF\"\n",
    "print(myString[0])\n",
    "print(myString[-1])"
   ]
  },
  {
   "cell_type": "code",
   "execution_count": 134,
   "metadata": {},
   "outputs": [
    {
     "name": "stdout",
     "output_type": "stream",
     "text": [
      "THIS \n"
     ]
    }
   ],
   "source": [
    "shortSentence = \"Now I'll just print THIS word, between the 20th and the 25th character: \"\n",
    "print(shortSentence[20:25])"
   ]
  },
  {
   "cell_type": "code",
   "execution_count": 135,
   "metadata": {},
   "outputs": [
    {
     "name": "stdout",
     "output_type": "stream",
     "text": [
      "12\n"
     ]
    }
   ],
   "source": [
    "shortSentence2 = \"A12B34c7.0\"\n",
    "print(shortSentence2[1:3])"
   ]
  },
  {
   "cell_type": "code",
   "execution_count": 137,
   "metadata": {},
   "outputs": [
    {
     "name": "stdout",
     "output_type": "stream",
     "text": [
      "Starting from the 17th position: ' HERE onwards'\n"
     ]
    }
   ],
   "source": [
    "stringToPrint = \"I will print from HERE onwards\"\n",
    "print(\"Starting from the 17th position: '\" + stringToPrint[17:] + \"'\")"
   ]
  },
  {
   "cell_type": "code",
   "execution_count": 140,
   "metadata": {},
   "outputs": [
    {
     "name": "stdout",
     "output_type": "stream",
     "text": [
      "Up to the 18th position (Way 1): ' onwards'\n",
      "Up to the 18th position (Way 2): ' onwards'\n"
     ]
    }
   ],
   "source": [
    "stringToPrint = \"I will print from HERE onwards\"\n",
    "print(\"Up to the 18th position (Way 1): '\" + stringToPrint[-8:] + \"'\")\n",
    "print(\"Up to the 18th position (Way 2): '\" + stringToPrint[22:30] + \"'\")"
   ]
  },
  {
   "cell_type": "code",
   "execution_count": 1,
   "metadata": {},
   "outputs": [
    {
     "name": "stdout",
     "output_type": "stream",
     "text": [
      "['Bob', 'Doug', 'Louise', 'Nancy', 'Sarah', 'Jane']\n",
      "['Bob', 'Phil', 'Louise', 'Nancy', 'Sarah', 'Jane']\n",
      "['Phil', 'Phil', 'Louise', 'Nancy', 'Sarah', 'Jane']\n"
     ]
    }
   ],
   "source": [
    "theParty = ['Bob','Doug','Louise','Nancy','Sarah','Jane']\n",
    "print(theParty)\n",
    "\n",
    "theParty[1] = 'Phil' # Doug is replaced at the party by Phil\n",
    "print(theParty)\n",
    "\n",
    "theParty[0] = theParty[1]\n",
    "print(theParty) # Phil is an evil genius and manages to also replace Doug with a Phil clone\n"
   ]
  },
  {
   "cell_type": "code",
   "execution_count": 2,
   "metadata": {},
   "outputs": [
    {
     "name": "stdout",
     "output_type": "stream",
     "text": [
      "['Babbage', 'Lovelace', 'Torvald', 'Knuth']\n"
     ]
    }
   ],
   "source": [
    "britishProgrammers = [\"Babbage\", \"Lovelace\"]\n",
    "nonBritishProgrammers = [\"Torvald\", \"Knuth\"]\n",
    "\n",
    "famousProgrammers = britishProgrammers + nonBritishProgrammers\n",
    "print(famousProgrammers)"
   ]
  },
  {
   "cell_type": "code",
   "execution_count": 3,
   "metadata": {},
   "outputs": [
    {
     "name": "stdout",
     "output_type": "stream",
     "text": [
      "['Babbage', 'Lovelace', 'Babbage', 'Lovelace']\n"
     ]
    }
   ],
   "source": [
    "print(britishProgrammers * 2)"
   ]
  },
  {
   "cell_type": "code",
   "execution_count": 4,
   "metadata": {},
   "outputs": [
    {
     "data": {
      "text/plain": [
       "['Wozniak', 'Van Rossum']"
      ]
     },
     "execution_count": 4,
     "metadata": {},
     "output_type": "execute_result"
    }
   ],
   "source": [
    "otherNonBritishProgrammers = [\"Wozniak\" , \"Van Rossum\"]\n",
    "otherNonBritishProgrammers\n"
   ]
  },
  {
   "cell_type": "code",
   "execution_count": 5,
   "metadata": {},
   "outputs": [
    {
     "name": "stdout",
     "output_type": "stream",
     "text": [
      "['Torvald', 'Knuth', 'Wozniak', 'Van Rossum']\n"
     ]
    }
   ],
   "source": [
    "print(nonBritishProgrammers + otherNonBritishProgrammers)"
   ]
  },
  {
   "cell_type": "code",
   "execution_count": 6,
   "metadata": {},
   "outputs": [
    {
     "name": "stdout",
     "output_type": "stream",
     "text": [
      "True\n",
      "False\n",
      "True\n",
      "False\n"
     ]
    }
   ],
   "source": [
    "print ('Lovelace' in britishProgrammers)\n",
    "print ('Lovelace' in nonBritishProgrammers)\n",
    "\n",
    "letters = ['a','b','c','d','e','f','g','h','i']\n",
    "print ('e' in letters)\n",
    "print ('z' in letters)"
   ]
  },
  {
   "cell_type": "code",
   "execution_count": 7,
   "metadata": {},
   "outputs": [
    {
     "name": "stdout",
     "output_type": "stream",
     "text": [
      "['Phil', 'Phil', 'Louise', 'Nancy', 'Sarah', 'Jane']\n",
      "True\n",
      "False\n"
     ]
    }
   ],
   "source": [
    "print(theParty)\n",
    "print('Bob' not in theParty)\n",
    "print('Jane' not in theParty)"
   ]
  },
  {
   "cell_type": "code",
   "execution_count": 1,
   "metadata": {},
   "outputs": [
    {
     "name": "stdout",
     "output_type": "stream",
     "text": [
      "Lady Ada Lovelace is considered to be the first programmer.\n"
     ]
    }
   ],
   "source": [
    "firstProgrammerSurnames = [\"Babbage\", \"Lovelace\"]\n",
    "firstProgrammerNames    = [\"Charles\", \"Ada\"]\n",
    "\n",
    "firstProgrammerSurnames[1] = firstProgrammerNames[1] + \" \" + firstProgrammerSurnames[1]\n",
    "\n",
    "print(\"Lady \"+ firstProgrammerSurnames[1] +\" is considered to be the first programmer.\") \n"
   ]
  },
  {
   "cell_type": "code",
   "execution_count": 2,
   "metadata": {},
   "outputs": [
    {
     "name": "stdout",
     "output_type": "stream",
     "text": [
      "['New item', 'Another new item', 'And another one!']\n"
     ]
    }
   ],
   "source": [
    "myList = [] # An empty list\n",
    "\n",
    "myList = myList + ['New item']\n",
    "myList = myList + ['Another new item']\n",
    "myList = myList + ['And another one!']\n",
    "\n",
    "print(myList)"
   ]
  },
  {
   "cell_type": "code",
   "execution_count": 3,
   "metadata": {},
   "outputs": [
    {
     "name": "stdout",
     "output_type": "stream",
     "text": [
      "['New item', 'Another new item', 'And another one!']\n"
     ]
    }
   ],
   "source": [
    "myList = [] # An empty list\n",
    "\n",
    "myList.append('New item')\n",
    "myList.append('Another new item')\n",
    "myList.append('And another one!')\n",
    "\n",
    "print(myList)"
   ]
  },
  {
   "cell_type": "code",
   "execution_count": 4,
   "metadata": {},
   "outputs": [
    {
     "name": "stdout",
     "output_type": "stream",
     "text": [
      "['Iria', 'Carreira', 'Castro']\n"
     ]
    }
   ],
   "source": [
    "myName = [] #an empty name\n",
    "\n",
    "myName.append('Iria')\n",
    "myName.append('Carreira')\n",
    "myName.append('Castro')\n",
    "\n",
    "print(myName)"
   ]
  },
  {
   "cell_type": "code",
   "execution_count": 10,
   "metadata": {},
   "outputs": [
    {
     "data": {
      "text/plain": [
       "4"
      ]
     },
     "execution_count": 10,
     "metadata": {},
     "output_type": "execute_result"
    }
   ],
   "source": [
    "theParty = ['Bob','Doug','Louise','Nancy','Sarah','Jane']\n",
    "theParty.index(\"Sarah\")\n"
   ]
  },
  {
   "cell_type": "code",
   "execution_count": 11,
   "metadata": {},
   "outputs": [
    {
     "name": "stdout",
     "output_type": "stream",
     "text": [
      "['Lovelace', 'Turing']\n"
     ]
    }
   ],
   "source": [
    "britishProgrammers = ['Lovelace']\n",
    "britishProgrammers.append(\"Turing\")\n",
    "print(britishProgrammers)"
   ]
  },
  {
   "cell_type": "code",
   "execution_count": 12,
   "metadata": {},
   "outputs": [
    {
     "name": "stdout",
     "output_type": "stream",
     "text": [
      "1\n"
     ]
    }
   ],
   "source": [
    "nonBritishProgrammers = [\"Torvald\", \"Knuth\"]\n",
    "print(nonBritishProgrammers.index(\"Knuth\"))"
   ]
  },
  {
   "cell_type": "code",
   "execution_count": 13,
   "metadata": {},
   "outputs": [
    {
     "name": "stdout",
     "output_type": "stream",
     "text": [
      "1\n",
      "2\n"
     ]
    }
   ],
   "source": [
    "nonBritishProgrammers = [\"Torvald\", \"Knuth\"]\n",
    "print(nonBritishProgrammers.index(\"Knuth\"))\n",
    "nonBritishProgrammers.append(\"Hopper\") \n",
    "print(nonBritishProgrammers.index(\"Hopper\"))"
   ]
  },
  {
   "cell_type": "code",
   "execution_count": 14,
   "metadata": {},
   "outputs": [
    {
     "name": "stdout",
     "output_type": "stream",
     "text": [
      "2\n"
     ]
    }
   ],
   "source": [
    "print( len(britishProgrammers) )"
   ]
  },
  {
   "cell_type": "code",
   "execution_count": 15,
   "metadata": {},
   "outputs": [
    {
     "name": "stdout",
     "output_type": "stream",
     "text": [
      "There are 3 elements in the list of non-British Programmers\n"
     ]
    }
   ],
   "source": [
    "length_of_list = len(nonBritishProgrammers)\n",
    "print(\"There are \" + str(length_of_list) + \" elements in the list of non-British Programmers\")"
   ]
  },
  {
   "cell_type": "code",
   "execution_count": 19,
   "metadata": {},
   "outputs": [
    {
     "name": "stdout",
     "output_type": "stream",
     "text": [
      "4\n"
     ]
    }
   ],
   "source": [
    "print(int(length_of_list + 1))"
   ]
  },
  {
   "cell_type": "code",
   "execution_count": 20,
   "metadata": {},
   "outputs": [
    {
     "data": {
      "text/plain": [
       "str"
      ]
     },
     "execution_count": 20,
     "metadata": {},
     "output_type": "execute_result"
    }
   ],
   "source": [
    "three = \"3\"\n",
    "# Let's check the data type\n",
    "type(three)"
   ]
  },
  {
   "cell_type": "code",
   "execution_count": 21,
   "metadata": {},
   "outputs": [
    {
     "data": {
      "text/plain": [
       "int"
      ]
     },
     "execution_count": 21,
     "metadata": {},
     "output_type": "execute_result"
    }
   ],
   "source": [
    "# Change to Integer\n",
    "three = int(three)\n",
    "type(three)"
   ]
  },
  {
   "cell_type": "code",
   "execution_count": 22,
   "metadata": {},
   "outputs": [
    {
     "ename": "SyntaxError",
     "evalue": "Missing parentheses in call to 'print'. Did you mean print(\"There are \" length_of_brits \" British programmers.\")? (<ipython-input-22-c08419ec5139>, line 2)",
     "output_type": "error",
     "traceback": [
      "\u001b[0;36m  File \u001b[0;32m\"<ipython-input-22-c08419ec5139>\"\u001b[0;36m, line \u001b[0;32m2\u001b[0m\n\u001b[0;31m    print \"There are \" length_of_brits \" British programmers.\"\u001b[0m\n\u001b[0m                     ^\u001b[0m\n\u001b[0;31mSyntaxError\u001b[0m\u001b[0;31m:\u001b[0m Missing parentheses in call to 'print'. Did you mean print(\"There are \" length_of_brits \" British programmers.\")?\n"
     ]
    }
   ],
   "source": [
    "length_of_brits = len(britishProgrammers)\n",
    "print \"There are \" length_of_brits \" British programmers.\""
   ]
  },
  {
   "cell_type": "code",
   "execution_count": 23,
   "metadata": {},
   "outputs": [
    {
     "ename": "SyntaxError",
     "evalue": "Missing parentheses in call to 'print'. Did you mean print(\"There are \" + lenght_of_brits + \" British programmers.\")? (<ipython-input-23-d0651838966d>, line 2)",
     "output_type": "error",
     "traceback": [
      "\u001b[0;36m  File \u001b[0;32m\"<ipython-input-23-d0651838966d>\"\u001b[0;36m, line \u001b[0;32m2\u001b[0m\n\u001b[0;31m    print \"There are \" + lenght_of_brits + \" British programmers.\"\u001b[0m\n\u001b[0m                     ^\u001b[0m\n\u001b[0;31mSyntaxError\u001b[0m\u001b[0;31m:\u001b[0m Missing parentheses in call to 'print'. Did you mean print(\"There are \" + lenght_of_brits + \" British programmers.\")?\n"
     ]
    }
   ],
   "source": [
    "length_of_brits = len(britishProgrammers)\n",
    "print \"There are \" + lenght_of_brits + \" British programmers.\""
   ]
  },
  {
   "cell_type": "code",
   "execution_count": 26,
   "metadata": {},
   "outputs": [
    {
     "name": "stdout",
     "output_type": "stream",
     "text": [
      "There are 2 British programmers.\n"
     ]
    }
   ],
   "source": [
    "length_of_brits = len(britishProgrammers)\n",
    "length_of_brits = str(length_of_brits)\n",
    "print (\"There are \" + length_of_brits + \" British programmers.\")"
   ]
  },
  {
   "cell_type": "code",
   "execution_count": 27,
   "metadata": {},
   "outputs": [
    {
     "name": "stdout",
     "output_type": "stream",
     "text": [
      "http://www.openlinkmap.org/small.php?lat=63.6314&lon=-19.6083&zoom=10\n"
     ]
    },
    {
     "data": {
      "text/html": [
       "\n",
       "        <iframe\n",
       "            width=\"100%\"\n",
       "            height=\"400\"\n",
       "            src=\"http://www.openlinkmap.org/small.php?lat=63.6314&lon=-19.6083&zoom=10\"\n",
       "            frameborder=\"0\"\n",
       "            allowfullscreen\n",
       "        ></iframe>\n",
       "        "
      ],
      "text/plain": [
       "<IPython.lib.display.IFrame at 0x7f0640d29cd0>"
      ]
     },
     "execution_count": 27,
     "metadata": {},
     "output_type": "execute_result"
    }
   ],
   "source": [
    "# We'll see more of this package import\n",
    "# later... for now, just know that it \n",
    "# provides access to a function called IFrame\n",
    "from IPython.display import IFrame\n",
    "\n",
    "# We want to view an OpenStreetMap map\n",
    "siteName  = \"http://www.openlinkmap.org/small.php\"\n",
    "\n",
    "# Specify the location and zoom level\n",
    "latitude  = 63.6314\n",
    "longitude = -19.6083\n",
    "zoomLevel = 10\n",
    "mapURL    = ['?lat=', str(latitude), '&lon=', str(longitude), '&zoom=', str(zoomLevel)]\n",
    "\n",
    "# Show the ULR\n",
    "print(siteName + ''.join(mapURL))\n",
    "\n",
    "# And now show us an inline map!\n",
    "IFrame(siteName + ''.join(mapURL), width='100%', height=400)"
   ]
  },
  {
   "cell_type": "code",
   "execution_count": 30,
   "metadata": {},
   "outputs": [
    {
     "name": "stdout",
     "output_type": "stream",
     "text": [
      "[51.51130657591914, -0.11596798896789551, 15]\n"
     ]
    }
   ],
   "source": [
    "# King's College coordinates\n",
    "# What format are they in? Does it seem appropriate?\n",
    "KCLMapCoordinates = [51.51130657591914, -0.11596798896789551, 15]\n",
    "print(KCLMapCoordinates)\n"
   ]
  },
  {
   "cell_type": "code",
   "execution_count": 31,
   "metadata": {},
   "outputs": [
    {
     "name": "stdout",
     "output_type": "stream",
     "text": [
      "http://www.openlinkmap.org/small.php?lat=51.51130657591914&lon=-0.11596798896789551&zoom=15\n"
     ]
    },
    {
     "data": {
      "text/html": [
       "\n",
       "        <iframe\n",
       "            width=\"100%\"\n",
       "            height=\"400\"\n",
       "            src=\"http://www.openlinkmap.org/small.php?lat=51.51130657591914&lon=-0.11596798896789551&zoom=15\"\n",
       "            frameborder=\"0\"\n",
       "            allowfullscreen\n",
       "        ></iframe>\n",
       "        "
      ],
      "text/plain": [
       "<IPython.lib.display.IFrame at 0x7f0643344b50>"
      ]
     },
     "execution_count": 31,
     "metadata": {},
     "output_type": "execute_result"
    }
   ],
   "source": [
    "# We want to view an OpenStreetMap map\n",
    "siteName  = \"http://www.openlinkmap.org/small.php\"\n",
    "\n",
    "# Specify the location and zoom level\n",
    "latitude  = KCLMapCoordinates[0]\n",
    "longitude = KCLMapCoordinates[1]\n",
    "zoomLevel = 15\n",
    "mapURL    = ['?lat=', str(latitude), '&lon=', str(longitude), '&zoom=', str(zoomLevel)]\n",
    "\n",
    "# Show the ULR\n",
    "print(siteName + ''.join(mapURL))\n",
    "\n",
    "# And now show us an inline map!\n",
    "IFrame(siteName + ''.join(mapURL), width='100%', height=400)"
   ]
  },
  {
   "cell_type": "code",
   "execution_count": 32,
   "metadata": {},
   "outputs": [
    {
     "name": "stdout",
     "output_type": "stream",
     "text": [
      "{'key1': 'Value 1', 3: '3rd Value', 'key2': '2nd Value', 'Fourth Key': [4.0, 'Jon']}\n"
     ]
    }
   ],
   "source": [
    "myDict = {\n",
    "    \"key1\": \"Value 1\",\n",
    "    3: \"3rd Value\",\n",
    "    \"key2\": \"2nd Value\",\n",
    "    \"Fourth Key\": [4.0, 'Jon']\n",
    "}\n",
    "print(myDict)"
   ]
  },
  {
   "cell_type": "code",
   "execution_count": 33,
   "metadata": {},
   "outputs": [
    {
     "name": "stdout",
     "output_type": "stream",
     "text": [
      "Value 1\n",
      "[4.0, 'Jon']\n"
     ]
    }
   ],
   "source": [
    "print(myDict[\"key1\"])\n",
    "print(myDict[\"Fourth Key\"])"
   ]
  },
  {
   "cell_type": "code",
   "execution_count": 34,
   "metadata": {},
   "outputs": [
    {
     "name": "stdout",
     "output_type": "stream",
     "text": [
      "2nd Value\n"
     ]
    }
   ],
   "source": [
    "print(myDict[\"key2\"])"
   ]
  },
  {
   "cell_type": "code",
   "execution_count": 35,
   "metadata": {},
   "outputs": [
    {
     "ename": "KeyError",
     "evalue": "99",
     "output_type": "error",
     "traceback": [
      "\u001b[0;31m---------------------------------------------------------------------------\u001b[0m",
      "\u001b[0;31mKeyError\u001b[0m                                  Traceback (most recent call last)",
      "\u001b[0;32m<ipython-input-35-16987ebc8ff5>\u001b[0m in \u001b[0;36m<module>\u001b[0;34m\u001b[0m\n\u001b[0;32m----> 1\u001b[0;31m \u001b[0mprint\u001b[0m\u001b[0;34m(\u001b[0m\u001b[0mmyDict\u001b[0m\u001b[0;34m[\u001b[0m\u001b[0;36m99\u001b[0m\u001b[0;34m]\u001b[0m\u001b[0;34m)\u001b[0m\u001b[0;34m\u001b[0m\u001b[0;34m\u001b[0m\u001b[0m\n\u001b[0m",
      "\u001b[0;31mKeyError\u001b[0m: 99"
     ]
    }
   ],
   "source": [
    "print(myDict[99])"
   ]
  },
  {
   "cell_type": "code",
   "execution_count": 39,
   "metadata": {},
   "outputs": [
    {
     "data": {
      "text/plain": [
       "{'Costa Rica': 'San Jose', 'Croatia': 'Zagreb', 'Cuba': 'Havana'}"
      ]
     },
     "execution_count": 39,
     "metadata": {},
     "output_type": "execute_result"
    }
   ],
   "source": [
    "country = ['Costa Rica','Croatia','Cuba'] #keys\n",
    "capital_city = ['San Jose','Zagreb','Havana'] #values\n",
    "capitalDict = dict(zip(country,capital_city))\n",
    "capitalDict"
   ]
  },
  {
   "cell_type": "code",
   "execution_count": 40,
   "metadata": {},
   "outputs": [
    {
     "name": "stdout",
     "output_type": "stream",
     "text": [
      "Zagreb\n"
     ]
    }
   ],
   "source": [
    "print(capitalDict['Croatia'])"
   ]
  },
  {
   "cell_type": "code",
   "execution_count": 1,
   "metadata": {},
   "outputs": [
    {
     "name": "stdout",
     "output_type": "stream",
     "text": [
      "The Icelandic emergency number is 112\n",
      "The American emergency number is 911\n"
     ]
    }
   ],
   "source": [
    "eNumbers = {\n",
    "    \"IS\": '112', # It's not very important here whether we use single- or double-quotes\n",
    "    \"US\": '911'\n",
    "}\n",
    "print(\"The Icelandic emergency number is \" + eNumbers['IS'])\n",
    "print(\"The American emergency number is \" + eNumbers['US']) "
   ]
  },
  {
   "cell_type": "code",
   "execution_count": 2,
   "metadata": {},
   "outputs": [
    {
     "name": "stdout",
     "output_type": "stream",
     "text": [
      "dict_keys(['Charles', 'Ada', 'Alan'])\n"
     ]
    }
   ],
   "source": [
    "programmers = {\n",
    "    \"Charles\": \"Babbage\",\n",
    "    \"Ada\": \"Lovelace\",\n",
    "    \"Alan\": \"Turing\"\n",
    "}\n",
    "\n",
    "print(programmers.keys())"
   ]
  },
  {
   "cell_type": "code",
   "execution_count": 3,
   "metadata": {},
   "outputs": [
    {
     "name": "stdout",
     "output_type": "stream",
     "text": [
      "dict_values(['Babbage', 'Lovelace', 'Turing'])\n"
     ]
    }
   ],
   "source": [
    "print(programmers.values())"
   ]
  },
  {
   "cell_type": "code",
   "execution_count": 4,
   "metadata": {},
   "outputs": [
    {
     "name": "stdout",
     "output_type": "stream",
     "text": [
      "dict_items([('Charles', 'Babbage'), ('Ada', 'Lovelace'), ('Alan', 'Turing')])\n"
     ]
    }
   ],
   "source": [
    "# Output is a list of key-value pairs!\n",
    "print(programmers.items())"
   ]
  },
  {
   "cell_type": "code",
   "execution_count": 6,
   "metadata": {},
   "outputs": [
    {
     "name": "stdout",
     "output_type": "stream",
     "text": [
      "dict_values(['San Jose', 'Zagreb', 'Havana'])\n"
     ]
    }
   ],
   "source": [
    "country = ['Costa Rica','Croatia','Cuba'] #keys\n",
    "capital_city = ['San Jose','Zagreb','Havana'] #values\n",
    "capitalDict = dict(zip(country,capital_city))\n",
    "capitalDict\n",
    "print(capitalDict.values())"
   ]
  },
  {
   "cell_type": "code",
   "execution_count": 7,
   "metadata": {},
   "outputs": [
    {
     "name": "stdout",
     "output_type": "stream",
     "text": [
      "True\n",
      "False\n",
      "True\n"
     ]
    }
   ],
   "source": [
    "print(\"Charles\" in programmers)\n",
    "print(\"Babbage\" in programmers)\n",
    "print(True  not in programmers)"
   ]
  },
  {
   "cell_type": "code",
   "execution_count": 8,
   "metadata": {},
   "outputs": [
    {
     "name": "stdout",
     "output_type": "stream",
     "text": [
      "Are you sure you spelled that right?\n"
     ]
    }
   ],
   "source": [
    "print(programmers.get(\"Lady Ada\", \"Are you sure you spelled that right?\") )"
   ]
  },
  {
   "cell_type": "code",
   "execution_count": 12,
   "metadata": {},
   "outputs": [
    {
     "name": "stdout",
     "output_type": "stream",
     "text": [
      "France\n",
      "16411\n",
      "Washington, D.C.\n"
     ]
    }
   ],
   "source": [
    "# Format: city, country, population, area (km^2)\n",
    "cityData = [\n",
    "    ['London','U.K.',8673713,1572],\n",
    "    ['Paris','France',2229621,105],\n",
    "    ['Washington, D.C.','U.S.A.',672228,177],\n",
    "    ['Abuja','Nigeria',1235880,1769],\n",
    "    ['Beijing','China',21700000,16411],\n",
    "]\n",
    "\n",
    "print(cityData[1][1])\n",
    "print(cityData[4][3])\n",
    "print(cityData[2][0])"
   ]
  },
  {
   "cell_type": "code",
   "execution_count": 13,
   "metadata": {},
   "outputs": [
    {
     "name": "stdout",
     "output_type": "stream",
     "text": [
      "The Icelandic emergency number is 112\n",
      "The American emergency number is 911\n",
      "The French emergency number is 112\n"
     ]
    }
   ],
   "source": [
    "# American Emergency Number: 911\n",
    "# British Emergency Number: 999\n",
    "# Icelandic Emergency Number: 112\n",
    "# French Emergency Number: 112\n",
    "# Russian Emergency Number: 102\n",
    "eNumbers = {\n",
    "    'IS': ['Icelandic',112],\n",
    "    'US': ['American',911],\n",
    "    'FR': ['French',112],\n",
    "    'RU': ['Russian',102],\n",
    "    'UK': ['British',999]\n",
    "}\n",
    "print(\"The \" + eNumbers['IS'][0] + \" emergency number is \" + str(eNumbers['IS'][1]))\n",
    "print(\"The \" + eNumbers['US'][0] + \" emergency number is \" + str(eNumbers['US'][1]))\n",
    "print(\"The \" + eNumbers['FR'][0] + \" emergency number is \" + str(eNumbers['FR'][1]))"
   ]
  },
  {
   "cell_type": "code",
   "execution_count": 15,
   "metadata": {},
   "outputs": [
    {
     "name": "stdout",
     "output_type": "stream",
     "text": [
      "The Russian emergency number is 102\n",
      "The British emergency number is 999\n"
     ]
    }
   ],
   "source": [
    "print(\"The \" + eNumbers['RU'][0] + \" emergency number is \" + str(eNumbers['RU'][1]))\n",
    "print(\"The \" + eNumbers['UK'][0] + \" emergency number is \" + str(eNumbers['UK'][1])) "
   ]
  },
  {
   "cell_type": "code",
   "execution_count": 16,
   "metadata": {},
   "outputs": [],
   "source": [
    "cityData2 = {\n",
    "    'London' : {\n",
    "        'population': 8673713,\n",
    "        'area': 1572, \n",
    "        'location': [51.507222, -0.1275],\n",
    "        'country': {\n",
    "            'ISO2': 'UK',\n",
    "            'Full': 'United Kingdom',\n",
    "        },\n",
    "    },\n",
    "    'Paris' : {\n",
    "        'population': 2229621,\n",
    "        'area': 105.4,\n",
    "        'location': [48.8567, 2.3508],\n",
    "        'country': {\n",
    "            'ISO2': 'FR',\n",
    "            'Full': 'France',\n",
    "        },\n",
    "    }\n",
    "}"
   ]
  },
  {
   "cell_type": "code",
   "execution_count": 17,
   "metadata": {},
   "outputs": [
    {
     "name": "stdout",
     "output_type": "stream",
     "text": [
      "{'population': 2229621, 'area': 105.4, 'location': [48.8567, 2.3508], 'country': {'ISO2': 'FR', 'Full': 'France'}}\n",
      "FR\n",
      "48.8567\n"
     ]
    }
   ],
   "source": [
    "print(cityData2['Paris'])\n",
    "print(cityData2['Paris']['country']['ISO2'])\n",
    "print(cityData2['Paris']['location'][0])"
   ]
  },
  {
   "cell_type": "code",
   "execution_count": 19,
   "metadata": {},
   "outputs": [
    {
     "name": "stdout",
     "output_type": "stream",
     "text": [
      "The population of Paris, the capital of France (FR) is 2229621.\n"
     ]
    }
   ],
   "source": [
    "print(\"The population of Paris, the capital of \" + str(cityData2['Paris']['country']['Full']) + \" \" \\\n",
    "      + \"(\" + str(cityData2['Paris']['country']['ISO2']) + \") \" + \"is \"+ str(cityData2['Paris']['population']) + \".\")"
   ]
  },
  {
   "cell_type": "code",
   "execution_count": 25,
   "metadata": {},
   "outputs": [
    {
     "name": "stdout",
     "output_type": "stream",
     "text": [
      "It has a density of 21153.899430740035\n"
     ]
    }
   ],
   "source": [
    "print(\"It has a density of \" + str(cityData2['Paris']['population'] / cityData2[\"Paris\"]['area']))"
   ]
  },
  {
   "cell_type": "code",
   "execution_count": 26,
   "metadata": {},
   "outputs": [
    {
     "name": "stdout",
     "output_type": "stream",
     "text": [
      "The while loop is ready to begin.\n",
      "The counter is at: 1\n",
      "The counter is at: 2\n",
      "The counter is at: 3\n",
      "The counter is at: 4\n",
      "The counter is at: 5\n",
      "The counter is at: 6\n",
      "The counter is at: 7\n",
      "The counter is at: 8\n",
      "The counter is at: 9\n",
      "The counter is at: 10\n",
      "The while loop has ended.\n"
     ]
    }
   ],
   "source": [
    "counter = 1 \n",
    "# Starting condition: counter is at 1\n",
    "\n",
    "print(\"The while loop is ready to begin.\")\n",
    "\n",
    "while counter <= 10: # Test the condition\n",
    "    print(\"The counter is at: \" + str(counter))\n",
    "    counter += 1 # Increment the counter\n",
    "    \n",
    "print(\"The while loop has ended.\")"
   ]
  },
  {
   "cell_type": "code",
   "execution_count": 27,
   "metadata": {},
   "outputs": [
    {
     "name": "stdout",
     "output_type": "stream",
     "text": [
      "This is an odd number\n",
      "This is an odd number: 1\n",
      "This is an odd number: 3\n",
      "This is an odd number: 5\n",
      "This is an odd number: 7\n",
      "This is an odd number: 9\n",
      "The odd number has ended\n"
     ]
    }
   ],
   "source": [
    "otherCounter = 1\n",
    "print(\"This is an odd number\")\n",
    "\n",
    "while otherCounter <= 10:\n",
    "    print(\"This is an odd number: \" + str(otherCounter))\n",
    "    otherCounter += 2\n",
    "    \n",
    "print('The odd number has ended')"
   ]
  },
  {
   "cell_type": "code",
   "execution_count": 28,
   "metadata": {},
   "outputs": [
    {
     "name": "stdout",
     "output_type": "stream",
     "text": [
      "Decrementing counter: 10\n",
      "Decrementing counter: 9\n",
      "Decrementing counter: 8\n",
      "Decrementing counter: 7\n",
      "Decrementing counter: 6\n",
      "Decrementing counter: 5\n",
      "Decrementing counter: 4\n",
      "Decrementing counter: 3\n",
      "Decrementing counter: 2\n",
      "Decrementing counter: 1\n",
      "Decrementing counter: 0\n"
     ]
    }
   ],
   "source": [
    "myThirdCounter = 10\n",
    "\n",
    "while myThirdCounter >= 0:\n",
    "    print(\"Decrementing counter: \" + str(myThirdCounter))\n",
    "    myThirdCounter -= 1"
   ]
  },
  {
   "cell_type": "code",
   "execution_count": 29,
   "metadata": {},
   "outputs": [
    {
     "name": "stdout",
     "output_type": "stream",
     "text": [
      "1\n",
      "2\n",
      "3\n",
      "4\n",
      "Time to escape this madness!\n"
     ]
    }
   ],
   "source": [
    "myFourthCounter = 1\n",
    "\n",
    "while myFourthCounter < 10:\n",
    "    \n",
    "    print(str(myFourthCounter))\n",
    "    myFourthCounter += 1\n",
    "    \n",
    "    if myFourthCounter == 5:\n",
    "        print(\"Time to escape this madness!\")\n",
    "        break"
   ]
  },
  {
   "cell_type": "code",
   "execution_count": 30,
   "metadata": {},
   "outputs": [
    {
     "name": "stdout",
     "output_type": "stream",
     "text": [
      "1 is odd.\n",
      "\t i is not 9\n",
      "2 is even.\n",
      "3 is odd.\n",
      "\t i is not 9\n",
      "4 is even.\n",
      "\t i is divisible by 4.\n",
      "5 is odd.\n",
      "\t i is not 9\n",
      "6 is even.\n",
      "7 is odd.\n",
      "\t i is not 9\n",
      "8 is even.\n",
      "\t i is divisible by 4.\n",
      "9 is odd.\n",
      "\t i is 9\n",
      "10 is even.\n",
      "11 is odd.\n",
      "\t i is not 9\n",
      "12 is even.\n",
      "\t i is divisible by 4.\n",
      "13 is odd.\n",
      "\t i is not 9\n",
      "14 is even.\n",
      "15 is odd.\n",
      "\t i is not 9\n",
      "16 is even.\n",
      "\t i is divisible by 4.\n",
      "17 is odd.\n",
      "\t i is not 9\n",
      "18 is even.\n",
      "19 is odd.\n",
      "\t i is not 9\n",
      "20 is even.\n",
      "\t i is divisible by 4.\n",
      "21 is odd.\n",
      "\t i is not 9\n"
     ]
    }
   ],
   "source": [
    "i=0\n",
    "while True:\n",
    "    i += 1\n",
    "\n",
    "    if i % 2 != 0:\n",
    "        print( str(i) + \" is odd.\")\n",
    "        if i == 9:\n",
    "            print(\"\\t i is 9\")\n",
    "        else:\n",
    "            print(\"\\t i is not 9\")\n",
    "    else:\n",
    "        print( str(i) + \" is even.\")\n",
    "        if i % 4 == 0:\n",
    "            print(\"\\t i is divisible by 4.\")\n",
    "        elif i == 8:\n",
    "            print(\"\\t i is 8\")\n",
    "\n",
    "    if i == 21:\n",
    "        break"
   ]
  },
  {
   "cell_type": "code",
   "execution_count": 33,
   "metadata": {},
   "outputs": [
    {
     "ename": "SyntaxError",
     "evalue": "invalid syntax (<ipython-input-33-0e1efcc6c1d8>, line 20)",
     "output_type": "error",
     "traceback": [
      "\u001b[0;36m  File \u001b[0;32m\"<ipython-input-33-0e1efcc6c1d8>\"\u001b[0;36m, line \u001b[0;32m20\u001b[0m\n\u001b[0;31m    else:\u001b[0m\n\u001b[0m       ^\u001b[0m\n\u001b[0;31mSyntaxError\u001b[0m\u001b[0;31m:\u001b[0m invalid syntax\n"
     ]
    }
   ],
   "source": [
    "# So use i and j as counters because \n",
    "# this is a stylistic convention and \n",
    "# helps you to to write more concise code\n",
    "# (and be constructively lazy).\n",
    "\n",
    "i = 0\n",
    "\n",
    "while True:\n",
    "    \n",
    "    i += 1\n",
    "    \n",
    "    if i % 2 != 0:\n",
    "        print(i)\n",
    "    else:\n",
    "        continue\n",
    "        print(\"WOOT!\")\n",
    " \n",
    "    \n",
    "    if i % 7 == 0:\n",
    "         else:\n",
    "                break\n",
    "    \n",
    "    if i == 25:\n",
    "        break\n",
    "    \n",
    "print(\"Done!\")"
   ]
  },
  {
   "cell_type": "code",
   "execution_count": 34,
   "metadata": {},
   "outputs": [
    {
     "name": "stdout",
     "output_type": "stream",
     "text": [
      "1\n",
      "3\n",
      "5\n",
      "WOOT!\n",
      "9\n",
      "11\n",
      "13\n",
      "15\n",
      "17\n",
      "19\n",
      "WOOT!\n",
      "23\n",
      "25\n",
      "Done!\n"
     ]
    }
   ],
   "source": [
    "i = 0\n",
    "\n",
    "while True:\n",
    "    \n",
    "    i += 1\n",
    "    \n",
    "    if i % 2 != 0:\n",
    "        if i % 7 == 0:\n",
    "            print(\"WOOT!\")\n",
    "        else:\n",
    "            print(i)\n",
    "    \n",
    "    if i == 25:\n",
    "        break\n",
    "    \n",
    "print(\"Done!\")"
   ]
  },
  {
   "cell_type": "code",
   "execution_count": 35,
   "metadata": {},
   "outputs": [
    {
     "name": "stdout",
     "output_type": "stream",
     "text": [
      "2\n",
      "4\n",
      "6\n",
      "8\n",
      "10\n",
      "12\n",
      "14\n",
      "16\n",
      "18\n",
      "20\n",
      "Done!\n"
     ]
    }
   ],
   "source": [
    "i = 0\n",
    "while True:\n",
    "    i += 1\n",
    "    \n",
    "    if i % 2 != 0:\n",
    "        continue\n",
    "    if i == 22:\n",
    "        break\n",
    "    print(i)\n",
    "\n",
    "print(\"Done!\")"
   ]
  },
  {
   "cell_type": "code",
   "execution_count": 37,
   "metadata": {},
   "outputs": [
    {
     "name": "stdout",
     "output_type": "stream",
     "text": [
      "babbage was a british computer scientist\n",
      "lovelace was a british computer scientist\n",
      "turing was a british computer scientist\n"
     ]
    }
   ],
   "source": [
    "# remember our friends, the british computer scientists?\n",
    "britishCompList = [\"babbage\", \"lovelace\", \"turing\"]\n",
    "\n",
    "# this is the condition python is going to check against\n",
    "stoppingCondition = len(britishCompList)\n",
    "\n",
    "counter = 0\n",
    "while counter < stoppingCondition:\n",
    "    print(britishCompList[counter] + \" was a british computer scientist\")\n",
    "    # don't forget to increment the counter!!!\n",
    "    counter += 1"
   ]
  },
  {
   "cell_type": "code",
   "execution_count": 38,
   "metadata": {},
   "outputs": [
    {
     "name": "stdout",
     "output_type": "stream",
     "text": [
      "This is a computer genius too: Torvald\n",
      "This is a computer genius too: Knuth\n",
      "This is a computer genius too: Swartz\n"
     ]
    }
   ],
   "source": [
    "counter = 0\n",
    "nonBritishProgrammers = [\"Torvald\", \"Knuth\", \"Swartz\"]\n",
    "stoppingCondition = len(nonBritishProgrammers)\n",
    "\n",
    "while counter < stoppingCondition :\n",
    "    print(\"This is a computer genius too: \" + nonBritishProgrammers[counter])\n",
    "    #  always remember to increment the counter!!!\n",
    "    counter += 1"
   ]
  },
  {
   "cell_type": "code",
   "execution_count": 39,
   "metadata": {},
   "outputs": [
    {
     "name": "stdout",
     "output_type": "stream",
     "text": [
      "These are geniuses too! Torvald\n",
      "These are geniuses too! Knuth\n",
      "These are geniuses too! Swartz\n"
     ]
    }
   ],
   "source": [
    "counter = 0\n",
    "nonBritishProgrammers = [\"Torvald\", \"Knuth\", \"Swartz\"]\n",
    "stoppingCondition = len(nonBritishProgrammers) -1\n",
    "\n",
    "while counter <= stoppingCondition :\n",
    "    print(\"These are geniuses too! \" + nonBritishProgrammers[counter])\n",
    "    #  always remember to increment the counter!!!\n",
    "    counter +=1"
   ]
  },
  {
   "cell_type": "code",
   "execution_count": 40,
   "metadata": {},
   "outputs": [
    {
     "name": "stdout",
     "output_type": "stream",
     "text": [
      "babbage\n",
      "lovelace\n",
      "turing\n"
     ]
    }
   ],
   "source": [
    "for programmer in britishCompList:\n",
    "    print(programmer)"
   ]
  },
  {
   "cell_type": "code",
   "execution_count": 41,
   "metadata": {},
   "outputs": [
    {
     "name": "stdout",
     "output_type": "stream",
     "text": [
      "Element number: 0\n",
      "Element number: 1\n",
      "Element number: 2\n",
      "Element number: 3\n",
      "Element number: 4\n"
     ]
    }
   ],
   "source": [
    "# WHILE LOOP\n",
    "whileCounter = 0\n",
    "myList = [0,1,2,3,4]\n",
    "stoppingCondition = len(myList)\n",
    "while whileCounter < stoppingCondition:\n",
    "    print(\"Element number: \" + str(myList[whileCounter]))\n",
    "    whileCounter +=1 "
   ]
  },
  {
   "cell_type": "code",
   "execution_count": 42,
   "metadata": {},
   "outputs": [
    {
     "name": "stdout",
     "output_type": "stream",
     "text": [
      "Element number: 0\n",
      "Element number: 1\n",
      "Element number: 2\n",
      "Element number: 3\n",
      "Element number: 4\n"
     ]
    }
   ],
   "source": [
    "for element in myList:\n",
    "     print(\"Element number: \" + str(element))"
   ]
  },
  {
   "cell_type": "code",
   "execution_count": 43,
   "metadata": {},
   "outputs": [
    {
     "name": "stdout",
     "output_type": "stream",
     "text": [
      "1\n",
      "3\n",
      "5\n",
      "7\n",
      "9\n"
     ]
    }
   ],
   "source": [
    "numbers = [1,2,3,4,5,6,7,8,9,10]\n",
    "for n in numbers:\n",
    "    if (n % 2 !=0):\n",
    "        print(n)"
   ]
  },
  {
   "cell_type": "code",
   "execution_count": 44,
   "metadata": {},
   "outputs": [
    {
     "name": "stdout",
     "output_type": "stream",
     "text": [
      "Charles\n",
      "Ada\n",
      "Alan\n"
     ]
    }
   ],
   "source": [
    "programmers = {\n",
    "    \"Charles\": \"Babbage\",\n",
    "    \"Ada\": \"Lovelace\",\n",
    "    \"Alan\":\"Turing\"\n",
    "}\n",
    "for k in programmers:\n",
    "    print(k)"
   ]
  },
  {
   "cell_type": "code",
   "execution_count": 45,
   "metadata": {},
   "outputs": [
    {
     "name": "stdout",
     "output_type": "stream",
     "text": [
      "this is the value: 'Babbage' for the key: 'Charles'\n",
      "this is the value: 'Lovelace' for the key: 'Ada'\n",
      "this is the value: 'Turing' for the key: 'Alan'\n"
     ]
    }
   ],
   "source": [
    "for k,v in programmers.items():\n",
    "    print(\"this is the value: \\'\" + v + \"\\' for the key: \\'\" + k +\"\\'\")"
   ]
  },
  {
   "cell_type": "code",
   "execution_count": 46,
   "metadata": {},
   "outputs": [
    {
     "name": "stdout",
     "output_type": "stream",
     "text": [
      "KCL_marker has a property: 'marker-color' for the key: Alan\n",
      "KCL_marker has a property: 'marker-size' for the key: Alan\n",
      "KCL_marker has a property: 'marker-symbol' for the key: Alan\n",
      "KCL_marker has a property: 'name' for the key: Alan\n"
     ]
    }
   ],
   "source": [
    "KCL_marker = {\n",
    "      \"type\": \"Feature\",\n",
    "      \"properties\": {\n",
    "        \"marker-color\": \"#7e7e7e\",\n",
    "        \"marker-size\": \"medium\",\n",
    "        \"marker-symbol\": \"\",\n",
    "        \"name\": \"KCL\"\n",
    "      },\n",
    "      \"geometry\": {\n",
    "        \"type\": \"Point\",\n",
    "        \"coordinates\": [\n",
    "          -0.11630058288574219,\n",
    "          51.51135999349117\n",
    "        ]\n",
    "      }\n",
    "    }\n",
    "for p,v in KCL_marker[\"properties\"].items():\n",
    "    print(\"KCL_marker has a property: '\" + p + \"' for the key: \" + k)"
   ]
  },
  {
   "cell_type": "code",
   "execution_count": 47,
   "metadata": {},
   "outputs": [
    {
     "data": {
      "text/plain": [
       "4"
      ]
     },
     "execution_count": 47,
     "metadata": {},
     "output_type": "execute_result"
    }
   ],
   "source": [
    "myList = [1,\"two\", False, 9.99]\n",
    "len(myList) # A function"
   ]
  },
  {
   "cell_type": "code",
   "execution_count": 48,
   "metadata": {},
   "outputs": [],
   "source": [
    "def myFirstFunc():\n",
    "    print(\"Nice to meet you!\")"
   ]
  },
  {
   "cell_type": "code",
   "execution_count": 49,
   "metadata": {},
   "outputs": [
    {
     "data": {
      "text/plain": [
       "<function __main__.myFirstFunc()>"
      ]
     },
     "execution_count": 49,
     "metadata": {},
     "output_type": "execute_result"
    }
   ],
   "source": [
    "myFirstFunc"
   ]
  },
  {
   "cell_type": "code",
   "execution_count": 50,
   "metadata": {},
   "outputs": [
    {
     "name": "stdout",
     "output_type": "stream",
     "text": [
      "Nice to meet you!\n"
     ]
    }
   ],
   "source": [
    "# the function definition\n",
    "def myFirstFunc():\n",
    "    print(\"Nice to meet you!\")\n",
    "\n",
    "# the function call\n",
    "myFirstFunc()"
   ]
  },
  {
   "cell_type": "code",
   "execution_count": 51,
   "metadata": {},
   "outputs": [
    {
     "ename": "NameError",
     "evalue": "name 'myVariable' is not defined",
     "output_type": "error",
     "traceback": [
      "\u001b[0;31m---------------------------------------------------------------------------\u001b[0m",
      "\u001b[0;31mNameError\u001b[0m                                 Traceback (most recent call last)",
      "\u001b[0;32m<ipython-input-51-b8aa5d2842ce>\u001b[0m in \u001b[0;36m<module>\u001b[0;34m\u001b[0m\n\u001b[0;32m----> 1\u001b[0;31m \u001b[0mprint\u001b[0m\u001b[0;34m(\u001b[0m\u001b[0mmyVariable\u001b[0m\u001b[0;34m)\u001b[0m\u001b[0;34m\u001b[0m\u001b[0;34m\u001b[0m\u001b[0m\n\u001b[0m\u001b[1;32m      2\u001b[0m \u001b[0mmyVariable\u001b[0m \u001b[0;34m=\u001b[0m \u001b[0;34m\"Hallo Hallo!\"\u001b[0m\u001b[0;34m\u001b[0m\u001b[0;34m\u001b[0m\u001b[0m\n",
      "\u001b[0;31mNameError\u001b[0m: name 'myVariable' is not defined"
     ]
    }
   ],
   "source": [
    "print(myVariable)\n",
    "myVariable = \"Hallo Hallo!\""
   ]
  },
  {
   "cell_type": "code",
   "execution_count": 52,
   "metadata": {},
   "outputs": [
    {
     "ename": "NameError",
     "evalue": "name 'myVariable' is not defined",
     "output_type": "error",
     "traceback": [
      "\u001b[0;31m---------------------------------------------------------------------------\u001b[0m",
      "\u001b[0;31mNameError\u001b[0m                                 Traceback (most recent call last)",
      "\u001b[0;32m<ipython-input-52-4740a90fe320>\u001b[0m in \u001b[0;36m<module>\u001b[0;34m\u001b[0m\n\u001b[0;32m----> 1\u001b[0;31m \u001b[0mprint\u001b[0m\u001b[0;34m(\u001b[0m\u001b[0mmyVariable\u001b[0m\u001b[0;34m)\u001b[0m\u001b[0;34m\u001b[0m\u001b[0;34m\u001b[0m\u001b[0m\n\u001b[0m\u001b[1;32m      2\u001b[0m \u001b[0mmyVariable\u001b[0m \u001b[0;34m=\u001b[0m \u001b[0;34m\"Hallo Hallo!\"\u001b[0m\u001b[0;34m\u001b[0m\u001b[0;34m\u001b[0m\u001b[0m\n\u001b[1;32m      3\u001b[0m \u001b[0mmyVariable\u001b[0m\u001b[0;34m(\u001b[0m\u001b[0;34m)\u001b[0m\u001b[0;34m\u001b[0m\u001b[0;34m\u001b[0m\u001b[0m\n",
      "\u001b[0;31mNameError\u001b[0m: name 'myVariable' is not defined"
     ]
    }
   ],
   "source": [
    "print(myVariable)\n",
    "myVariable = \"Hallo Hallo!\"\n",
    "myVariable()"
   ]
  },
  {
   "cell_type": "code",
   "execution_count": 53,
   "metadata": {},
   "outputs": [
    {
     "name": "stdout",
     "output_type": "stream",
     "text": [
      "Hallo Hallo!\n"
     ]
    }
   ],
   "source": [
    "myVariable = \"Hallo Hallo!\"\n",
    "print(myVariable)"
   ]
  },
  {
   "cell_type": "code",
   "execution_count": 54,
   "metadata": {},
   "outputs": [],
   "source": [
    "def genericFunc(parameter):\n",
    "    # do something to parameter\n",
    "    # ...\n",
    "    # do something else..\n",
    "    # ...\n",
    "    return \n",
    "    print(\"this line won't be ever executed! how sad!\")\n",
    "    print(\"nope. this won't either, sorry.\")"
   ]
  },
  {
   "cell_type": "code",
   "execution_count": 59,
   "metadata": {},
   "outputs": [
    {
     "name": "stdout",
     "output_type": "stream",
     "text": [
      "<function calcProportion at 0x7fa69124f8c0>\n"
     ]
    }
   ],
   "source": [
    "# London's total population\n",
    "london_pop = 7375000\n",
    "\n",
    "# list with some of London's borough. Feel free to add more! \n",
    "london_boroughs = {\n",
    "    \"City of London\": {\n",
    "     \"population\": 8072,\n",
    "     \"coordinates\" : [-0.0933, 51.5151]\n",
    "    },\n",
    "    \"Camden\": {\n",
    "     \"population\": 220338,\n",
    "     \"coordinates\" : [-0.2252,1.5424]\n",
    "    },\n",
    "    \"Hackney\": {\n",
    "     \"population\": 220338,\n",
    "     \"coordinates\" : [-0.0709, 51.5432]\n",
    "    },\n",
    "    \"Lambeth\": {\n",
    "     \"population\": 303086,\n",
    "     \"coordinates\" : [-0.1172,51.5013]\n",
    "    }\n",
    "}\n",
    "#in this function definition we provide a default value for city_pop\n",
    "#this makes sense here because we are only dealing with london\n",
    "def calcProportion(boro,city_pop=7375000):\n",
    "    return boro['population']/city_pop\n",
    "\n",
    "def getLocation(boro):\n",
    "    return boro['coordinates'] #returns the value for the `coordinates` key from the value for the `Lambeth` key"
   ]
  },
  {
   "cell_type": "code",
   "execution_count": 56,
   "metadata": {},
   "outputs": [],
   "source": []
  },
  {
   "cell_type": "code",
   "execution_count": 60,
   "metadata": {},
   "outputs": [
    {
     "ename": "NameError",
     "evalue": "name 'cities' is not defined",
     "output_type": "error",
     "traceback": [
      "\u001b[0;31m---------------------------------------------------------------------------\u001b[0m",
      "\u001b[0;31mNameError\u001b[0m                                 Traceback (most recent call last)",
      "\u001b[0;32m<ipython-input-60-41f899ecd176>\u001b[0m in \u001b[0;36m<module>\u001b[0;34m\u001b[0m\n\u001b[0;32m----> 1\u001b[0;31m \u001b[0;32mfor\u001b[0m \u001b[0mk\u001b[0m\u001b[0;34m,\u001b[0m \u001b[0mv\u001b[0m \u001b[0;32min\u001b[0m \u001b[0mcities\u001b[0m\u001b[0;34m.\u001b[0m\u001b[0mitems\u001b[0m\u001b[0;34m(\u001b[0m\u001b[0;34m)\u001b[0m\u001b[0;34m:\u001b[0m\u001b[0;34m\u001b[0m\u001b[0;34m\u001b[0m\u001b[0m\n\u001b[0m\u001b[1;32m      2\u001b[0m     \u001b[0mprint\u001b[0m\u001b[0;34m(\u001b[0m\u001b[0mk\u001b[0m \u001b[0;34m+\u001b[0m \u001b[0;34m\" -> \"\u001b[0m \u001b[0;34m+\u001b[0m \u001b[0mv\u001b[0m\u001b[0;34m[\u001b[0m\u001b[0;36m2\u001b[0m\u001b[0;34m]\u001b[0m\u001b[0;34m)\u001b[0m\u001b[0;34m\u001b[0m\u001b[0;34m\u001b[0m\u001b[0m\n",
      "\u001b[0;31mNameError\u001b[0m: name 'cities' is not defined"
     ]
    }
   ],
   "source": [
    "for k, v in cities.items():\n",
    "    print(k + \" -> \" + v[2])"
   ]
  },
  {
   "cell_type": "code",
   "execution_count": 61,
   "metadata": {},
   "outputs": [
    {
     "name": "stdout",
     "output_type": "stream",
     "text": [
      "San Francisco -> SFO\n",
      "London -> LDN\n",
      "Paris -> PAR\n",
      "Beijing -> BEI\n",
      "Chenai -> MAA\n"
     ]
    }
   ],
   "source": [
    "cities = {\n",
    "    'San Francisco': [37.77, -122.43, 'SFO'],\n",
    "    'London': [51.51, -0.08, 'LDN'],\n",
    "    'Paris': [48.86,2.29, 'PAR'],\n",
    "    'Beijing': [39.92,116.40 ,'BEI'],\n",
    "    'Chenai':[13.04, 80.16, 'MAA']\n",
    "}\n",
    "for k, v in cities.items():\n",
    "    print(k + \" -> \" + v[2])\n"
   ]
  },
  {
   "cell_type": "code",
   "execution_count": 62,
   "metadata": {},
   "outputs": [],
   "source": [
    "temperatures = [15.6, 16.5, 13.4, 14.0, 15.2, 14.8]\n",
    "cities = [\"Bristol\", \"London\", \"Manchester\", \"Edinburgh\", \"Belfast\", \"York\"]"
   ]
  },
  {
   "cell_type": "code",
   "execution_count": 64,
   "metadata": {},
   "outputs": [
    {
     "name": "stdout",
     "output_type": "stream",
     "text": [
      "[16.5, 13.4, 14.0]\n"
     ]
    }
   ],
   "source": [
    "print(temperatures[1:4])"
   ]
  },
  {
   "cell_type": "code",
   "execution_count": 66,
   "metadata": {},
   "outputs": [
    {
     "name": "stdout",
     "output_type": "stream",
     "text": [
      "[15.2, 14.8]\n",
      "[15.2, 14.8]\n"
     ]
    }
   ],
   "source": [
    "print(temperatures[4:6])\n",
    "print(temperatures[-2:])"
   ]
  },
  {
   "cell_type": "code",
   "execution_count": 68,
   "metadata": {},
   "outputs": [
    {
     "name": "stdout",
     "output_type": "stream",
     "text": [
      "The average temperature in Manchester is 13.4 degrees.\n"
     ]
    }
   ],
   "source": [
    "temperatures = [15.6, 16.5, 13.4, 14.0, 15.2, 14.8]\n",
    "cities = [\"Bristol\", \"London\", \"Manchester\", \"Edinburgh\", \"Belfast\", \"York\"]\n",
    "city=\"Manchester\" # Use this to get the solution...\n",
    "index = cities.index(city)\n",
    "print(\"The average temperature in \" + cities[index] + \" is \" + str(temperatures[index]) + \" degrees.\")"
   ]
  },
  {
   "cell_type": "code",
   "execution_count": null,
   "metadata": {},
   "outputs": [],
   "source": []
  }
 ],
 "metadata": {
  "kernelspec": {
   "display_name": "Python 3",
   "language": "python",
   "name": "python3"
  },
  "language_info": {
   "codemirror_mode": {
    "name": "ipython",
    "version": 3
   },
   "file_extension": ".py",
   "mimetype": "text/x-python",
   "name": "python",
   "nbconvert_exporter": "python",
   "pygments_lexer": "ipython3",
   "version": "3.7.8"
  }
 },
 "nbformat": 4,
 "nbformat_minor": 4
}
